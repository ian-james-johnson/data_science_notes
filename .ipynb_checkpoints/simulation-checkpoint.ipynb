{
 "cells": [
  {
   "cell_type": "code",
   "execution_count": 55,
   "id": "3744a460",
   "metadata": {},
   "outputs": [],
   "source": [
    "import numpy as np\n",
    "import pandas as pd"
   ]
  },
  {
   "cell_type": "code",
   "execution_count": 56,
   "id": "5a51da70",
   "metadata": {},
   "outputs": [
    {
     "data": {
      "text/plain": [
       "0.166367"
      ]
     },
     "execution_count": 56,
     "metadata": {},
     "output_type": "execute_result"
    }
   ],
   "source": [
    "#1\n",
    "# How likely is it that you roll doubles when rolling two dice?\n",
    "outcomes = [1,2,3,4,5,6]\n",
    "n_simulations = 1_000_000 # number of times that we roll both dice\n",
    "\n",
    "die1 = np.random.choice(outcomes, size = n_simulations)\n",
    "die2 = np.random.choice(outcomes, size = n_simulations)\n",
    "doubles = die1 == die2\n",
    "doubles.mean()"
   ]
  },
  {
   "cell_type": "code",
   "execution_count": 60,
   "id": "abf7d661",
   "metadata": {},
   "outputs": [
    {
     "name": "stdout",
     "output_type": "stream",
     "text": [
      "Chance of getting exactly 3 heads:\n",
      "0.21873\n",
      "Chance of getting more than 3 heads:\n",
      "0.636575\n"
     ]
    }
   ],
   "source": [
    "#2\n",
    "# If you flip 8 coins, what is the probability of getting exactly 3 heads?\n",
    "# What is the probability of getting more than 3 heads?\n",
    "outcomes = [True, False]\n",
    "# heads = True\n",
    "n_simulations = 1_000_000 # number of times that we repeat the trials\n",
    "n_trials = 8 # number of coins in each trial\n",
    "flips = np.random.choice(outcomes, size = (n_simulations, n_trials))\n",
    "count_heads = flips.sum(axis=1)\n",
    "exactly_3 = (count_heads == 3).mean()\n",
    "morethan_3 = (count_heads > 3).mean()\n",
    "print(\"Chance of getting exactly 3 heads:\")\n",
    "print(exactly_3)\n",
    "print(\"Chance of getting more than 3 heads:\")\n",
    "print(morethan_3)"
   ]
  },
  {
   "cell_type": "code",
   "execution_count": 72,
   "id": "9e4355e5",
   "metadata": {},
   "outputs": [
    {
     "name": "stdout",
     "output_type": "stream",
     "text": [
      "0.062488\n"
     ]
    }
   ],
   "source": [
    "#3\n",
    "# There are approximitely 3 web development cohorts for every 1 data science cohort\n",
    "# at Codeup. Assuming that Codeup randomly selects an alumni to put on a billboard, \n",
    "# what are the odds that the two billboards I drive past both have data science students \n",
    "# on them?\n",
    "# treat each sign as a biased coin flip, with 75% chance for web development and \n",
    "# 25% chance for data science (3:1, 3+1=4).\n",
    "# there are two biased coin flips / billboards\n",
    "# 0.25 * 0.25 = 0.0625\n",
    "\n",
    "n_simulations = n_rows = 1_000_000\n",
    "n_cols = 2\n",
    "prob_ds = 0.25 #1/4 billboards are for data science\n",
    "data = np.random.random((n_rows, n_cols))\n",
    "result = ((data <= prob_ds).sum(axis=1) == 2).mean()\n",
    "print(result)"
   ]
  },
  {
   "cell_type": "code",
   "execution_count": 79,
   "id": "3e9b8300",
   "metadata": {},
   "outputs": [
    {
     "name": "stdout",
     "output_type": "stream",
     "text": [
      "0.61695\n"
     ]
    }
   ],
   "source": [
    "#4\n",
    "# Codeup students buy, on average, 3 poptart packages (+- 1.5) a day\n",
    "# from the snack vending machine.\n",
    "# If on monday the machine is restocked with 17 poptart packages,\n",
    "# how likely is it that I will be able to buy some poptarts on Friday afternoon?\n",
    "\n",
    "# 3 +- 1.5 poptart packages daily, need to simulate a dataset\n",
    "mu, sigma = 3, 1.5\n",
    "n_rows = 10**5 # number of times that simulation is repeated\n",
    "n_cols = 5 # number of weekdays that poptarts have a chance to be taken\n",
    "consumed = np.random.normal(mu, sigma, size = (n_rows, n_cols)) # simulates dataset for poptarts eaten per day\n",
    "p_bought = consumed.sum(axis = 1) # poptarts taken per 5-day workweek\n",
    "p_fri = 17 - p_bought\n",
    "result = (p_fri >= 1).mean()\n",
    "print(result)"
   ]
  },
  {
   "cell_type": "code",
   "execution_count": 81,
   "id": "8c38ce64",
   "metadata": {},
   "outputs": [
    {
     "name": "stdout",
     "output_type": "stream",
     "text": [
      "0.2113\n"
     ]
    }
   ],
   "source": [
    "#5\n",
    "# Compare Heights\n",
    "# Men have an average height of 178 cm and standard deviation of 8cm.\n",
    "# Women have a mean of 170, sd = 6cm.\n",
    "# Since you have means and standard deviations, you can use np.random.normal\n",
    "# to generate observations.\n",
    "# If a man and woman are chosen at random, P(woman taller than man)?\n",
    "\n",
    "mu_m, sigma_m = 178, 8\n",
    "men = np.random.normal(mu_m, sigma_m, size = (10**5, 1))\n",
    "mu_f, sigma_f = 170, 6\n",
    "women = np.random.normal(mu_f, sigma_f, size = (10**5, 1))\n",
    "p_women_taller = (women > men).mean()\n",
    "print(p_women_taller)"
   ]
  },
  {
   "cell_type": "code",
   "execution_count": 105,
   "id": "1885c61e",
   "metadata": {},
   "outputs": [
    {
     "name": "stdout",
     "output_type": "stream",
     "text": [
      "The chance of 1 student out of 50 failing to install is:\n",
      "0.81775\n",
      "The chance of 1 student out of 100 failing to install is:\n",
      "0.67079\n",
      "The chance of an installing issue out of 150 students is:\n",
      "0.45077\n",
      "The chance of no installing issue out of 450 students is:\n",
      "0.16674\n"
     ]
    }
   ],
   "source": [
    "#6\n",
    "# When installing anaconda on a student's computer, there's a 1 in 250 chance \n",
    "# that the download is corrupted and the installation fails. What are the odds \n",
    "# that after having 50 students download anaconda, no one has an installation issue? \n",
    "# 100 students?\n",
    "# What is the probability that we observe an installation issue within \n",
    "# the first 150 students that download anaconda?\n",
    "\n",
    "p_fail = 1/250\n",
    "p_success = 249/250\n",
    "n_rows = 10**5 # number of times that we repeat the simulation\n",
    "n_cols = 50 # number of students\n",
    "trials = np.random.random((n_rows, n_cols))\n",
    "successful_install = trials <= p_success\n",
    "p50 = (successful_install.sum(axis=1) == 50).mean()\n",
    "\n",
    "p_fail = 1/250\n",
    "p_success = 249/250\n",
    "n_rows = 10**5 # number of times that we repeat the simulation\n",
    "n_cols = 100 # number of students\n",
    "trials = np.random.random((n_rows, n_cols))\n",
    "successful_install = trials <= p_success\n",
    "p100 = (successful_install.sum(axis=1) == 100).mean()\n",
    "\n",
    "p_fail = 1/250\n",
    "p_success = 249/250\n",
    "n_rows = 10**5 # number of times that we repeat the simulation\n",
    "n_cols = 150 # number of students\n",
    "trials = np.random.random((n_rows, n_cols))\n",
    "failed_install = trials <= p_fail\n",
    "p150 = (failed_install.sum(axis=1) > 0).mean()\n",
    "\n",
    "p_fail = 1/250\n",
    "p_success = 249/250\n",
    "n_rows = 10**5 # number of times that we repeat the simulation\n",
    "n_cols = 450 # number of students\n",
    "trials = np.random.random((n_rows, n_cols))\n",
    "successful_install = trials <= p_success\n",
    "p450 = (successful_install.sum(axis=1) == 450).mean()\n",
    "\n",
    "print(\"The chance of 1 student out of 50 failing to install is:\")\n",
    "print(p50)\n",
    "print(\"The chance of 1 student out of 100 failing to install is:\")\n",
    "print(p100)\n",
    "print(\"The chance of an installing issue out of 150 students is:\")\n",
    "print(p150)\n",
    "print(\"The chance of no installing issue out of 450 students is:\")\n",
    "print(p450)"
   ]
  },
  {
   "cell_type": "code",
   "execution_count": 116,
   "id": "80dd5669",
   "metadata": {},
   "outputs": [
    {
     "name": "stdout",
     "output_type": "stream",
     "text": [
      "The chance of a food truck not arriving for 3 days is:\n",
      "0.02706\n",
      "The chance of a food truck  arriving in 7 days is:\n",
      "0.97294\n"
     ]
    }
   ],
   "source": [
    "#7\n",
    "# There's a 70% chance on any given day that there will be at least one food truck\n",
    "# at Travis Park. However, you haven't seen a food truck there in 3 days. How unlikely\n",
    "# is this?\n",
    "# How likely is it that a food truck will show up sometime this week?\n",
    "\n",
    "n_rows = 10**5\n",
    "n_cols = 3 # number of days with no food trucks seen\n",
    "outcomes = [0, 1]\n",
    "p_truck = 0.7\n",
    "p_notruck = 0.3\n",
    "data = np.random.choice(outcomes, n_rows * n_cols, p = [p_notruck, p_truck]).reshape(n_rows, n_cols)\n",
    "p_notruck3days = (data.sum(axis=1) == 0).mean()\n",
    "print(\"The chance of a food truck not arriving for 3 days is:\")\n",
    "print(p_notruck3days)\n",
    "\n",
    "n_rows = 10**5\n",
    "n_cols = 7\n",
    "outcomes = [0, 1]\n",
    "p_truck = 0.7\n",
    "p_notruck = 0.3\n",
    "data2 = np.random.choice(outcomes, n_rows * n_cols, p = [p_notruck, p_truck]).reshape(n_rows, n_cols)\n",
    "p_truck7days = (data.sum(axis=1) > 0).mean()\n",
    "print(\"The chance of a food truck  arriving in 7 days is:\")\n",
    "print(p_truck7days)"
   ]
  },
  {
   "cell_type": "code",
   "execution_count": 125,
   "id": "a06f8301",
   "metadata": {},
   "outputs": [
    {
     "name": "stdout",
     "output_type": "stream",
     "text": [
      "Chance that at least 2 of 23 people share the same birthday:\n",
      "0.5062\n",
      "Chance that at least 2 of 20 people share the same birthday:\n",
      "0.4033\n",
      "Chance that at least 2 of 40 people share the same birthday:\n",
      "0.8896\n"
     ]
    }
   ],
   "source": [
    "#8\n",
    "# If 23 people are in the same room, what are the odds that two of them\n",
    "# share a birthday?\n",
    "# What if it's 20 people?\n",
    "# 40?\n",
    "\n",
    "# there are 365 outcomes\n",
    "# there are a number of columns equal to the people\n",
    "\n",
    "outcomes = range(1, 365)\n",
    "n_trials = 23\n",
    "n_rows = 10_000\n",
    "classrooms = np.random.choice(outcomes, size = (n_rows, n_trials))\n",
    "twin_bdays = [len(np.unique(classrooms[n])) for n in range(0, n_rows -1) if len(np.unique(classrooms[n])) <23]\n",
    "prop_twins = len(twin_bdays) / n_rows \n",
    "print(\"Chance that at least 2 of 23 people share the same birthday:\")\n",
    "print(prop_twins)\n",
    "\n",
    "outcomes = range(1, 365)\n",
    "n_trials = 20\n",
    "n_rows = 10_000\n",
    "classrooms = np.random.choice(outcomes, size = (n_rows, n_trials))\n",
    "twin_bdays = [len(np.unique(classrooms[n])) for n in range(0, n_rows -1) if len(np.unique(classrooms[n])) <20]\n",
    "prop_twins = len(twin_bdays) / n_rows \n",
    "print(\"Chance that at least 2 of 20 people share the same birthday:\")\n",
    "print(prop_twins)\n",
    "\n",
    "outcomes = range(1, 365)\n",
    "n_trials = 40\n",
    "n_rows = 10_000\n",
    "classrooms = np.random.choice(outcomes, size = (n_rows, n_trials))\n",
    "twin_bdays = [len(np.unique(classrooms[n])) for n in range(0, n_rows -1) if len(np.unique(classrooms[n])) <40]\n",
    "prop_twins = len(twin_bdays) / n_rows \n",
    "print(\"Chance that at least 2 of 40 people share the same birthday:\")\n",
    "print(prop_twins)\n"
   ]
  },
  {
   "cell_type": "code",
   "execution_count": null,
   "id": "4fe0424d",
   "metadata": {},
   "outputs": [],
   "source": [
    "outcomes = [1,2,3,4,5,6]\n",
    "n_trials = 4\n",
    "n_dice = 2\n",
    "rolls = np.random.choice(outcomes, n_trials * n_dice).reshape(n_trials, n_dice)\n",
    "rolls"
   ]
  }
 ],
 "metadata": {
  "kernelspec": {
   "display_name": "Python 3",
   "language": "python",
   "name": "python3"
  },
  "language_info": {
   "codemirror_mode": {
    "name": "ipython",
    "version": 3
   },
   "file_extension": ".py",
   "mimetype": "text/x-python",
   "name": "python",
   "nbconvert_exporter": "python",
   "pygments_lexer": "ipython3",
   "version": "3.8.8"
  }
 },
 "nbformat": 4,
 "nbformat_minor": 5
}
