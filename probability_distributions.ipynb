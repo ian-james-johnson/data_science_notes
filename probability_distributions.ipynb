{
 "cells": [
  {
   "cell_type": "code",
   "execution_count": 1,
   "id": "0ec2b7b5",
   "metadata": {},
   "outputs": [],
   "source": [
    "import numpy as np\n",
    "import pandas as pd\n",
    "from scipy import stats\n",
    "import matplotlib.pyplot as plt\n",
    "import seaborn as sns\n",
    "\n",
    "np.random.seed(123)"
   ]
  },
  {
   "cell_type": "code",
   "execution_count": 2,
   "id": "e4e59260",
   "metadata": {},
   "outputs": [],
   "source": [
    "#1\n",
    "# A bank found that the average number of cars waiting during the noon hour \n",
    "# at a drive-up window follows a Poisson distribution with a mean of 2 cars. \n",
    "# Make a chart of this distribution and answer these questions concerning the \n",
    "# probability of cars waiting at the drive-up window."
   ]
  },
  {
   "cell_type": "code",
   "execution_count": 3,
   "id": "74f8e6ae",
   "metadata": {},
   "outputs": [
    {
     "data": {
      "text/plain": [
       "Text(0.5, 1.0, 'Poisson distribution of mean = 2')"
      ]
     },
     "execution_count": 3,
     "metadata": {},
     "output_type": "execute_result"
    },
    {
     "data": {
      "image/png": "[encoded data removed]",
      "text/plain": [
       "<Figure size 432x288 with 1 Axes>"
      ]
     },
     "metadata": {
      "needs_background": "light"
     },
     "output_type": "display_data"
    }
   ],
   "source": [
    "#1\n",
    "mean = 2\n",
    "x = np.arange(0,10)\n",
    "y = stats.poisson(mean).pmf(x) # gives the probability of y for every x\n",
    "\n",
    "plt.bar(x, y)\n",
    "plt.xlabel('The number of cars waiting in the drive-through at noon')\n",
    "plt.ylabel('Probability of x')\n",
    "plt.title('Poisson distribution of mean = 2')"
   ]
  },
  {
   "cell_type": "code",
   "execution_count": 4,
   "id": "acdf15ec",
   "metadata": {},
   "outputs": [
    {
     "data": {
      "text/plain": [
       "0.1353352832366127"
      ]
     },
     "execution_count": 4,
     "metadata": {},
     "output_type": "execute_result"
    }
   ],
   "source": [
    "#1\n",
    "# What is the probability that no cars drive up in the noon hour?\n",
    "stats.poisson(mean).pmf(0)"
   ]
  },
  {
   "cell_type": "code",
   "execution_count": 5,
   "id": "f93dc0bc",
   "metadata": {},
   "outputs": [
    {
     "data": {
      "text/plain": [
       "0.32332358381693654"
      ]
     },
     "execution_count": 5,
     "metadata": {},
     "output_type": "execute_result"
    }
   ],
   "source": [
    "#1\n",
    "# What is the probability that 3 or more cars come through the drive through?\n",
    "stats.poisson(mean).sf(2)"
   ]
  },
  {
   "cell_type": "code",
   "execution_count": 6,
   "id": "1cd5a0c2",
   "metadata": {},
   "outputs": [
    {
     "data": {
      "text/plain": [
       "0.8646647167633873"
      ]
     },
     "execution_count": 6,
     "metadata": {},
     "output_type": "execute_result"
    }
   ],
   "source": [
    "#1\n",
    "# How likely is it that the drive through gets at least 1 car?\n",
    "stats.poisson(mean).sf(0)"
   ]
  },
  {
   "cell_type": "code",
   "execution_count": 13,
   "id": "3f3d5287",
   "metadata": {},
   "outputs": [],
   "source": [
    "#2\n",
    "# Grades of State University graduates are normally distributed with a mean of 3.0 \n",
    "# and a standard deviation of .3. Calculate the following:\n",
    "\n",
    "grades = stats.norm(3, 0.3)"
   ]
  },
  {
   "cell_type": "code",
   "execution_count": 14,
   "id": "63d4fe28",
   "metadata": {},
   "outputs": [
    {
     "data": {
      "text/plain": [
       "3.4934560880854417"
      ]
     },
     "execution_count": 14,
     "metadata": {},
     "output_type": "execute_result"
    }
   ],
   "source": [
    "#2\n",
    "# What grade point average is required to be in the top 5% of the graduating class?\n",
    "\n",
    "grades.isf(0.05)"
   ]
  },
  {
   "cell_type": "code",
   "execution_count": 17,
   "id": "507300cd",
   "metadata": {},
   "outputs": [
    {
     "data": {
      "text/plain": [
       "0.05104"
      ]
     },
     "execution_count": 17,
     "metadata": {},
     "output_type": "execute_result"
    }
   ],
   "source": [
    "# check using simulation\n",
    "\n",
    "(np.random.normal(3, 0.3, 100_000) > 3.49).mean()"
   ]
  },
  {
   "cell_type": "code",
   "execution_count": 15,
   "id": "6c6c8649",
   "metadata": {},
   "outputs": [
    {
     "data": {
      "text/plain": [
       "2.689069983151863"
      ]
     },
     "execution_count": 15,
     "metadata": {},
     "output_type": "execute_result"
    }
   ],
   "source": [
    "#2\n",
    "# What GPA constitutes the bottom 15% of the class?\n",
    "\n",
    "grades.ppf(0.15)"
   ]
  },
  {
   "cell_type": "code",
   "execution_count": 21,
   "id": "663c82c0",
   "metadata": {},
   "outputs": [
    {
     "data": {
      "text/plain": [
       "0.14336"
      ]
     },
     "execution_count": 21,
     "metadata": {},
     "output_type": "execute_result"
    }
   ],
   "source": [
    "# check using simulation\n",
    "\n",
    "(np.random.normal(3, 0.3, 100_000) < 2.68).mean()"
   ]
  },
  {
   "cell_type": "code",
   "execution_count": 22,
   "id": "e9e3c1dc",
   "metadata": {},
   "outputs": [
    {
     "name": "stdout",
     "output_type": "stream",
     "text": [
      "the range is between 2.7475136299281258 and 2.842679846187588\n"
     ]
    }
   ],
   "source": [
    "#2\n",
    "# An eccentric alumnus left scholarship money for students in the third decile \n",
    "# from the bottom of their class. Determine the range of the third decile. \n",
    "# Would a student with a 2.8 grade point average qualify for this scholarship?\n",
    "\n",
    "# third decile is lower 20 - 30 percentile\n",
    "# 0.2 - 0.3\n",
    "lower_bound = grades.ppf(0.2)\n",
    "upper_bound = grades.ppf(0.3)\n",
    "print(f'the range is between {lower_bound} and {upper_bound}')\n"
   ]
  },
  {
   "cell_type": "code",
   "execution_count": 25,
   "id": "cda80d61",
   "metadata": {},
   "outputs": [
    {
     "data": {
      "text/plain": [
       "array([2.74751363, 2.84267985])"
      ]
     },
     "execution_count": 25,
     "metadata": {},
     "output_type": "execute_result"
    }
   ],
   "source": [
    "# or do this way\n",
    "\n",
    "grades.ppf([0.2, 0.3])"
   ]
  },
  {
   "cell_type": "code",
   "execution_count": 27,
   "id": "2bd63209",
   "metadata": {},
   "outputs": [
    {
     "data": {
      "text/plain": [
       "2.7473940907381427"
      ]
     },
     "execution_count": 27,
     "metadata": {},
     "output_type": "execute_result"
    }
   ],
   "source": [
    "# or using simulation\n",
    "np.quantile(np.random.normal(3, 0.3, 100_000), 0.2)"
   ]
  },
  {
   "cell_type": "code",
   "execution_count": 28,
   "id": "718eb0c0",
   "metadata": {},
   "outputs": [
    {
     "data": {
      "text/plain": [
       "2.8401206209979954"
      ]
     },
     "execution_count": 28,
     "metadata": {},
     "output_type": "execute_result"
    }
   ],
   "source": [
    "# or using simulation\n",
    "np.quantile(np.random.normal(3, 0.3, 100_000), 0.3)"
   ]
  },
  {
   "cell_type": "code",
   "execution_count": 29,
   "id": "c5f73901",
   "metadata": {},
   "outputs": [
    {
     "data": {
      "text/plain": [
       "0.9522096477271853"
      ]
     },
     "execution_count": 29,
     "metadata": {},
     "output_type": "execute_result"
    }
   ],
   "source": [
    "#2\n",
    "# If I have a GPA of 3.5, what percentile am I in?\n",
    "grades.cdf(3.5)"
   ]
  },
  {
   "cell_type": "code",
   "execution_count": 31,
   "id": "b685e0e9",
   "metadata": {},
   "outputs": [
    {
     "data": {
      "text/plain": [
       "0.95091"
      ]
     },
     "execution_count": 31,
     "metadata": {},
     "output_type": "execute_result"
    }
   ],
   "source": [
    "# check using simulation\n",
    "(np.random.normal(3, 0.3, 100_000) < 3.5).mean()"
   ]
  },
  {
   "cell_type": "code",
   "execution_count": 34,
   "id": "a3bf831b",
   "metadata": {},
   "outputs": [
    {
     "data": {
      "text/plain": [
       "0.1397582363130086"
      ]
     },
     "execution_count": 34,
     "metadata": {},
     "output_type": "execute_result"
    }
   ],
   "source": [
    "#3\n",
    "# A marketing website has an average click-through rate of 2%. \n",
    "# One day they observe 4326 visitors and 97 click-throughs. \n",
    "# How likely is it that this many people or more click through?\n",
    "\n",
    "# binomial distribution\n",
    "n_trials = 4326\n",
    "p = 0.02 # chance of click-through\n",
    "stats.binom(n_trials, p).sf(96)"
   ]
  },
  {
   "cell_type": "code",
   "execution_count": 41,
   "id": "47607d81",
   "metadata": {},
   "outputs": [
    {
     "data": {
      "text/plain": [
       "0.123"
      ]
     },
     "execution_count": 41,
     "metadata": {},
     "output_type": "execute_result"
    }
   ],
   "source": [
    "# check using simulation\n",
    "n_rows = 1_000\n",
    "n_cols = 4326\n",
    "outcomes = [0, 1]\n",
    "p_s = 0.02\n",
    "p_f = 0.98\n",
    "data = np.random.choice(outcomes, (n_rows * n_cols), p = [p_f, p_s]).reshape(n_rows, n_cols)\n",
    "(data.sum(axis=1) > 96).mean()"
   ]
  },
  {
   "cell_type": "code",
   "execution_count": 42,
   "id": "23527add",
   "metadata": {},
   "outputs": [
    {
     "data": {
      "text/plain": [
       "0.14211867659283192"
      ]
     },
     "execution_count": 42,
     "metadata": {},
     "output_type": "execute_result"
    }
   ],
   "source": [
    "# check using poisson\n",
    "lam = 4326 * 0.02\n",
    "stats.poisson(lam).sf(96)"
   ]
  },
  {
   "cell_type": "code",
   "execution_count": 44,
   "id": "54efc132",
   "metadata": {},
   "outputs": [
    {
     "data": {
      "text/plain": [
       "0.4528433576092388"
      ]
     },
     "execution_count": 44,
     "metadata": {},
     "output_type": "execute_result"
    }
   ],
   "source": [
    "#4\n",
    "# You are working on some statistics homework consisting of 100 questions \n",
    "# where all of the answers are a probability rounded to the hundreths place. \n",
    "# Looking to save time, you put down random probabilities as the answer to each question.\n",
    "# What is the probability that at least one of your first 60 answers is correct?\n",
    "\n",
    "# binomial distribution\n",
    "n_trials = 60 # we are looking only at 60 answers, not all 100 questions\n",
    "p = 0.01\n",
    "\n",
    "number_correct = stats.binom(n_trials, p)\n",
    "number_correct.sf(0)"
   ]
  },
  {
   "cell_type": "code",
   "execution_count": 45,
   "id": "4116b67b",
   "metadata": {},
   "outputs": [
    {
     "data": {
      "text/plain": [
       "0.45167"
      ]
     },
     "execution_count": 45,
     "metadata": {},
     "output_type": "execute_result"
    }
   ],
   "source": [
    "# check using simulation\n",
    "n_rows = 100_000\n",
    "n_cols = 60\n",
    "outcomes = [0, 1]\n",
    "p_s = 0.01\n",
    "p_f = 0.99\n",
    "data = np.random.choice(outcomes, (n_rows * n_cols), p = [p_f, p_s]).reshape(n_rows, n_cols)\n",
    "(data.sum(axis=1) > 0).mean()"
   ]
  },
  {
   "cell_type": "code",
   "execution_count": 46,
   "id": "f83b6728",
   "metadata": {},
   "outputs": [
    {
     "data": {
      "text/plain": [
       "0.8342199288437355"
      ]
     },
     "execution_count": 46,
     "metadata": {},
     "output_type": "execute_result"
    }
   ],
   "source": [
    "#5\n",
    "# The codeup staff tends to get upset when the student break area is not cleaned up. \n",
    "# Suppose that there's a 3% chance that any one student cleans the break area when they \n",
    "# visit it, and, on any given day, about 90% of the 3 active cohorts of 22 students visit \n",
    "# the break area. How likely is it that the break area gets cleaned up each day? \n",
    "\n",
    "n_trials = round(0.9*3*22)\n",
    "p = 0.03 # chance a student cleans the room, chance of success\n",
    "\n",
    "cleanings = stats.binom(n_trials, p)\n",
    "cleanings.sf(0) # chance the room is cleaned more that 0 times"
   ]
  },
  {
   "cell_type": "code",
   "execution_count": 50,
   "id": "56edf4ec",
   "metadata": {},
   "outputs": [
    {
     "data": {
      "text/plain": [
       "0.8312"
      ]
     },
     "execution_count": 50,
     "metadata": {},
     "output_type": "execute_result"
    }
   ],
   "source": [
    "# check using simulation\n",
    "n_rows = 10_000\n",
    "n_cols = round(0.9*3*22)\n",
    "outcomes = [0, 1]\n",
    "data = np.random.choice(outcomes, (n_rows * n_cols), p = [0.97, 0.03]).reshape(n_rows, n_cols)\n",
    "(data.sum(axis=1) > 0).mean()"
   ]
  },
  {
   "cell_type": "code",
   "execution_count": 53,
   "id": "ce4d41af",
   "metadata": {},
   "outputs": [
    {
     "data": {
      "text/plain": [
       "0.02748303199257623"
      ]
     },
     "execution_count": 53,
     "metadata": {},
     "output_type": "execute_result"
    }
   ],
   "source": [
    "#5\n",
    "# How likely is it that it goes two days without getting cleaned up?\n",
    "n = n_trials * 2\n",
    "p = 0.03\n",
    "\n",
    "stats.binom(n, p).pmf(0)"
   ]
  },
  {
   "cell_type": "code",
   "execution_count": 57,
   "id": "b7f23f08",
   "metadata": {},
   "outputs": [
    {
     "data": {
      "text/plain": [
       "0.02792"
      ]
     },
     "execution_count": 57,
     "metadata": {},
     "output_type": "execute_result"
    }
   ],
   "source": [
    "# check using simulation\n",
    "n_rows = 100_000\n",
    "n_cols = round(2 * 0.9 * 3 * 22)\n",
    "outcomes = [0, 1]\n",
    "p_f = 0.97\n",
    "p_s = 0.03\n",
    "data = np.random.choice(outcomes, (n_rows * n_cols), p = [p_f, p_s]).reshape(n_rows, n_cols)\n",
    "(data.sum(axis=1) == 0).mean()"
   ]
  },
  {
   "cell_type": "code",
   "execution_count": 59,
   "id": "c6fa8981",
   "metadata": {},
   "outputs": [
    {
     "data": {
      "text/plain": [
       "0.00012521651388091353"
      ]
     },
     "execution_count": 59,
     "metadata": {},
     "output_type": "execute_result"
    }
   ],
   "source": [
    "#5\n",
    "# All week?\n",
    "n = n_trials * 5\n",
    "p = 0.03\n",
    "stats.binom(n, p).pmf(0)"
   ]
  },
  {
   "cell_type": "code",
   "execution_count": 61,
   "id": "d9464923",
   "metadata": {},
   "outputs": [
    {
     "data": {
      "text/plain": [
       "0.00017"
      ]
     },
     "execution_count": 61,
     "metadata": {},
     "output_type": "execute_result"
    }
   ],
   "source": [
    "# check using simulation\n",
    "n_rows = 100_000\n",
    "n_cols = round(5 * 0.9 * 3 * 22)\n",
    "outcomes = [0, 1]\n",
    "p_f = 0.97\n",
    "p_s = 0.03\n",
    "data = np.random.choice(outcomes, (n_rows, n_cols), p = [p_f, p_s]).reshape(n_rows, n_cols)\n",
    "(data.sum(axis=1) == 0).mean()"
   ]
  },
  {
   "cell_type": "code",
   "execution_count": 62,
   "id": "d3bb16ad",
   "metadata": {},
   "outputs": [
    {
     "data": {
      "text/plain": [
       "0.7976716190363569"
      ]
     },
     "execution_count": 62,
     "metadata": {},
     "output_type": "execute_result"
    }
   ],
   "source": [
    "#6\n",
    "# You want to get lunch at La Panaderia, but notice that the line is usually very long \n",
    "# at lunchtime. After several weeks of careful observation, you notice that the \n",
    "# average number of people in line when your lunch break starts is normally distributed \n",
    "# with a mean of 15 and standard deviation of 3. If it takes 2 minutes for each person \n",
    "# to order, and 10 minutes from ordering to getting your food, what is the likelihood \n",
    "# that you have at least 15 minutes left to eat your food before you have to go back \n",
    "# to class? Assume you have one hour for lunch, and ignore travel time to and from \n",
    "# La Panaderia.\n",
    "\n",
    "# convert mean and standard deviation to minutes\n",
    "# mean = 15 *2 = 30\n",
    "# std_dev = 3 * 2 = 6\n",
    "# max time to wait: 60 min - 15 - 10 = 35 minutes\n",
    "\n",
    "stats.norm(30, 6).cdf(35)"
   ]
  },
  {
   "cell_type": "code",
   "execution_count": 64,
   "id": "b9ef1eca",
   "metadata": {},
   "outputs": [
    {
     "data": {
      "text/plain": [
       "0.79673"
      ]
     },
     "execution_count": 64,
     "metadata": {},
     "output_type": "execute_result"
    }
   ],
   "source": [
    "# check using simulation\n",
    "(np.random.normal(30, 6, 100_000) < 35).mean()"
   ]
  },
  {
   "cell_type": "code",
   "execution_count": 9,
   "id": "50b87fe2",
   "metadata": {},
   "outputs": [
    {
     "data": {
      "text/html": [
       "<div>\n",
       "<style scoped>\n",
       "    .dataframe tbody tr th:only-of-type {\n",
       "        vertical-align: middle;\n",
       "    }\n",
       "\n",
       "    .dataframe tbody tr th {\n",
       "        vertical-align: top;\n",
       "    }\n",
       "\n",
       "    .dataframe thead th {\n",
       "        text-align: right;\n",
       "    }\n",
       "</style>\n",
       "<table border=\"1\" class=\"dataframe\">\n",
       "  <thead>\n",
       "    <tr style=\"text-align: right;\">\n",
       "      <th></th>\n",
       "      <th>emp_no</th>\n",
       "      <th>birth_date</th>\n",
       "      <th>first_name</th>\n",
       "      <th>last_name</th>\n",
       "      <th>gender</th>\n",
       "      <th>hire_date</th>\n",
       "      <th>salary</th>\n",
       "      <th>from_date</th>\n",
       "      <th>to_date</th>\n",
       "    </tr>\n",
       "  </thead>\n",
       "  <tbody>\n",
       "    <tr>\n",
       "      <th>0</th>\n",
       "      <td>10001</td>\n",
       "      <td>1953-09-02</td>\n",
       "      <td>Georgi</td>\n",
       "      <td>Facello</td>\n",
       "      <td>M</td>\n",
       "      <td>1986-06-26</td>\n",
       "      <td>88958</td>\n",
       "      <td>2002-06-22</td>\n",
       "      <td>9999-01-01</td>\n",
       "    </tr>\n",
       "    <tr>\n",
       "      <th>1</th>\n",
       "      <td>10002</td>\n",
       "      <td>1964-06-02</td>\n",
       "      <td>Bezalel</td>\n",
       "      <td>Simmel</td>\n",
       "      <td>F</td>\n",
       "      <td>1985-11-21</td>\n",
       "      <td>72527</td>\n",
       "      <td>2001-08-02</td>\n",
       "      <td>9999-01-01</td>\n",
       "    </tr>\n",
       "    <tr>\n",
       "      <th>2</th>\n",
       "      <td>10003</td>\n",
       "      <td>1959-12-03</td>\n",
       "      <td>Parto</td>\n",
       "      <td>Bamford</td>\n",
       "      <td>M</td>\n",
       "      <td>1986-08-28</td>\n",
       "      <td>43311</td>\n",
       "      <td>2001-12-01</td>\n",
       "      <td>9999-01-01</td>\n",
       "    </tr>\n",
       "    <tr>\n",
       "      <th>3</th>\n",
       "      <td>10004</td>\n",
       "      <td>1954-05-01</td>\n",
       "      <td>Chirstian</td>\n",
       "      <td>Koblick</td>\n",
       "      <td>M</td>\n",
       "      <td>1986-12-01</td>\n",
       "      <td>74057</td>\n",
       "      <td>2001-11-27</td>\n",
       "      <td>9999-01-01</td>\n",
       "    </tr>\n",
       "    <tr>\n",
       "      <th>4</th>\n",
       "      <td>10005</td>\n",
       "      <td>1955-01-21</td>\n",
       "      <td>Kyoichi</td>\n",
       "      <td>Maliniak</td>\n",
       "      <td>M</td>\n",
       "      <td>1989-09-12</td>\n",
       "      <td>94692</td>\n",
       "      <td>2001-09-09</td>\n",
       "      <td>9999-01-01</td>\n",
       "    </tr>\n",
       "    <tr>\n",
       "      <th>...</th>\n",
       "      <td>...</td>\n",
       "      <td>...</td>\n",
       "      <td>...</td>\n",
       "      <td>...</td>\n",
       "      <td>...</td>\n",
       "      <td>...</td>\n",
       "      <td>...</td>\n",
       "      <td>...</td>\n",
       "      <td>...</td>\n",
       "    </tr>\n",
       "    <tr>\n",
       "      <th>240119</th>\n",
       "      <td>499995</td>\n",
       "      <td>1958-09-24</td>\n",
       "      <td>Dekang</td>\n",
       "      <td>Lichtner</td>\n",
       "      <td>F</td>\n",
       "      <td>1993-01-12</td>\n",
       "      <td>52868</td>\n",
       "      <td>2002-06-01</td>\n",
       "      <td>9999-01-01</td>\n",
       "    </tr>\n",
       "    <tr>\n",
       "      <th>240120</th>\n",
       "      <td>499996</td>\n",
       "      <td>1953-03-07</td>\n",
       "      <td>Zito</td>\n",
       "      <td>Baaz</td>\n",
       "      <td>M</td>\n",
       "      <td>1990-09-27</td>\n",
       "      <td>69501</td>\n",
       "      <td>2002-05-12</td>\n",
       "      <td>9999-01-01</td>\n",
       "    </tr>\n",
       "    <tr>\n",
       "      <th>240121</th>\n",
       "      <td>499997</td>\n",
       "      <td>1961-08-03</td>\n",
       "      <td>Berhard</td>\n",
       "      <td>Lenart</td>\n",
       "      <td>M</td>\n",
       "      <td>1986-04-21</td>\n",
       "      <td>83441</td>\n",
       "      <td>2001-08-26</td>\n",
       "      <td>9999-01-01</td>\n",
       "    </tr>\n",
       "    <tr>\n",
       "      <th>240122</th>\n",
       "      <td>499998</td>\n",
       "      <td>1956-09-05</td>\n",
       "      <td>Patricia</td>\n",
       "      <td>Breugel</td>\n",
       "      <td>M</td>\n",
       "      <td>1993-10-13</td>\n",
       "      <td>55003</td>\n",
       "      <td>2001-12-25</td>\n",
       "      <td>9999-01-01</td>\n",
       "    </tr>\n",
       "    <tr>\n",
       "      <th>240123</th>\n",
       "      <td>499999</td>\n",
       "      <td>1958-05-01</td>\n",
       "      <td>Sachin</td>\n",
       "      <td>Tsukuda</td>\n",
       "      <td>M</td>\n",
       "      <td>1997-11-30</td>\n",
       "      <td>77303</td>\n",
       "      <td>2001-11-29</td>\n",
       "      <td>9999-01-01</td>\n",
       "    </tr>\n",
       "  </tbody>\n",
       "</table>\n",
       "<p>240124 rows × 9 columns</p>\n",
       "</div>"
      ],
      "text/plain": [
       "        emp_no  birth_date first_name last_name gender   hire_date  salary  \\\n",
       "0        10001  1953-09-02     Georgi   Facello      M  1986-06-26   88958   \n",
       "1        10002  1964-06-02    Bezalel    Simmel      F  1985-11-21   72527   \n",
       "2        10003  1959-12-03      Parto   Bamford      M  1986-08-28   43311   \n",
       "3        10004  1954-05-01  Chirstian   Koblick      M  1986-12-01   74057   \n",
       "4        10005  1955-01-21    Kyoichi  Maliniak      M  1989-09-12   94692   \n",
       "...        ...         ...        ...       ...    ...         ...     ...   \n",
       "240119  499995  1958-09-24     Dekang  Lichtner      F  1993-01-12   52868   \n",
       "240120  499996  1953-03-07       Zito      Baaz      M  1990-09-27   69501   \n",
       "240121  499997  1961-08-03    Berhard    Lenart      M  1986-04-21   83441   \n",
       "240122  499998  1956-09-05   Patricia   Breugel      M  1993-10-13   55003   \n",
       "240123  499999  1958-05-01     Sachin   Tsukuda      M  1997-11-30   77303   \n",
       "\n",
       "         from_date     to_date  \n",
       "0       2002-06-22  9999-01-01  \n",
       "1       2001-08-02  9999-01-01  \n",
       "2       2001-12-01  9999-01-01  \n",
       "3       2001-11-27  9999-01-01  \n",
       "4       2001-09-09  9999-01-01  \n",
       "...            ...         ...  \n",
       "240119  2002-06-01  9999-01-01  \n",
       "240120  2002-05-12  9999-01-01  \n",
       "240121  2001-08-26  9999-01-01  \n",
       "240122  2001-12-25  9999-01-01  \n",
       "240123  2001-11-29  9999-01-01  \n",
       "\n",
       "[240124 rows x 9 columns]"
      ]
     },
     "execution_count": 9,
     "metadata": {},
     "output_type": "execute_result"
    }
   ],
   "source": [
    "#7\n",
    "# Connect to the employees database and find the average salary of current employees, \n",
    "# along with the standard deviation. For the following questions, \n",
    "# calculate the answer based on modeling the employees salaries with a \n",
    "# normal distribution defined by the calculated mean and standard deviation \n",
    "# then compare this answer to the actual values present in the salaries dataset.\n",
    "\n",
    "from env import host, user, password\n",
    "\n",
    "url = f'mysql+pymysql://{user}:{password}@{host}/employees'\n",
    "\n",
    "query = '''\n",
    "select *\n",
    "from employees\n",
    "join salaries using(emp_no)\n",
    "where to_date > now()\n",
    "'''\n",
    "\n",
    "employees = pd.read_sql(query, url)\n"
   ]
  },
  {
   "cell_type": "code",
   "execution_count": 15,
   "id": "46fa2ab4",
   "metadata": {},
   "outputs": [
    {
     "name": "stdout",
     "output_type": "stream",
     "text": [
      "72012.23585730705\n",
      "17309.99538025198\n"
     ]
    }
   ],
   "source": [
    "# find the average salary of current employees, along with the standard deviation. \n",
    "\n",
    "avg_salary = employees.salary.mean()\n",
    "stdev_salary = employees.salary.std()\n",
    "print(avg_salary)\n",
    "print(stdev_salary)"
   ]
  },
  {
   "cell_type": "code",
   "execution_count": 16,
   "id": "aac59fe9",
   "metadata": {},
   "outputs": [],
   "source": [
    "# model the employees salaries with a normal distribution defined \n",
    "# by the calculated mean and standard deviation. \n",
    "# then compare this answer to the actual values present in the salaries dataset.employees\n",
    "\n",
    "#normal distribution\n",
    "salary_dist = stats.norm(avg_salary, stdev_salary)"
   ]
  },
  {
   "cell_type": "code",
   "execution_count": 17,
   "id": "675fdf15",
   "metadata": {},
   "outputs": [
    {
     "data": {
      "text/plain": [
       "0.24385742480214423"
      ]
     },
     "execution_count": 17,
     "metadata": {},
     "output_type": "execute_result"
    }
   ],
   "source": [
    "#7\n",
    "# What percent of employees earn less than 60,000?\n",
    "salary_dist.cdf(60_000)"
   ]
  },
  {
   "cell_type": "code",
   "execution_count": 18,
   "id": "af3c98c3",
   "metadata": {},
   "outputs": [
    {
     "data": {
      "text/plain": [
       "0.09208819199804053"
      ]
     },
     "execution_count": 18,
     "metadata": {},
     "output_type": "execute_result"
    }
   ],
   "source": [
    "#7\n",
    "# What percent of employees earn more than 95,000?\n",
    "salary_dist.sf(95_000)"
   ]
  },
  {
   "cell_type": "code",
   "execution_count": 21,
   "id": "261e7374",
   "metadata": {},
   "outputs": [
    {
     "data": {
      "text/plain": [
       "0.3350605685446666"
      ]
     },
     "execution_count": 21,
     "metadata": {},
     "output_type": "execute_result"
    }
   ],
   "source": [
    "#7\n",
    "# What percent of employees earn between 65,000 and 80,000?\n",
    "\n",
    "#np.diff(salary_dist.cdf([65_000, 80_000]))\n",
    "\n",
    "# or\n",
    "salary_dist.cdf(80_000) - salary_dist.cdf(65_000)"
   ]
  },
  {
   "cell_type": "code",
   "execution_count": 22,
   "id": "016e6b61",
   "metadata": {},
   "outputs": [
    {
     "data": {
      "text/plain": [
       "100484.64454102777"
      ]
     },
     "execution_count": 22,
     "metadata": {},
     "output_type": "execute_result"
    }
   ],
   "source": [
    "#7\n",
    "# What do the top 5% of employees make?\n",
    "salary_dist.isf(0.05)"
   ]
  },
  {
   "cell_type": "code",
   "execution_count": null,
   "id": "8b28023d",
   "metadata": {},
   "outputs": [],
   "source": [
    "# grades.quantile(.95).values"
   ]
  }
 ],
 "metadata": {
  "kernelspec": {
   "display_name": "Python 3",
   "language": "python",
   "name": "python3"
  },
  "language_info": {
   "codemirror_mode": {
    "name": "ipython",
    "version": 3
   },
   "file_extension": ".py",
   "mimetype": "text/x-python",
   "name": "python",
   "nbconvert_exporter": "python",
   "pygments_lexer": "ipython3",
   "version": "3.8.8"
  }
 },
 "nbformat": 4,
 "nbformat_minor": 5
}
