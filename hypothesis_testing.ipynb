{
 "cells": [
  {
   "cell_type": "markdown",
   "id": "edaad727",
   "metadata": {},
   "source": [
    "For each of the following questions, formulate a null and alternative hypothesis \n",
    "(be as specific as you can be), then give an example of what a true positive, \n",
    "true negative, type I and type II errors would look like. Note that some of \n",
    "the questions are intentionally phrased in a vague way. It is your job to reword \n",
    "these as more precise questions that could be tested.\n"
   ]
  },
  {
   "cell_type": "markdown",
   "id": "7a1dc445",
   "metadata": {},
   "source": [
    "1\n",
    "Has the network latency gone up since we switched internet service providers?\n",
    "\n",
    "H0 = the network latency has not gone up since we switched ISP\n",
    "H1 = the network latency has gone up since we switched ISP\n",
    "\n",
    "True positive:\n",
    "the network latency has increased, and our test also says that the latency has increased\n",
    "\n",
    "True negative:\n",
    "the network latency has not increased, and our test also says that the latency has not increased\n",
    "\n",
    "Type I error = false positive:\n",
    "the network latency has not increased, but our test says that the latency has increased\n",
    "\n",
    "Type II error = false negative:\n",
    "the network latency has increased, but our test says that the latency has not increased"
   ]
  },
  {
   "cell_type": "markdown",
   "id": "bd121393",
   "metadata": {},
   "source": [
    "2\n",
    "Is the website redesign any good?\n",
    "\n",
    "H0 = the website redesign is good\n",
    "H1 = the website redesign is not good\n",
    "\n",
    "True positive:\n",
    "the website redesign is not good, and our test says that the website redesign is not good\n",
    "\n",
    "True negative:\n",
    "the website redesign is good, and our test says that the website redesign is good\n",
    "\n",
    "Type I error = false positive:\n",
    "the website redesign is good, and our test says that the website redesign is not good\n",
    "\n",
    "Type II error = false negative:\n",
    "the website redesign is not good, and our test says that the website redesign is good\n"
   ]
  },
  {
   "cell_type": "markdown",
   "id": "73be3c06",
   "metadata": {},
   "source": [
    "3\n",
    "Is our television ad driving more sales?\n",
    "\n",
    "H0 = the television ad is not driving more sales\n",
    "H1 = the television ad is driving more sales\n",
    "\n",
    "True positive:\n",
    "the television ad is driving more sales, and our test says that the television ad is driving more sales\n",
    "\n",
    "True negative:\n",
    "the television ad is not driving more sales, and our test says that the television ad is not driving more sales\n",
    "\n",
    "Type I error = false positive:\n",
    "the television ad is not driving more sales, and our test says that the television ad is driving more sales\n",
    "\n",
    "Type II error = false negative:\n",
    "the television ad is driving more sales, and our test says that the television ad is not driving more sales"
   ]
  },
  {
   "cell_type": "code",
   "execution_count": 1,
   "id": "aa1b562c",
   "metadata": {},
   "outputs": [],
   "source": [
    "from math import sqrt\n",
    "from scipy import stats\n",
    "import matplotlib.pyplot as plt\n",
    "import seaborn as sns\n",
    "import numpy as np\n",
    "import pandas as pd\n",
    "\n",
    "from pydataset import data"
   ]
  },
  {
   "cell_type": "markdown",
   "id": "34ffefe8",
   "metadata": {},
   "source": [
    "4\n",
    "Ace Realty wants to determine whether the average time it takes to sell homes is different for its two offices. \n",
    "A sample of 40 sales from office #1 revealed a mean of 90 days and a standard deviation of 15 days. \n",
    "A sample of 50 sales from office #2 revealed a mean of 100 days and a standard deviation of 20 days. \n",
    "Use a .05 level of significance."
   ]
  },
  {
   "cell_type": "code",
   "execution_count": 11,
   "id": "a0b10895",
   "metadata": {
    "scrolled": true
   },
   "outputs": [
    {
     "data": {
      "text/plain": [
       "<matplotlib.legend.Legend at 0x7fb94e7c3f70>"
      ]
     },
     "execution_count": 11,
     "metadata": {},
     "output_type": "execute_result"
    },
    {
     "data": {
      "image/png": "[encoded data removed]",
      "text/plain": [
       "<Figure size 432x288 with 1 Axes>"
      ]
     },
     "metadata": {
      "needs_background": "light"
     },
     "output_type": "display_data"
    }
   ],
   "source": [
    "#4\n",
    "# we are comparing the average time it takes each group to make a sale\n",
    "\n",
    "# o1 = 40 sales in 90 +- 15 days\n",
    "# o2 = 50 sales in 100 +- 20 days\n",
    "\n",
    "x = np.arange(50, 150)\n",
    "y1 = stats.norm(90, 15).pdf(x)\n",
    "y2 = stats.norm(100, 20).pdf(x)\n",
    "\n",
    "plt.plot(x, y1, label = 'office_1')\n",
    "plt.plot(x, y2, label = 'office_2')\n",
    "\n",
    "plt.legend()"
   ]
  },
  {
   "cell_type": "code",
   "execution_count": 10,
   "id": "bc9aa87e",
   "metadata": {},
   "outputs": [
    {
     "data": {
      "text/plain": [
       "(-2.7091418459143854, 0.00811206270346016, 0.05)"
      ]
     },
     "execution_count": 10,
     "metadata": {},
     "output_type": "execute_result"
    }
   ],
   "source": [
    "#4\n",
    "# H0: the time to sell at o1 is = to the time at o2\n",
    "# H1: the time to sell at o1 is != to the time at o2\n",
    "alpha = 0.05\n",
    "\n",
    "mu1 = 90\n",
    "sd1 = 15\n",
    "n1 = 40\n",
    "\n",
    "mu2 = 100\n",
    "sd2 = 20\n",
    "n2 = 50\n",
    "\n",
    "t, p = stats.ttest_ind_from_stats(mu1, sd1, n1, mu2, sd2, n2, equal_var = False)\n",
    "t, p, alpha\n",
    "# negative t stat indicates that office 1 has lower mean than office 2"
   ]
  },
  {
   "cell_type": "code",
   "execution_count": 18,
   "id": "fe8ba780",
   "metadata": {},
   "outputs": [
    {
     "data": {
      "text/html": [
       "<div>\n",
       "<style scoped>\n",
       "    .dataframe tbody tr th:only-of-type {\n",
       "        vertical-align: middle;\n",
       "    }\n",
       "\n",
       "    .dataframe tbody tr th {\n",
       "        vertical-align: top;\n",
       "    }\n",
       "\n",
       "    .dataframe thead th {\n",
       "        text-align: right;\n",
       "    }\n",
       "</style>\n",
       "<table border=\"1\" class=\"dataframe\">\n",
       "  <thead>\n",
       "    <tr style=\"text-align: right;\">\n",
       "      <th></th>\n",
       "      <th>manufacturer</th>\n",
       "      <th>model</th>\n",
       "      <th>displ</th>\n",
       "      <th>year</th>\n",
       "      <th>cyl</th>\n",
       "      <th>trans</th>\n",
       "      <th>drv</th>\n",
       "      <th>cty</th>\n",
       "      <th>hwy</th>\n",
       "      <th>fl</th>\n",
       "      <th>class</th>\n",
       "    </tr>\n",
       "  </thead>\n",
       "  <tbody>\n",
       "    <tr>\n",
       "      <th>1</th>\n",
       "      <td>audi</td>\n",
       "      <td>a4</td>\n",
       "      <td>1.8</td>\n",
       "      <td>1999</td>\n",
       "      <td>4</td>\n",
       "      <td>auto(l5)</td>\n",
       "      <td>f</td>\n",
       "      <td>18</td>\n",
       "      <td>29</td>\n",
       "      <td>p</td>\n",
       "      <td>compact</td>\n",
       "    </tr>\n",
       "    <tr>\n",
       "      <th>2</th>\n",
       "      <td>audi</td>\n",
       "      <td>a4</td>\n",
       "      <td>1.8</td>\n",
       "      <td>1999</td>\n",
       "      <td>4</td>\n",
       "      <td>manual(m5)</td>\n",
       "      <td>f</td>\n",
       "      <td>21</td>\n",
       "      <td>29</td>\n",
       "      <td>p</td>\n",
       "      <td>compact</td>\n",
       "    </tr>\n",
       "    <tr>\n",
       "      <th>3</th>\n",
       "      <td>audi</td>\n",
       "      <td>a4</td>\n",
       "      <td>2.0</td>\n",
       "      <td>2008</td>\n",
       "      <td>4</td>\n",
       "      <td>manual(m6)</td>\n",
       "      <td>f</td>\n",
       "      <td>20</td>\n",
       "      <td>31</td>\n",
       "      <td>p</td>\n",
       "      <td>compact</td>\n",
       "    </tr>\n",
       "    <tr>\n",
       "      <th>4</th>\n",
       "      <td>audi</td>\n",
       "      <td>a4</td>\n",
       "      <td>2.0</td>\n",
       "      <td>2008</td>\n",
       "      <td>4</td>\n",
       "      <td>auto(av)</td>\n",
       "      <td>f</td>\n",
       "      <td>21</td>\n",
       "      <td>30</td>\n",
       "      <td>p</td>\n",
       "      <td>compact</td>\n",
       "    </tr>\n",
       "    <tr>\n",
       "      <th>5</th>\n",
       "      <td>audi</td>\n",
       "      <td>a4</td>\n",
       "      <td>2.8</td>\n",
       "      <td>1999</td>\n",
       "      <td>6</td>\n",
       "      <td>auto(l5)</td>\n",
       "      <td>f</td>\n",
       "      <td>16</td>\n",
       "      <td>26</td>\n",
       "      <td>p</td>\n",
       "      <td>compact</td>\n",
       "    </tr>\n",
       "  </tbody>\n",
       "</table>\n",
       "</div>"
      ],
      "text/plain": [
       "  manufacturer model  displ  year  cyl       trans drv  cty  hwy fl    class\n",
       "1         audi    a4    1.8  1999    4    auto(l5)   f   18   29  p  compact\n",
       "2         audi    a4    1.8  1999    4  manual(m5)   f   21   29  p  compact\n",
       "3         audi    a4    2.0  2008    4  manual(m6)   f   20   31  p  compact\n",
       "4         audi    a4    2.0  2008    4    auto(av)   f   21   30  p  compact\n",
       "5         audi    a4    2.8  1999    6    auto(l5)   f   16   26  p  compact"
      ]
     },
     "execution_count": 18,
     "metadata": {},
     "output_type": "execute_result"
    }
   ],
   "source": [
    "#5\n",
    "# Load the mpg dataset and use it to answer the following questions:\n",
    "\n",
    "# Is there a difference in fuel-efficiency in cars from 2008 vs 1999?\n",
    "df = data('mpg')\n",
    "df.head()"
   ]
  },
  {
   "cell_type": "code",
   "execution_count": 16,
   "id": "f577d868",
   "metadata": {},
   "outputs": [
    {
     "data": {
      "text/plain": [
       "1999    117\n",
       "2008    117\n",
       "Name: year, dtype: int64"
      ]
     },
     "execution_count": 16,
     "metadata": {},
     "output_type": "execute_result"
    }
   ],
   "source": [
    "df.year.value_counts()"
   ]
  },
  {
   "cell_type": "code",
   "execution_count": 19,
   "id": "95406123",
   "metadata": {},
   "outputs": [
    {
     "name": "stdout",
     "output_type": "stream",
     "text": [
      "<class 'pandas.core.frame.DataFrame'>\n",
      "Int64Index: 234 entries, 1 to 234\n",
      "Data columns (total 11 columns):\n",
      " #   Column        Non-Null Count  Dtype  \n",
      "---  ------        --------------  -----  \n",
      " 0   manufacturer  234 non-null    object \n",
      " 1   model         234 non-null    object \n",
      " 2   displ         234 non-null    float64\n",
      " 3   year          234 non-null    int64  \n",
      " 4   cyl           234 non-null    int64  \n",
      " 5   trans         234 non-null    object \n",
      " 6   drv           234 non-null    object \n",
      " 7   cty           234 non-null    int64  \n",
      " 8   hwy           234 non-null    int64  \n",
      " 9   fl            234 non-null    object \n",
      " 10  class         234 non-null    object \n",
      "dtypes: float64(1), int64(4), object(6)\n",
      "memory usage: 21.9+ KB\n"
     ]
    }
   ],
   "source": [
    "df.info()"
   ]
  },
  {
   "cell_type": "code",
   "execution_count": 20,
   "id": "6a3bc10e",
   "metadata": {},
   "outputs": [
    {
     "data": {
      "text/html": [
       "<div>\n",
       "<style scoped>\n",
       "    .dataframe tbody tr th:only-of-type {\n",
       "        vertical-align: middle;\n",
       "    }\n",
       "\n",
       "    .dataframe tbody tr th {\n",
       "        vertical-align: top;\n",
       "    }\n",
       "\n",
       "    .dataframe thead th {\n",
       "        text-align: right;\n",
       "    }\n",
       "</style>\n",
       "<table border=\"1\" class=\"dataframe\">\n",
       "  <thead>\n",
       "    <tr style=\"text-align: right;\">\n",
       "      <th></th>\n",
       "      <th>manufacturer</th>\n",
       "      <th>model</th>\n",
       "      <th>displ</th>\n",
       "      <th>year</th>\n",
       "      <th>cyl</th>\n",
       "      <th>trans</th>\n",
       "      <th>drv</th>\n",
       "      <th>cty</th>\n",
       "      <th>hwy</th>\n",
       "      <th>fl</th>\n",
       "      <th>class</th>\n",
       "      <th>avg_eff</th>\n",
       "    </tr>\n",
       "  </thead>\n",
       "  <tbody>\n",
       "    <tr>\n",
       "      <th>1</th>\n",
       "      <td>audi</td>\n",
       "      <td>a4</td>\n",
       "      <td>1.8</td>\n",
       "      <td>1999</td>\n",
       "      <td>4</td>\n",
       "      <td>auto(l5)</td>\n",
       "      <td>f</td>\n",
       "      <td>18</td>\n",
       "      <td>29</td>\n",
       "      <td>p</td>\n",
       "      <td>compact</td>\n",
       "      <td>22.212766</td>\n",
       "    </tr>\n",
       "    <tr>\n",
       "      <th>2</th>\n",
       "      <td>audi</td>\n",
       "      <td>a4</td>\n",
       "      <td>1.8</td>\n",
       "      <td>1999</td>\n",
       "      <td>4</td>\n",
       "      <td>manual(m5)</td>\n",
       "      <td>f</td>\n",
       "      <td>21</td>\n",
       "      <td>29</td>\n",
       "      <td>p</td>\n",
       "      <td>compact</td>\n",
       "      <td>24.360000</td>\n",
       "    </tr>\n",
       "    <tr>\n",
       "      <th>3</th>\n",
       "      <td>audi</td>\n",
       "      <td>a4</td>\n",
       "      <td>2.0</td>\n",
       "      <td>2008</td>\n",
       "      <td>4</td>\n",
       "      <td>manual(m6)</td>\n",
       "      <td>f</td>\n",
       "      <td>20</td>\n",
       "      <td>31</td>\n",
       "      <td>p</td>\n",
       "      <td>compact</td>\n",
       "      <td>24.313725</td>\n",
       "    </tr>\n",
       "    <tr>\n",
       "      <th>4</th>\n",
       "      <td>audi</td>\n",
       "      <td>a4</td>\n",
       "      <td>2.0</td>\n",
       "      <td>2008</td>\n",
       "      <td>4</td>\n",
       "      <td>auto(av)</td>\n",
       "      <td>f</td>\n",
       "      <td>21</td>\n",
       "      <td>30</td>\n",
       "      <td>p</td>\n",
       "      <td>compact</td>\n",
       "      <td>24.705882</td>\n",
       "    </tr>\n",
       "    <tr>\n",
       "      <th>5</th>\n",
       "      <td>audi</td>\n",
       "      <td>a4</td>\n",
       "      <td>2.8</td>\n",
       "      <td>1999</td>\n",
       "      <td>6</td>\n",
       "      <td>auto(l5)</td>\n",
       "      <td>f</td>\n",
       "      <td>16</td>\n",
       "      <td>26</td>\n",
       "      <td>p</td>\n",
       "      <td>compact</td>\n",
       "      <td>19.809524</td>\n",
       "    </tr>\n",
       "  </tbody>\n",
       "</table>\n",
       "</div>"
      ],
      "text/plain": [
       "  manufacturer model  displ  year  cyl       trans drv  cty  hwy fl    class  \\\n",
       "1         audi    a4    1.8  1999    4    auto(l5)   f   18   29  p  compact   \n",
       "2         audi    a4    1.8  1999    4  manual(m5)   f   21   29  p  compact   \n",
       "3         audi    a4    2.0  2008    4  manual(m6)   f   20   31  p  compact   \n",
       "4         audi    a4    2.0  2008    4    auto(av)   f   21   30  p  compact   \n",
       "5         audi    a4    2.8  1999    6    auto(l5)   f   16   26  p  compact   \n",
       "\n",
       "     avg_eff  \n",
       "1  22.212766  \n",
       "2  24.360000  \n",
       "3  24.313725  \n",
       "4  24.705882  \n",
       "5  19.809524  "
      ]
     },
     "execution_count": 20,
     "metadata": {},
     "output_type": "execute_result"
    }
   ],
   "source": [
    "df['avg_eff'] = stats.hmean(df[['cty', 'hwy']], axis = 1)\n",
    "df.head()"
   ]
  },
  {
   "cell_type": "code",
   "execution_count": 21,
   "id": "0fbc59bb",
   "metadata": {},
   "outputs": [
    {
     "data": {
      "text/plain": [
       "3     24.313725\n",
       "4     24.705882\n",
       "7     21.600000\n",
       "10    23.333333\n",
       "11    22.304348\n",
       "Name: avg_eff, dtype: float64"
      ]
     },
     "execution_count": 21,
     "metadata": {},
     "output_type": "execute_result"
    }
   ],
   "source": [
    "cars_2008 = df[df.year == 2008].avg_eff\n",
    "cars_2008.head()"
   ]
  },
  {
   "cell_type": "code",
   "execution_count": 22,
   "id": "b51e2aaf",
   "metadata": {},
   "outputs": [
    {
     "data": {
      "text/plain": [
       "1    22.212766\n",
       "2    24.360000\n",
       "5    19.809524\n",
       "6    21.272727\n",
       "8    21.272727\n",
       "Name: avg_eff, dtype: float64"
      ]
     },
     "execution_count": 22,
     "metadata": {},
     "output_type": "execute_result"
    }
   ],
   "source": [
    "cars_1999 = df[df.year == 1999].avg_eff\n",
    "cars_1999.head()"
   ]
  },
  {
   "cell_type": "code",
   "execution_count": 23,
   "id": "b3538c98",
   "metadata": {},
   "outputs": [
    {
     "data": {
      "text/plain": [
       "<AxesSubplot:>"
      ]
     },
     "execution_count": 23,
     "metadata": {},
     "output_type": "execute_result"
    },
    {
     "data": {
      "image/png": "[encoded data removed]",
      "text/plain": [
       "<Figure size 432x288 with 1 Axes>"
      ]
     },
     "metadata": {
      "needs_background": "light"
     },
     "output_type": "display_data"
    }
   ],
   "source": [
    "cars_2008.hist()"
   ]
  },
  {
   "cell_type": "code",
   "execution_count": 24,
   "id": "630b5b2f",
   "metadata": {},
   "outputs": [
    {
     "data": {
      "text/plain": [
       "<AxesSubplot:>"
      ]
     },
     "execution_count": 24,
     "metadata": {},
     "output_type": "execute_result"
    },
    {
     "data": {
      "image/png": "[encoded data removed]",
      "text/plain": [
       "<Figure size 432x288 with 1 Axes>"
      ]
     },
     "metadata": {
      "needs_background": "light"
     },
     "output_type": "display_data"
    }
   ],
   "source": [
    "cars_1999.hist()"
   ]
  },
  {
   "cell_type": "code",
   "execution_count": 25,
   "id": "745af337",
   "metadata": {},
   "outputs": [
    {
     "data": {
      "text/plain": [
       "<matplotlib.legend.Legend at 0x7fb94f72f310>"
      ]
     },
     "execution_count": 25,
     "metadata": {},
     "output_type": "execute_result"
    },
    {
     "data": {
      "image/png": "[encoded data removed]",
      "text/plain": [
       "<Figure size 432x288 with 1 Axes>"
      ]
     },
     "metadata": {
      "needs_background": "light"
     },
     "output_type": "display_data"
    }
   ],
   "source": [
    "plt.hist([cars_1999, cars_2008], label = ['1999_cars', '2008_cars'])\n",
    "plt.xlabel('avg_mileage')\n",
    "plt.ylabel('number_of_cars')\n",
    "plt.legend()"
   ]
  },
  {
   "cell_type": "code",
   "execution_count": 26,
   "id": "1481d7b7",
   "metadata": {},
   "outputs": [
    {
     "data": {
      "text/plain": [
       "(25.850396545865912, 22.550836772260343)"
      ]
     },
     "execution_count": 26,
     "metadata": {},
     "output_type": "execute_result"
    }
   ],
   "source": [
    "# H0: 1999 and 2008 cars have = mileage\n",
    "# H1: 1999 and 2008 cars have != mileage\n",
    "\n",
    "cars_1999.var(), cars_2008.var()"
   ]
  },
  {
   "cell_type": "code",
   "execution_count": 27,
   "id": "8c02f5f9",
   "metadata": {},
   "outputs": [
    {
     "data": {
      "text/plain": [
       "LeveneResult(statistic=0.031071867429515194, pvalue=0.8602339200830025)"
      ]
     },
     "execution_count": 27,
     "metadata": {},
     "output_type": "execute_result"
    }
   ],
   "source": [
    "stats.levene(cars_1999, cars_2008)\n",
    "# tests shows that variance is homogeneous"
   ]
  },
  {
   "cell_type": "code",
   "execution_count": 28,
   "id": "0e66bec6",
   "metadata": {},
   "outputs": [
    {
     "data": {
      "text/plain": [
       "(0.3011962975077886, 0.7635345888327115, 0.05)"
      ]
     },
     "execution_count": 28,
     "metadata": {},
     "output_type": "execute_result"
    }
   ],
   "source": [
    "#5\n",
    "alpha = 0.05\n",
    "t, p = stats.ttest_ind(cars_1999, cars_2008)\n",
    "t, p, alpha\n",
    "\n",
    "# p is not < 0.05\n",
    "# we accept H0\n",
    "# mileage is the same"
   ]
  },
  {
   "cell_type": "code",
   "execution_count": 34,
   "id": "869ab3cb",
   "metadata": {},
   "outputs": [
    {
     "data": {
      "text/plain": [
       "<AxesSubplot:>"
      ]
     },
     "execution_count": 34,
     "metadata": {},
     "output_type": "execute_result"
    },
    {
     "data": {
      "image/png": "[encoded data removed]",
      "text/plain": [
       "<Figure size 432x288 with 1 Axes>"
      ]
     },
     "metadata": {
      "needs_background": "light"
     },
     "output_type": "display_data"
    }
   ],
   "source": [
    "#5\n",
    "# Are compact cars more fuel-efficient than the average car?\n",
    "\n",
    "#df['is_compact'] = df['class'] == 'compact'\n",
    "\n",
    "all_cars = df.avg_eff\n",
    "all_cars.hist()"
   ]
  },
  {
   "cell_type": "code",
   "execution_count": 33,
   "id": "e3a298b2",
   "metadata": {},
   "outputs": [
    {
     "data": {
      "text/plain": [
       "<AxesSubplot:>"
      ]
     },
     "execution_count": 33,
     "metadata": {},
     "output_type": "execute_result"
    },
    {
     "data": {
      "image/png": "[encoded data removed]",
      "text/plain": [
       "<Figure size 432x288 with 1 Axes>"
      ]
     },
     "metadata": {
      "needs_background": "light"
     },
     "output_type": "display_data"
    }
   ],
   "source": [
    "compact_cars = df[df['class'] == 'compact'].avg_eff\n",
    "compact_cars.hist()\n",
    "# not normal distribution"
   ]
  },
  {
   "cell_type": "code",
   "execution_count": 46,
   "id": "d7bb0f18",
   "metadata": {},
   "outputs": [
    {
     "data": {
      "text/plain": [
       "(234, 47)"
      ]
     },
     "execution_count": 46,
     "metadata": {},
     "output_type": "execute_result"
    }
   ],
   "source": [
    "len(all_cars), len(compact_cars)"
   ]
  },
  {
   "cell_type": "code",
   "execution_count": 36,
   "id": "be8263be",
   "metadata": {},
   "outputs": [
    {
     "data": {
      "text/plain": [
       "(5.193903224387407, 1.9888764369810984e-07, 0.05)"
      ]
     },
     "execution_count": 36,
     "metadata": {},
     "output_type": "execute_result"
    }
   ],
   "source": [
    "#5\n",
    "# H0: compact cars are not more fuel efficient than other cars\n",
    "# H1: compact cars are more fuel efficient than other cars\n",
    "# Use 1-sided t-test\n",
    "alpha = 0.05\n",
    "t, p = stats.ttest_ind(compact_cars, all_cars)\n",
    "t, p/2, alpha\n",
    "# t and p values show that we should reject H0\n",
    "# compact cars are more fuel efficient than other cars"
   ]
  },
  {
   "cell_type": "code",
   "execution_count": 39,
   "id": "9a18af04",
   "metadata": {},
   "outputs": [
    {
     "data": {
      "text/html": [
       "<div>\n",
       "<style scoped>\n",
       "    .dataframe tbody tr th:only-of-type {\n",
       "        vertical-align: middle;\n",
       "    }\n",
       "\n",
       "    .dataframe tbody tr th {\n",
       "        vertical-align: top;\n",
       "    }\n",
       "\n",
       "    .dataframe thead th {\n",
       "        text-align: right;\n",
       "    }\n",
       "</style>\n",
       "<table border=\"1\" class=\"dataframe\">\n",
       "  <thead>\n",
       "    <tr style=\"text-align: right;\">\n",
       "      <th></th>\n",
       "      <th>manufacturer</th>\n",
       "      <th>model</th>\n",
       "      <th>displ</th>\n",
       "      <th>year</th>\n",
       "      <th>cyl</th>\n",
       "      <th>trans</th>\n",
       "      <th>drv</th>\n",
       "      <th>cty</th>\n",
       "      <th>hwy</th>\n",
       "      <th>fl</th>\n",
       "      <th>class</th>\n",
       "      <th>avg_eff</th>\n",
       "      <th>is_compact</th>\n",
       "      <th>transmission</th>\n",
       "    </tr>\n",
       "  </thead>\n",
       "  <tbody>\n",
       "    <tr>\n",
       "      <th>1</th>\n",
       "      <td>audi</td>\n",
       "      <td>a4</td>\n",
       "      <td>1.8</td>\n",
       "      <td>1999</td>\n",
       "      <td>4</td>\n",
       "      <td>auto(l5)</td>\n",
       "      <td>f</td>\n",
       "      <td>18</td>\n",
       "      <td>29</td>\n",
       "      <td>p</td>\n",
       "      <td>compact</td>\n",
       "      <td>22.212766</td>\n",
       "      <td>True</td>\n",
       "      <td>auto</td>\n",
       "    </tr>\n",
       "    <tr>\n",
       "      <th>2</th>\n",
       "      <td>audi</td>\n",
       "      <td>a4</td>\n",
       "      <td>1.8</td>\n",
       "      <td>1999</td>\n",
       "      <td>4</td>\n",
       "      <td>manual(m5)</td>\n",
       "      <td>f</td>\n",
       "      <td>21</td>\n",
       "      <td>29</td>\n",
       "      <td>p</td>\n",
       "      <td>compact</td>\n",
       "      <td>24.360000</td>\n",
       "      <td>True</td>\n",
       "      <td>manual</td>\n",
       "    </tr>\n",
       "    <tr>\n",
       "      <th>3</th>\n",
       "      <td>audi</td>\n",
       "      <td>a4</td>\n",
       "      <td>2.0</td>\n",
       "      <td>2008</td>\n",
       "      <td>4</td>\n",
       "      <td>manual(m6)</td>\n",
       "      <td>f</td>\n",
       "      <td>20</td>\n",
       "      <td>31</td>\n",
       "      <td>p</td>\n",
       "      <td>compact</td>\n",
       "      <td>24.313725</td>\n",
       "      <td>True</td>\n",
       "      <td>manual</td>\n",
       "    </tr>\n",
       "    <tr>\n",
       "      <th>4</th>\n",
       "      <td>audi</td>\n",
       "      <td>a4</td>\n",
       "      <td>2.0</td>\n",
       "      <td>2008</td>\n",
       "      <td>4</td>\n",
       "      <td>auto(av)</td>\n",
       "      <td>f</td>\n",
       "      <td>21</td>\n",
       "      <td>30</td>\n",
       "      <td>p</td>\n",
       "      <td>compact</td>\n",
       "      <td>24.705882</td>\n",
       "      <td>True</td>\n",
       "      <td>auto</td>\n",
       "    </tr>\n",
       "    <tr>\n",
       "      <th>5</th>\n",
       "      <td>audi</td>\n",
       "      <td>a4</td>\n",
       "      <td>2.8</td>\n",
       "      <td>1999</td>\n",
       "      <td>6</td>\n",
       "      <td>auto(l5)</td>\n",
       "      <td>f</td>\n",
       "      <td>16</td>\n",
       "      <td>26</td>\n",
       "      <td>p</td>\n",
       "      <td>compact</td>\n",
       "      <td>19.809524</td>\n",
       "      <td>True</td>\n",
       "      <td>auto</td>\n",
       "    </tr>\n",
       "  </tbody>\n",
       "</table>\n",
       "</div>"
      ],
      "text/plain": [
       "  manufacturer model  displ  year  cyl       trans drv  cty  hwy fl    class  \\\n",
       "1         audi    a4    1.8  1999    4    auto(l5)   f   18   29  p  compact   \n",
       "2         audi    a4    1.8  1999    4  manual(m5)   f   21   29  p  compact   \n",
       "3         audi    a4    2.0  2008    4  manual(m6)   f   20   31  p  compact   \n",
       "4         audi    a4    2.0  2008    4    auto(av)   f   21   30  p  compact   \n",
       "5         audi    a4    2.8  1999    6    auto(l5)   f   16   26  p  compact   \n",
       "\n",
       "     avg_eff  is_compact transmission  \n",
       "1  22.212766        True         auto  \n",
       "2  24.360000        True       manual  \n",
       "3  24.313725        True       manual  \n",
       "4  24.705882        True         auto  \n",
       "5  19.809524        True         auto  "
      ]
     },
     "execution_count": 39,
     "metadata": {},
     "output_type": "execute_result"
    }
   ],
   "source": [
    "#5\n",
    "# Do manual cars get better gas mileage than automatic cars?\n",
    "df['transmission'] = np.where(df.trans.str.contains('auto'), 'auto', 'manual')\n",
    "df.head()"
   ]
  },
  {
   "cell_type": "code",
   "execution_count": 42,
   "id": "076ee925",
   "metadata": {},
   "outputs": [
    {
     "data": {
      "text/plain": [
       "transmission\n",
       "auto      18.583200\n",
       "manual    21.629229\n",
       "Name: avg_eff, dtype: float64"
      ]
     },
     "execution_count": 42,
     "metadata": {},
     "output_type": "execute_result"
    }
   ],
   "source": [
    "df.groupby('transmission').avg_eff.mean()"
   ]
  },
  {
   "cell_type": "code",
   "execution_count": 43,
   "id": "68c137ba",
   "metadata": {},
   "outputs": [
    {
     "data": {
      "text/plain": [
       "<AxesSubplot:xlabel='transmission'>"
      ]
     },
     "execution_count": 43,
     "metadata": {},
     "output_type": "execute_result"
    },
    {
     "data": {
      "image/png": "[encoded data removed]",
      "text/plain": [
       "<Figure size 432x288 with 1 Axes>"
      ]
     },
     "metadata": {
      "needs_background": "light"
     },
     "output_type": "display_data"
    }
   ],
   "source": [
    "df.groupby('transmission').avg_eff.mean().plot.bar()"
   ]
  },
  {
   "cell_type": "code",
   "execution_count": 47,
   "id": "37e8a1b0",
   "metadata": {},
   "outputs": [
    {
     "data": {
      "text/plain": [
       "<AxesSubplot:>"
      ]
     },
     "execution_count": 47,
     "metadata": {},
     "output_type": "execute_result"
    },
    {
     "data": {
      "image/png": "[encoded data removed]",
      "text/plain": [
       "<Figure size 432x288 with 1 Axes>"
      ]
     },
     "metadata": {
      "needs_background": "light"
     },
     "output_type": "display_data"
    }
   ],
   "source": [
    "#5\n",
    "# H0: manual cars do not get better mileage than other cars\n",
    "# H1: manual cars do get better mileage than other cars\n",
    "# 1-tailed t-test is needed\n",
    "\n",
    "auto_cars = df[df['trans'].str.contains('auto')].avg_eff\n",
    "auto_cars.hist()"
   ]
  },
  {
   "cell_type": "code",
   "execution_count": 49,
   "id": "f8156663",
   "metadata": {},
   "outputs": [
    {
     "data": {
      "text/plain": [
       "<AxesSubplot:>"
      ]
     },
     "execution_count": 49,
     "metadata": {},
     "output_type": "execute_result"
    },
    {
     "data": {
      "image/png": "[encoded data removed]",
      "text/plain": [
       "<Figure size 432x288 with 1 Axes>"
      ]
     },
     "metadata": {
      "needs_background": "light"
     },
     "output_type": "display_data"
    }
   ],
   "source": [
    "man_cars = df[df['trans'].str.contains('manual')].avg_eff\n",
    "man_cars.hist()"
   ]
  },
  {
   "cell_type": "code",
   "execution_count": 52,
   "id": "0d041a9b",
   "metadata": {},
   "outputs": [
    {
     "data": {
      "text/plain": [
       "(77, 157)"
      ]
     },
     "execution_count": 52,
     "metadata": {},
     "output_type": "execute_result"
    }
   ],
   "source": [
    "len(man_cars), len(auto_cars)"
   ]
  },
  {
   "cell_type": "code",
   "execution_count": 53,
   "id": "62c65661",
   "metadata": {},
   "outputs": [
    {
     "data": {
      "text/plain": [
       "(25.665633639828275, 20.428279095002054)"
      ]
     },
     "execution_count": 53,
     "metadata": {},
     "output_type": "execute_result"
    }
   ],
   "source": [
    "man_cars.var(), auto_cars.var()"
   ]
  },
  {
   "cell_type": "code",
   "execution_count": 54,
   "id": "02c8618f",
   "metadata": {},
   "outputs": [
    {
     "data": {
      "text/plain": [
       "LeveneResult(statistic=0.013901207169738269, pvalue=0.9062462281015493)"
      ]
     },
     "execution_count": 54,
     "metadata": {},
     "output_type": "execute_result"
    }
   ],
   "source": [
    "stats.levene(man_cars, auto_cars)\n",
    "# p values shows that variances are not significantly different"
   ]
  },
  {
   "cell_type": "code",
   "execution_count": 55,
   "id": "cfd38d72",
   "metadata": {},
   "outputs": [
    {
     "data": {
      "text/plain": [
       "(4.652577547151351, 2.7552323050220026e-06, 0.05)"
      ]
     },
     "execution_count": 55,
     "metadata": {},
     "output_type": "execute_result"
    }
   ],
   "source": [
    "alpha = 0.05\n",
    "t, p = stats.ttest_ind(man_cars, auto_cars)\n",
    "t, p/2, alpha"
   ]
  },
  {
   "cell_type": "code",
   "execution_count": 58,
   "id": "1a132fed",
   "metadata": {},
   "outputs": [
    {
     "name": "stdout",
     "output_type": "stream",
     "text": [
      "is p/2 < alpha? True\n",
      "is t > 0? True\n"
     ]
    }
   ],
   "source": [
    "print('is p/2 < alpha?', p/2 < alpha)\n",
    "print('is t > 0?', t > 0)"
   ]
  },
  {
   "cell_type": "code",
   "execution_count": 59,
   "id": "acbf3e24",
   "metadata": {},
   "outputs": [
    {
     "name": "stdout",
     "output_type": "stream",
     "text": [
      "we reject the null hypothesis\n"
     ]
    }
   ],
   "source": [
    "if (p/2 < alpha) & (t > 0):\n",
    "    print('we reject the null hypothesis')\n",
    "else:\n",
    "    print('we fail to reject the null hypothesis')"
   ]
  },
  {
   "cell_type": "code",
   "execution_count": null,
   "id": "7dc79bb0",
   "metadata": {},
   "outputs": [],
   "source": [
    "# Correlation testing\n",
    "#1\n",
    "# Use the telco_churn data.\n",
    "# Does tenure correlate with monthly charges? \n",
    "# Total charges? \n",
    "#What happens if you control for phone and internet service?\n"
   ]
  },
  {
   "cell_type": "code",
   "execution_count": 27,
   "id": "ab364e59",
   "metadata": {},
   "outputs": [
    {
     "data": {
      "text/html": [
       "<div>\n",
       "<style scoped>\n",
       "    .dataframe tbody tr th:only-of-type {\n",
       "        vertical-align: middle;\n",
       "    }\n",
       "\n",
       "    .dataframe tbody tr th {\n",
       "        vertical-align: top;\n",
       "    }\n",
       "\n",
       "    .dataframe thead th {\n",
       "        text-align: right;\n",
       "    }\n",
       "</style>\n",
       "<table border=\"1\" class=\"dataframe\">\n",
       "  <thead>\n",
       "    <tr style=\"text-align: right;\">\n",
       "      <th></th>\n",
       "      <th>Unnamed: 0</th>\n",
       "      <th>Unnamed: 0.1</th>\n",
       "      <th>customer_id</th>\n",
       "      <th>gender</th>\n",
       "      <th>is_senior_citizen</th>\n",
       "      <th>partner</th>\n",
       "      <th>dependents</th>\n",
       "      <th>phone_service</th>\n",
       "      <th>internet_service</th>\n",
       "      <th>contract_type</th>\n",
       "      <th>...</th>\n",
       "      <th>has_internet</th>\n",
       "      <th>has_phone_and_internet</th>\n",
       "      <th>partner_dependents</th>\n",
       "      <th>start_date</th>\n",
       "      <th>average_monthly_charges</th>\n",
       "      <th>validate_monthly_charges</th>\n",
       "      <th>contract_type_desc</th>\n",
       "      <th>phone_type_desc</th>\n",
       "      <th>internet_type_desc</th>\n",
       "      <th>payment_is_automatic</th>\n",
       "    </tr>\n",
       "  </thead>\n",
       "  <tbody>\n",
       "    <tr>\n",
       "      <th>0</th>\n",
       "      <td>0</td>\n",
       "      <td>0</td>\n",
       "      <td>1371-DWPAZ</td>\n",
       "      <td>Female</td>\n",
       "      <td>0</td>\n",
       "      <td>Yes</td>\n",
       "      <td>Yes</td>\n",
       "      <td>0</td>\n",
       "      <td>1</td>\n",
       "      <td>2</td>\n",
       "      <td>...</td>\n",
       "      <td>True</td>\n",
       "      <td>False</td>\n",
       "      <td>3</td>\n",
       "      <td>20210727</td>\n",
       "      <td>0.0</td>\n",
       "      <td>False</td>\n",
       "      <td>2 Year</td>\n",
       "      <td>No Phone Service</td>\n",
       "      <td>DSL</td>\n",
       "      <td>True</td>\n",
       "    </tr>\n",
       "    <tr>\n",
       "      <th>1</th>\n",
       "      <td>1</td>\n",
       "      <td>1</td>\n",
       "      <td>2520-SGTTA</td>\n",
       "      <td>Female</td>\n",
       "      <td>0</td>\n",
       "      <td>Yes</td>\n",
       "      <td>Yes</td>\n",
       "      <td>1</td>\n",
       "      <td>0</td>\n",
       "      <td>2</td>\n",
       "      <td>...</td>\n",
       "      <td>False</td>\n",
       "      <td>False</td>\n",
       "      <td>3</td>\n",
       "      <td>20210727</td>\n",
       "      <td>0.0</td>\n",
       "      <td>False</td>\n",
       "      <td>2 Year</td>\n",
       "      <td>One Line</td>\n",
       "      <td>No Internet Service</td>\n",
       "      <td>False</td>\n",
       "    </tr>\n",
       "    <tr>\n",
       "      <th>2</th>\n",
       "      <td>2</td>\n",
       "      <td>2</td>\n",
       "      <td>2775-SEFEE</td>\n",
       "      <td>Male</td>\n",
       "      <td>0</td>\n",
       "      <td>No</td>\n",
       "      <td>Yes</td>\n",
       "      <td>2</td>\n",
       "      <td>1</td>\n",
       "      <td>2</td>\n",
       "      <td>...</td>\n",
       "      <td>True</td>\n",
       "      <td>True</td>\n",
       "      <td>2</td>\n",
       "      <td>20210727</td>\n",
       "      <td>0.0</td>\n",
       "      <td>False</td>\n",
       "      <td>2 Year</td>\n",
       "      <td>Two or More Lines</td>\n",
       "      <td>DSL</td>\n",
       "      <td>True</td>\n",
       "    </tr>\n",
       "    <tr>\n",
       "      <th>3</th>\n",
       "      <td>3</td>\n",
       "      <td>3</td>\n",
       "      <td>2923-ARZLG</td>\n",
       "      <td>Male</td>\n",
       "      <td>0</td>\n",
       "      <td>Yes</td>\n",
       "      <td>Yes</td>\n",
       "      <td>1</td>\n",
       "      <td>0</td>\n",
       "      <td>1</td>\n",
       "      <td>...</td>\n",
       "      <td>False</td>\n",
       "      <td>False</td>\n",
       "      <td>3</td>\n",
       "      <td>20210727</td>\n",
       "      <td>0.0</td>\n",
       "      <td>False</td>\n",
       "      <td>1 Year</td>\n",
       "      <td>One Line</td>\n",
       "      <td>No Internet Service</td>\n",
       "      <td>False</td>\n",
       "    </tr>\n",
       "    <tr>\n",
       "      <th>4</th>\n",
       "      <td>4</td>\n",
       "      <td>4</td>\n",
       "      <td>3115-CZMZD</td>\n",
       "      <td>Male</td>\n",
       "      <td>0</td>\n",
       "      <td>No</td>\n",
       "      <td>Yes</td>\n",
       "      <td>1</td>\n",
       "      <td>0</td>\n",
       "      <td>2</td>\n",
       "      <td>...</td>\n",
       "      <td>False</td>\n",
       "      <td>False</td>\n",
       "      <td>2</td>\n",
       "      <td>20210727</td>\n",
       "      <td>0.0</td>\n",
       "      <td>False</td>\n",
       "      <td>2 Year</td>\n",
       "      <td>One Line</td>\n",
       "      <td>No Internet Service</td>\n",
       "      <td>False</td>\n",
       "    </tr>\n",
       "  </tbody>\n",
       "</table>\n",
       "<p>5 rows × 28 columns</p>\n",
       "</div>"
      ],
      "text/plain": [
       "   Unnamed: 0  Unnamed: 0.1 customer_id  gender  is_senior_citizen partner  \\\n",
       "0           0             0  1371-DWPAZ  Female                  0     Yes   \n",
       "1           1             1  2520-SGTTA  Female                  0     Yes   \n",
       "2           2             2  2775-SEFEE    Male                  0      No   \n",
       "3           3             3  2923-ARZLG    Male                  0     Yes   \n",
       "4           4             4  3115-CZMZD    Male                  0      No   \n",
       "\n",
       "  dependents  phone_service  internet_service  contract_type  ...  \\\n",
       "0        Yes              0                 1              2  ...   \n",
       "1        Yes              1                 0              2  ...   \n",
       "2        Yes              2                 1              2  ...   \n",
       "3        Yes              1                 0              1  ...   \n",
       "4        Yes              1                 0              2  ...   \n",
       "\n",
       "  has_internet  has_phone_and_internet  partner_dependents start_date  \\\n",
       "0         True                   False                   3   20210727   \n",
       "1        False                   False                   3   20210727   \n",
       "2         True                    True                   2   20210727   \n",
       "3        False                   False                   3   20210727   \n",
       "4        False                   False                   2   20210727   \n",
       "\n",
       "   average_monthly_charges  validate_monthly_charges  contract_type_desc  \\\n",
       "0                      0.0                     False              2 Year   \n",
       "1                      0.0                     False              2 Year   \n",
       "2                      0.0                     False              2 Year   \n",
       "3                      0.0                     False              1 Year   \n",
       "4                      0.0                     False              2 Year   \n",
       "\n",
       "     phone_type_desc   internet_type_desc  payment_is_automatic  \n",
       "0   No Phone Service                  DSL                  True  \n",
       "1           One Line  No Internet Service                 False  \n",
       "2  Two or More Lines                  DSL                  True  \n",
       "3           One Line  No Internet Service                 False  \n",
       "4           One Line  No Internet Service                 False  \n",
       "\n",
       "[5 rows x 28 columns]"
      ]
     },
     "execution_count": 27,
     "metadata": {},
     "output_type": "execute_result"
    }
   ],
   "source": [
    "df = pd.read_csv('telco_storytelling.csv')\n",
    "df.head()"
   ]
  },
  {
   "cell_type": "code",
   "execution_count": 28,
   "id": "3312adf2",
   "metadata": {},
   "outputs": [
    {
     "name": "stdout",
     "output_type": "stream",
     "text": [
      "<class 'pandas.core.frame.DataFrame'>\n",
      "RangeIndex: 7043 entries, 0 to 7042\n",
      "Data columns (total 28 columns):\n",
      " #   Column                    Non-Null Count  Dtype  \n",
      "---  ------                    --------------  -----  \n",
      " 0   Unnamed: 0                7043 non-null   int64  \n",
      " 1   Unnamed: 0.1              7043 non-null   int64  \n",
      " 2   customer_id               7043 non-null   object \n",
      " 3   gender                    7043 non-null   object \n",
      " 4   is_senior_citizen         7043 non-null   int64  \n",
      " 5   partner                   7043 non-null   object \n",
      " 6   dependents                7043 non-null   object \n",
      " 7   phone_service             7043 non-null   int64  \n",
      " 8   internet_service          7043 non-null   int64  \n",
      " 9   contract_type             7043 non-null   int64  \n",
      " 10  payment_type              7043 non-null   object \n",
      " 11  monthly_charges           7043 non-null   float64\n",
      " 12  total_charges             7032 non-null   float64\n",
      " 13  churn                     7043 non-null   object \n",
      " 14  tenure                    7043 non-null   int64  \n",
      " 15  is_female                 7043 non-null   bool   \n",
      " 16  has_churned               7043 non-null   bool   \n",
      " 17  has_phone                 7043 non-null   bool   \n",
      " 18  has_internet              7043 non-null   bool   \n",
      " 19  has_phone_and_internet    7043 non-null   bool   \n",
      " 20  partner_dependents        7043 non-null   int64  \n",
      " 21  start_date                7043 non-null   int64  \n",
      " 22  average_monthly_charges   7043 non-null   float64\n",
      " 23  validate_monthly_charges  7043 non-null   bool   \n",
      " 24  contract_type_desc        7043 non-null   object \n",
      " 25  phone_type_desc           7043 non-null   object \n",
      " 26  internet_type_desc        7043 non-null   object \n",
      " 27  payment_is_automatic      7043 non-null   bool   \n",
      "dtypes: bool(7), float64(3), int64(9), object(9)\n",
      "memory usage: 1.2+ MB\n"
     ]
    }
   ],
   "source": [
    "df.info()"
   ]
  },
  {
   "cell_type": "code",
   "execution_count": 29,
   "id": "b855f9f8",
   "metadata": {},
   "outputs": [
    {
     "data": {
      "image/png": "[encoded data removed]",
      "text/plain": [
       "<Figure size 432x288 with 1 Axes>"
      ]
     },
     "metadata": {
      "needs_background": "light"
     },
     "output_type": "display_data"
    }
   ],
   "source": [
    "#1\n",
    "# Does tenure correlate with monthly charges? \n",
    "# H0: tenure does not correlate with monthly charges\n",
    "# Ha: tenure does correlate with monthly charges\n",
    "\n",
    "x = df.tenure\n",
    "y = df.monthly_charges\n",
    "plt.scatter(x,y)\n",
    "plt.xlabel('tenure')\n",
    "plt.ylabel('monthly_charges')\n",
    "plt.title('tenure vs monthly_charges')\n",
    "plt.ylim(0, 150)\n",
    "plt.annotate(f'Pearson r: {stats.pearsonr(x,y)[0]:.4f}\\n p-stat: {stats.pearsonr(x, y)[1]:.2f}', xy = (2, 120))\n",
    "plt.show()             "
   ]
  },
  {
   "cell_type": "code",
   "execution_count": 7,
   "id": "98d2194e",
   "metadata": {},
   "outputs": [
    {
     "data": {
      "text/plain": [
       "(0.24763344469188245, 6.724532823869006e-99)"
      ]
     },
     "execution_count": 7,
     "metadata": {},
     "output_type": "execute_result"
    }
   ],
   "source": [
    "stats.pearsonr(x, y)"
   ]
  },
  {
   "cell_type": "code",
   "execution_count": 13,
   "id": "252b800d",
   "metadata": {},
   "outputs": [
    {
     "data": {
      "text/plain": [
       "<AxesSubplot:xlabel='tenure', ylabel='monthly_charges'>"
      ]
     },
     "execution_count": 13,
     "metadata": {},
     "output_type": "execute_result"
    },
    {
     "data": {
      "image/png": "[encoded data removed]",
      "text/plain": [
       "<Figure size 432x288 with 1 Axes>"
      ]
     },
     "metadata": {
      "needs_background": "light"
     },
     "output_type": "display_data"
    }
   ],
   "source": [
    "sns.scatterplot(x='tenure', y='monthly_charges', data= df, hue= 'internet_type_desc')"
   ]
  },
  {
   "cell_type": "code",
   "execution_count": 14,
   "id": "4a2e3404",
   "metadata": {},
   "outputs": [
    {
     "data": {
      "text/plain": [
       "(0.24763344469188245, 6.724532823869006e-99)"
      ]
     },
     "execution_count": 14,
     "metadata": {},
     "output_type": "execute_result"
    }
   ],
   "source": [
    "corr, p = stats.pearsonr(x, y)\n",
    "corr, p"
   ]
  },
  {
   "cell_type": "code",
   "execution_count": null,
   "id": "ab530910",
   "metadata": {},
   "outputs": [],
   "source": [
    "# the r is not very high but indicates some positive correlation\n",
    "# p is less than alpha\n",
    "# we do not reject H0\n",
    "# we found no linear correlation between tenure and monthly charges"
   ]
  },
  {
   "cell_type": "code",
   "execution_count": 26,
   "id": "e2f9b6d1",
   "metadata": {},
   "outputs": [
    {
     "data": {
      "text/html": [
       "<div>\n",
       "<style scoped>\n",
       "    .dataframe tbody tr th:only-of-type {\n",
       "        vertical-align: middle;\n",
       "    }\n",
       "\n",
       "    .dataframe tbody tr th {\n",
       "        vertical-align: top;\n",
       "    }\n",
       "\n",
       "    .dataframe thead th {\n",
       "        text-align: right;\n",
       "    }\n",
       "</style>\n",
       "<table border=\"1\" class=\"dataframe\">\n",
       "  <thead>\n",
       "    <tr style=\"text-align: right;\">\n",
       "      <th></th>\n",
       "      <th>Unnamed: 0</th>\n",
       "      <th>Unnamed: 0.1</th>\n",
       "      <th>customer_id</th>\n",
       "      <th>gender</th>\n",
       "      <th>is_senior_citizen</th>\n",
       "      <th>partner</th>\n",
       "      <th>dependents</th>\n",
       "      <th>phone_service</th>\n",
       "      <th>internet_service</th>\n",
       "      <th>contract_type</th>\n",
       "      <th>...</th>\n",
       "      <th>has_internet</th>\n",
       "      <th>has_phone_and_internet</th>\n",
       "      <th>partner_dependents</th>\n",
       "      <th>start_date</th>\n",
       "      <th>average_monthly_charges</th>\n",
       "      <th>validate_monthly_charges</th>\n",
       "      <th>contract_type_desc</th>\n",
       "      <th>phone_type_desc</th>\n",
       "      <th>internet_type_desc</th>\n",
       "      <th>payment_is_automatic</th>\n",
       "    </tr>\n",
       "  </thead>\n",
       "  <tbody>\n",
       "    <tr>\n",
       "      <th>11</th>\n",
       "      <td>11</td>\n",
       "      <td>11</td>\n",
       "      <td>0002-ORFBO</td>\n",
       "      <td>Female</td>\n",
       "      <td>0</td>\n",
       "      <td>Yes</td>\n",
       "      <td>Yes</td>\n",
       "      <td>1</td>\n",
       "      <td>1</td>\n",
       "      <td>1</td>\n",
       "      <td>...</td>\n",
       "      <td>True</td>\n",
       "      <td>True</td>\n",
       "      <td>3</td>\n",
       "      <td>20201024</td>\n",
       "      <td>65.6</td>\n",
       "      <td>True</td>\n",
       "      <td>1 Year</td>\n",
       "      <td>One Line</td>\n",
       "      <td>DSL</td>\n",
       "      <td>False</td>\n",
       "    </tr>\n",
       "    <tr>\n",
       "      <th>12</th>\n",
       "      <td>12</td>\n",
       "      <td>12</td>\n",
       "      <td>0003-MKNFE</td>\n",
       "      <td>Male</td>\n",
       "      <td>0</td>\n",
       "      <td>No</td>\n",
       "      <td>No</td>\n",
       "      <td>2</td>\n",
       "      <td>1</td>\n",
       "      <td>0</td>\n",
       "      <td>...</td>\n",
       "      <td>True</td>\n",
       "      <td>True</td>\n",
       "      <td>0</td>\n",
       "      <td>20201024</td>\n",
       "      <td>59.9</td>\n",
       "      <td>True</td>\n",
       "      <td>Month-to-Month</td>\n",
       "      <td>Two or More Lines</td>\n",
       "      <td>DSL</td>\n",
       "      <td>False</td>\n",
       "    </tr>\n",
       "    <tr>\n",
       "      <th>13</th>\n",
       "      <td>13</td>\n",
       "      <td>13</td>\n",
       "      <td>0004-TLHLJ</td>\n",
       "      <td>Male</td>\n",
       "      <td>0</td>\n",
       "      <td>No</td>\n",
       "      <td>No</td>\n",
       "      <td>1</td>\n",
       "      <td>2</td>\n",
       "      <td>0</td>\n",
       "      <td>...</td>\n",
       "      <td>True</td>\n",
       "      <td>True</td>\n",
       "      <td>0</td>\n",
       "      <td>20210402</td>\n",
       "      <td>73.9</td>\n",
       "      <td>True</td>\n",
       "      <td>Month-to-Month</td>\n",
       "      <td>One Line</td>\n",
       "      <td>Fiber Optic</td>\n",
       "      <td>False</td>\n",
       "    </tr>\n",
       "    <tr>\n",
       "      <th>14</th>\n",
       "      <td>14</td>\n",
       "      <td>14</td>\n",
       "      <td>0011-IGKFF</td>\n",
       "      <td>Male</td>\n",
       "      <td>1</td>\n",
       "      <td>Yes</td>\n",
       "      <td>No</td>\n",
       "      <td>1</td>\n",
       "      <td>2</td>\n",
       "      <td>0</td>\n",
       "      <td>...</td>\n",
       "      <td>True</td>\n",
       "      <td>True</td>\n",
       "      <td>1</td>\n",
       "      <td>20200707</td>\n",
       "      <td>98.0</td>\n",
       "      <td>True</td>\n",
       "      <td>Month-to-Month</td>\n",
       "      <td>One Line</td>\n",
       "      <td>Fiber Optic</td>\n",
       "      <td>False</td>\n",
       "    </tr>\n",
       "    <tr>\n",
       "      <th>15</th>\n",
       "      <td>15</td>\n",
       "      <td>15</td>\n",
       "      <td>0013-EXCHZ</td>\n",
       "      <td>Female</td>\n",
       "      <td>1</td>\n",
       "      <td>Yes</td>\n",
       "      <td>No</td>\n",
       "      <td>1</td>\n",
       "      <td>2</td>\n",
       "      <td>0</td>\n",
       "      <td>...</td>\n",
       "      <td>True</td>\n",
       "      <td>True</td>\n",
       "      <td>1</td>\n",
       "      <td>20210421</td>\n",
       "      <td>83.9</td>\n",
       "      <td>True</td>\n",
       "      <td>Month-to-Month</td>\n",
       "      <td>One Line</td>\n",
       "      <td>Fiber Optic</td>\n",
       "      <td>False</td>\n",
       "    </tr>\n",
       "  </tbody>\n",
       "</table>\n",
       "<p>5 rows × 28 columns</p>\n",
       "</div>"
      ],
      "text/plain": [
       "    Unnamed: 0  Unnamed: 0.1 customer_id  gender  is_senior_citizen partner  \\\n",
       "11          11            11  0002-ORFBO  Female                  0     Yes   \n",
       "12          12            12  0003-MKNFE    Male                  0      No   \n",
       "13          13            13  0004-TLHLJ    Male                  0      No   \n",
       "14          14            14  0011-IGKFF    Male                  1     Yes   \n",
       "15          15            15  0013-EXCHZ  Female                  1     Yes   \n",
       "\n",
       "   dependents  phone_service  internet_service  contract_type  ...  \\\n",
       "11        Yes              1                 1              1  ...   \n",
       "12         No              2                 1              0  ...   \n",
       "13         No              1                 2              0  ...   \n",
       "14         No              1                 2              0  ...   \n",
       "15         No              1                 2              0  ...   \n",
       "\n",
       "   has_internet  has_phone_and_internet  partner_dependents start_date  \\\n",
       "11         True                    True                   3   20201024   \n",
       "12         True                    True                   0   20201024   \n",
       "13         True                    True                   0   20210402   \n",
       "14         True                    True                   1   20200707   \n",
       "15         True                    True                   1   20210421   \n",
       "\n",
       "    average_monthly_charges  validate_monthly_charges  contract_type_desc  \\\n",
       "11                     65.6                      True              1 Year   \n",
       "12                     59.9                      True      Month-to-Month   \n",
       "13                     73.9                      True      Month-to-Month   \n",
       "14                     98.0                      True      Month-to-Month   \n",
       "15                     83.9                      True      Month-to-Month   \n",
       "\n",
       "      phone_type_desc  internet_type_desc  payment_is_automatic  \n",
       "11           One Line                 DSL                 False  \n",
       "12  Two or More Lines                 DSL                 False  \n",
       "13           One Line         Fiber Optic                 False  \n",
       "14           One Line         Fiber Optic                 False  \n",
       "15           One Line         Fiber Optic                 False  \n",
       "\n",
       "[5 rows x 28 columns]"
      ]
     },
     "execution_count": 26,
     "metadata": {},
     "output_type": "execute_result"
    }
   ],
   "source": [
    "# Total charges? \n",
    "# H0: tenure does not correlate with total charges\n",
    "# Ha: tenure does correlate with total charges\n",
    "\n",
    "# the data must be cleaned because NaN or nulls will break the pearson function\n",
    "cleaned = df[df['total_charges'] > 0]\n",
    "cleaned.head()"
   ]
  },
  {
   "cell_type": "code",
   "execution_count": 30,
   "id": "aff88cd5",
   "metadata": {},
   "outputs": [
    {
     "name": "stdout",
     "output_type": "stream",
     "text": [
      "<class 'pandas.core.frame.DataFrame'>\n",
      "Int64Index: 7032 entries, 11 to 7042\n",
      "Data columns (total 28 columns):\n",
      " #   Column                    Non-Null Count  Dtype  \n",
      "---  ------                    --------------  -----  \n",
      " 0   Unnamed: 0                7032 non-null   int64  \n",
      " 1   Unnamed: 0.1              7032 non-null   int64  \n",
      " 2   customer_id               7032 non-null   object \n",
      " 3   gender                    7032 non-null   object \n",
      " 4   is_senior_citizen         7032 non-null   int64  \n",
      " 5   partner                   7032 non-null   object \n",
      " 6   dependents                7032 non-null   object \n",
      " 7   phone_service             7032 non-null   int64  \n",
      " 8   internet_service          7032 non-null   int64  \n",
      " 9   contract_type             7032 non-null   int64  \n",
      " 10  payment_type              7032 non-null   object \n",
      " 11  monthly_charges           7032 non-null   float64\n",
      " 12  total_charges             7032 non-null   float64\n",
      " 13  churn                     7032 non-null   object \n",
      " 14  tenure                    7032 non-null   int64  \n",
      " 15  is_female                 7032 non-null   bool   \n",
      " 16  has_churned               7032 non-null   bool   \n",
      " 17  has_phone                 7032 non-null   bool   \n",
      " 18  has_internet              7032 non-null   bool   \n",
      " 19  has_phone_and_internet    7032 non-null   bool   \n",
      " 20  partner_dependents        7032 non-null   int64  \n",
      " 21  start_date                7032 non-null   int64  \n",
      " 22  average_monthly_charges   7032 non-null   float64\n",
      " 23  validate_monthly_charges  7032 non-null   bool   \n",
      " 24  contract_type_desc        7032 non-null   object \n",
      " 25  phone_type_desc           7032 non-null   object \n",
      " 26  internet_type_desc        7032 non-null   object \n",
      " 27  payment_is_automatic      7032 non-null   bool   \n",
      "dtypes: bool(7), float64(3), int64(9), object(9)\n",
      "memory usage: 1.2+ MB\n"
     ]
    }
   ],
   "source": [
    "cleaned.info()"
   ]
  },
  {
   "cell_type": "code",
   "execution_count": 19,
   "id": "e7dd0f54",
   "metadata": {},
   "outputs": [
    {
     "data": {
      "text/plain": [
       "<AxesSubplot:xlabel='tenure', ylabel='total_charges'>"
      ]
     },
     "execution_count": 19,
     "metadata": {},
     "output_type": "execute_result"
    },
    {
     "data": {
      "image/png": "[encoded data removed]",
      "text/plain": [
       "<Figure size 432x288 with 1 Axes>"
      ]
     },
     "metadata": {
      "needs_background": "light"
     },
     "output_type": "display_data"
    }
   ],
   "source": [
    "alpha = 0.05\n",
    "x = cleaned.tenure\n",
    "y = cleaned.total_charges\n",
    "sns.scatterplot(x='tenure', y='total_charges', data=df, hue='internet_type_desc')"
   ]
  },
  {
   "cell_type": "code",
   "execution_count": 20,
   "id": "694e1daf",
   "metadata": {},
   "outputs": [
    {
     "data": {
      "text/plain": [
       "(0.8262413164764268, 0.0)"
      ]
     },
     "execution_count": 20,
     "metadata": {},
     "output_type": "execute_result"
    }
   ],
   "source": [
    "corr, p = stats.pearsonr(x, y)\n",
    "corr, p\n",
    "# the test stat indicates positive correlation\n",
    "# the p stat is lower than alpha, so we should reject H0\n",
    "# we accept Ha\n",
    "# there is positve correlation between tenure and total_charges"
   ]
  },
  {
   "cell_type": "code",
   "execution_count": 23,
   "id": "f7862055",
   "metadata": {},
   "outputs": [
    {
     "data": {
      "text/plain": [
       "21      2460.55\n",
       "25      2560.10\n",
       "27      1993.20\n",
       "30        25.10\n",
       "36        30.50\n",
       "         ...   \n",
       "6979    3517.90\n",
       "6980      25.05\n",
       "6996     552.10\n",
       "7016    4263.40\n",
       "7042    3707.60\n",
       "Name: total_charges, Length: 680, dtype: float64"
      ]
     },
     "execution_count": 23,
     "metadata": {},
     "output_type": "execute_result"
    }
   ],
   "source": [
    "#1\n",
    "#What happens if you control for phone and internet service?\n",
    "\n",
    "# customers without phone service\n",
    "no_phone = cleaned[(cleaned['phone_type_desc'] == 'No Phone Service')].total_charges\n",
    "no_phone"
   ]
  },
  {
   "cell_type": "code",
   "execution_count": 32,
   "id": "a15494a8",
   "metadata": {},
   "outputs": [
    {
     "data": {
      "text/plain": [
       "21      54\n",
       "25      57\n",
       "27      33\n",
       "30       1\n",
       "36       1\n",
       "        ..\n",
       "6979    66\n",
       "6980     1\n",
       "6996    11\n",
       "7016    70\n",
       "7042    63\n",
       "Name: tenure, Length: 680, dtype: int64"
      ]
     },
     "execution_count": 32,
     "metadata": {},
     "output_type": "execute_result"
    }
   ],
   "source": [
    "tenure_no_ph = cleaned[(cleaned['phone_type_desc'] == 'No Phone Service')].tenure\n",
    "tenure_no_ph"
   ]
  },
  {
   "cell_type": "code",
   "execution_count": 35,
   "id": "20667063",
   "metadata": {},
   "outputs": [
    {
     "data": {
      "text/plain": [
       "Text(0, 0.5, 'total charges without phone')"
      ]
     },
     "execution_count": 35,
     "metadata": {},
     "output_type": "execute_result"
    },
    {
     "data": {
      "image/png": "[encoded data removed]",
      "text/plain": [
       "<Figure size 432x288 with 1 Axes>"
      ]
     },
     "metadata": {
      "needs_background": "light"
     },
     "output_type": "display_data"
    }
   ],
   "source": [
    "x = tenure_no_ph\n",
    "y = no_phone\n",
    "plt.scatter(x, y)\n",
    "plt.xlabel('tenure')\n",
    "plt.ylabel('total charges without phone')"
   ]
  },
  {
   "cell_type": "code",
   "execution_count": 37,
   "id": "8263dd65",
   "metadata": {},
   "outputs": [
    {
     "data": {
      "text/plain": [
       "(0.9541384580311343, 0.0)"
      ]
     },
     "execution_count": 37,
     "metadata": {},
     "output_type": "execute_result"
    }
   ],
   "source": [
    "corr, p = stats.pearsonr(x, y)\n",
    "corr, p\n",
    "# test stat shows strong positive correlation and p stat is less than alpha\n",
    "# we reject H0\n",
    "# there is correlation"
   ]
  },
  {
   "cell_type": "code",
   "execution_count": 46,
   "id": "cc67f1ac",
   "metadata": {},
   "outputs": [
    {
     "data": {
      "text/plain": [
       "11       593.30\n",
       "12       542.40\n",
       "13       280.85\n",
       "14      1237.85\n",
       "15       267.40\n",
       "         ...   \n",
       "7037      85.50\n",
       "7038     742.90\n",
       "7039    1873.70\n",
       "7040      92.75\n",
       "7041    4627.65\n",
       "Name: total_charges, Length: 6352, dtype: float64"
      ]
     },
     "execution_count": 46,
     "metadata": {},
     "output_type": "execute_result"
    }
   ],
   "source": [
    "# customers with phone service\n",
    "with_phone = cleaned[cleaned['phone_type_desc'] != 'No Phone Service'].total_charges\n",
    "with_phone"
   ]
  },
  {
   "cell_type": "code",
   "execution_count": 48,
   "id": "b3065340",
   "metadata": {},
   "outputs": [
    {
     "data": {
      "text/plain": [
       "11       9\n",
       "12       9\n",
       "13       4\n",
       "14      13\n",
       "15       3\n",
       "        ..\n",
       "7037     4\n",
       "7038    13\n",
       "7039    22\n",
       "7040     2\n",
       "7041    68\n",
       "Name: tenure, Length: 6352, dtype: int64"
      ]
     },
     "execution_count": 48,
     "metadata": {},
     "output_type": "execute_result"
    }
   ],
   "source": [
    "tenure_w_phone = cleaned[(cleaned['phone_type_desc'] != 'No Phone Service')].tenure\n",
    "tenure_w_phone"
   ]
  },
  {
   "cell_type": "code",
   "execution_count": 49,
   "id": "134af84f",
   "metadata": {},
   "outputs": [
    {
     "data": {
      "text/plain": [
       "Text(0, 0.5, 'total charges with phone')"
      ]
     },
     "execution_count": 49,
     "metadata": {},
     "output_type": "execute_result"
    },
    {
     "data": {
      "image/png": "[encoded data removed]",
      "text/plain": [
       "<Figure size 432x288 with 1 Axes>"
      ]
     },
     "metadata": {
      "needs_background": "light"
     },
     "output_type": "display_data"
    }
   ],
   "source": [
    "x = tenure_w_phone\n",
    "y = with_phone\n",
    "plt.scatter(x, y)\n",
    "plt.xlabel('tenure')\n",
    "plt.ylabel('total charges with phone')"
   ]
  },
  {
   "cell_type": "code",
   "execution_count": 50,
   "id": "8fc051d7",
   "metadata": {},
   "outputs": [
    {
     "data": {
      "text/plain": [
       "(0.8302463707361658, 0.0)"
      ]
     },
     "execution_count": 50,
     "metadata": {},
     "output_type": "execute_result"
    }
   ],
   "source": [
    "corr, p = stats.pearsonr(x, y)\n",
    "corr, p\n",
    "# test stat indicates positive correlation and p stat is less than alpha\n",
    "# we reject H0\n",
    "# there is correlation"
   ]
  },
  {
   "cell_type": "code",
   "execution_count": 57,
   "id": "c8a8cae8",
   "metadata": {},
   "outputs": [
    {
     "data": {
      "text/html": [
       "<div>\n",
       "<style scoped>\n",
       "    .dataframe tbody tr th:only-of-type {\n",
       "        vertical-align: middle;\n",
       "    }\n",
       "\n",
       "    .dataframe tbody tr th {\n",
       "        vertical-align: top;\n",
       "    }\n",
       "\n",
       "    .dataframe thead th {\n",
       "        text-align: right;\n",
       "    }\n",
       "</style>\n",
       "<table border=\"1\" class=\"dataframe\">\n",
       "  <thead>\n",
       "    <tr style=\"text-align: right;\">\n",
       "      <th></th>\n",
       "      <th>Unnamed: 0</th>\n",
       "      <th>Unnamed: 0.1</th>\n",
       "      <th>customer_id</th>\n",
       "      <th>gender</th>\n",
       "      <th>is_senior_citizen</th>\n",
       "      <th>partner</th>\n",
       "      <th>dependents</th>\n",
       "      <th>phone_service</th>\n",
       "      <th>internet_service</th>\n",
       "      <th>contract_type</th>\n",
       "      <th>...</th>\n",
       "      <th>has_phone_and_internet</th>\n",
       "      <th>partner_dependents</th>\n",
       "      <th>start_date</th>\n",
       "      <th>average_monthly_charges</th>\n",
       "      <th>validate_monthly_charges</th>\n",
       "      <th>contract_type_desc</th>\n",
       "      <th>phone_type_desc</th>\n",
       "      <th>internet_type_desc</th>\n",
       "      <th>payment_is_automatic</th>\n",
       "      <th>internet</th>\n",
       "    </tr>\n",
       "  </thead>\n",
       "  <tbody>\n",
       "    <tr>\n",
       "      <th>11</th>\n",
       "      <td>11</td>\n",
       "      <td>11</td>\n",
       "      <td>0002-ORFBO</td>\n",
       "      <td>Female</td>\n",
       "      <td>0</td>\n",
       "      <td>Yes</td>\n",
       "      <td>Yes</td>\n",
       "      <td>1</td>\n",
       "      <td>1</td>\n",
       "      <td>1</td>\n",
       "      <td>...</td>\n",
       "      <td>True</td>\n",
       "      <td>3</td>\n",
       "      <td>20201024</td>\n",
       "      <td>65.60</td>\n",
       "      <td>True</td>\n",
       "      <td>1 Year</td>\n",
       "      <td>One Line</td>\n",
       "      <td>DSL</td>\n",
       "      <td>False</td>\n",
       "      <td>True</td>\n",
       "    </tr>\n",
       "    <tr>\n",
       "      <th>12</th>\n",
       "      <td>12</td>\n",
       "      <td>12</td>\n",
       "      <td>0003-MKNFE</td>\n",
       "      <td>Male</td>\n",
       "      <td>0</td>\n",
       "      <td>No</td>\n",
       "      <td>No</td>\n",
       "      <td>2</td>\n",
       "      <td>1</td>\n",
       "      <td>0</td>\n",
       "      <td>...</td>\n",
       "      <td>True</td>\n",
       "      <td>0</td>\n",
       "      <td>20201024</td>\n",
       "      <td>59.90</td>\n",
       "      <td>True</td>\n",
       "      <td>Month-to-Month</td>\n",
       "      <td>Two or More Lines</td>\n",
       "      <td>DSL</td>\n",
       "      <td>False</td>\n",
       "      <td>True</td>\n",
       "    </tr>\n",
       "    <tr>\n",
       "      <th>13</th>\n",
       "      <td>13</td>\n",
       "      <td>13</td>\n",
       "      <td>0004-TLHLJ</td>\n",
       "      <td>Male</td>\n",
       "      <td>0</td>\n",
       "      <td>No</td>\n",
       "      <td>No</td>\n",
       "      <td>1</td>\n",
       "      <td>2</td>\n",
       "      <td>0</td>\n",
       "      <td>...</td>\n",
       "      <td>True</td>\n",
       "      <td>0</td>\n",
       "      <td>20210402</td>\n",
       "      <td>73.90</td>\n",
       "      <td>True</td>\n",
       "      <td>Month-to-Month</td>\n",
       "      <td>One Line</td>\n",
       "      <td>Fiber Optic</td>\n",
       "      <td>False</td>\n",
       "      <td>True</td>\n",
       "    </tr>\n",
       "    <tr>\n",
       "      <th>14</th>\n",
       "      <td>14</td>\n",
       "      <td>14</td>\n",
       "      <td>0011-IGKFF</td>\n",
       "      <td>Male</td>\n",
       "      <td>1</td>\n",
       "      <td>Yes</td>\n",
       "      <td>No</td>\n",
       "      <td>1</td>\n",
       "      <td>2</td>\n",
       "      <td>0</td>\n",
       "      <td>...</td>\n",
       "      <td>True</td>\n",
       "      <td>1</td>\n",
       "      <td>20200707</td>\n",
       "      <td>98.00</td>\n",
       "      <td>True</td>\n",
       "      <td>Month-to-Month</td>\n",
       "      <td>One Line</td>\n",
       "      <td>Fiber Optic</td>\n",
       "      <td>False</td>\n",
       "      <td>True</td>\n",
       "    </tr>\n",
       "    <tr>\n",
       "      <th>15</th>\n",
       "      <td>15</td>\n",
       "      <td>15</td>\n",
       "      <td>0013-EXCHZ</td>\n",
       "      <td>Female</td>\n",
       "      <td>1</td>\n",
       "      <td>Yes</td>\n",
       "      <td>No</td>\n",
       "      <td>1</td>\n",
       "      <td>2</td>\n",
       "      <td>0</td>\n",
       "      <td>...</td>\n",
       "      <td>True</td>\n",
       "      <td>1</td>\n",
       "      <td>20210421</td>\n",
       "      <td>83.90</td>\n",
       "      <td>True</td>\n",
       "      <td>Month-to-Month</td>\n",
       "      <td>One Line</td>\n",
       "      <td>Fiber Optic</td>\n",
       "      <td>False</td>\n",
       "      <td>True</td>\n",
       "    </tr>\n",
       "    <tr>\n",
       "      <th>...</th>\n",
       "      <td>...</td>\n",
       "      <td>...</td>\n",
       "      <td>...</td>\n",
       "      <td>...</td>\n",
       "      <td>...</td>\n",
       "      <td>...</td>\n",
       "      <td>...</td>\n",
       "      <td>...</td>\n",
       "      <td>...</td>\n",
       "      <td>...</td>\n",
       "      <td>...</td>\n",
       "      <td>...</td>\n",
       "      <td>...</td>\n",
       "      <td>...</td>\n",
       "      <td>...</td>\n",
       "      <td>...</td>\n",
       "      <td>...</td>\n",
       "      <td>...</td>\n",
       "      <td>...</td>\n",
       "      <td>...</td>\n",
       "      <td>...</td>\n",
       "    </tr>\n",
       "    <tr>\n",
       "      <th>7038</th>\n",
       "      <td>7038</td>\n",
       "      <td>7038</td>\n",
       "      <td>9987-LUTYD</td>\n",
       "      <td>Female</td>\n",
       "      <td>0</td>\n",
       "      <td>No</td>\n",
       "      <td>No</td>\n",
       "      <td>1</td>\n",
       "      <td>1</td>\n",
       "      <td>1</td>\n",
       "      <td>...</td>\n",
       "      <td>True</td>\n",
       "      <td>0</td>\n",
       "      <td>20200612</td>\n",
       "      <td>55.15</td>\n",
       "      <td>True</td>\n",
       "      <td>1 Year</td>\n",
       "      <td>One Line</td>\n",
       "      <td>DSL</td>\n",
       "      <td>False</td>\n",
       "      <td>True</td>\n",
       "    </tr>\n",
       "    <tr>\n",
       "      <th>7039</th>\n",
       "      <td>7039</td>\n",
       "      <td>7039</td>\n",
       "      <td>9992-RRAMN</td>\n",
       "      <td>Male</td>\n",
       "      <td>0</td>\n",
       "      <td>Yes</td>\n",
       "      <td>No</td>\n",
       "      <td>2</td>\n",
       "      <td>2</td>\n",
       "      <td>0</td>\n",
       "      <td>...</td>\n",
       "      <td>True</td>\n",
       "      <td>1</td>\n",
       "      <td>20190926</td>\n",
       "      <td>85.10</td>\n",
       "      <td>True</td>\n",
       "      <td>Month-to-Month</td>\n",
       "      <td>Two or More Lines</td>\n",
       "      <td>Fiber Optic</td>\n",
       "      <td>False</td>\n",
       "      <td>True</td>\n",
       "    </tr>\n",
       "    <tr>\n",
       "      <th>7040</th>\n",
       "      <td>7040</td>\n",
       "      <td>7040</td>\n",
       "      <td>9992-UJOEL</td>\n",
       "      <td>Male</td>\n",
       "      <td>0</td>\n",
       "      <td>No</td>\n",
       "      <td>No</td>\n",
       "      <td>1</td>\n",
       "      <td>1</td>\n",
       "      <td>0</td>\n",
       "      <td>...</td>\n",
       "      <td>True</td>\n",
       "      <td>0</td>\n",
       "      <td>20210531</td>\n",
       "      <td>50.30</td>\n",
       "      <td>True</td>\n",
       "      <td>Month-to-Month</td>\n",
       "      <td>One Line</td>\n",
       "      <td>DSL</td>\n",
       "      <td>False</td>\n",
       "      <td>True</td>\n",
       "    </tr>\n",
       "    <tr>\n",
       "      <th>7041</th>\n",
       "      <td>7041</td>\n",
       "      <td>7041</td>\n",
       "      <td>9993-LHIEB</td>\n",
       "      <td>Male</td>\n",
       "      <td>0</td>\n",
       "      <td>Yes</td>\n",
       "      <td>Yes</td>\n",
       "      <td>1</td>\n",
       "      <td>1</td>\n",
       "      <td>2</td>\n",
       "      <td>...</td>\n",
       "      <td>True</td>\n",
       "      <td>3</td>\n",
       "      <td>20151121</td>\n",
       "      <td>67.85</td>\n",
       "      <td>True</td>\n",
       "      <td>2 Year</td>\n",
       "      <td>One Line</td>\n",
       "      <td>DSL</td>\n",
       "      <td>False</td>\n",
       "      <td>True</td>\n",
       "    </tr>\n",
       "    <tr>\n",
       "      <th>7042</th>\n",
       "      <td>7042</td>\n",
       "      <td>7042</td>\n",
       "      <td>9995-HOTOH</td>\n",
       "      <td>Male</td>\n",
       "      <td>0</td>\n",
       "      <td>Yes</td>\n",
       "      <td>Yes</td>\n",
       "      <td>0</td>\n",
       "      <td>1</td>\n",
       "      <td>2</td>\n",
       "      <td>...</td>\n",
       "      <td>False</td>\n",
       "      <td>3</td>\n",
       "      <td>20160502</td>\n",
       "      <td>59.00</td>\n",
       "      <td>True</td>\n",
       "      <td>2 Year</td>\n",
       "      <td>No Phone Service</td>\n",
       "      <td>DSL</td>\n",
       "      <td>False</td>\n",
       "      <td>True</td>\n",
       "    </tr>\n",
       "  </tbody>\n",
       "</table>\n",
       "<p>7032 rows × 29 columns</p>\n",
       "</div>"
      ],
      "text/plain": [
       "      Unnamed: 0  Unnamed: 0.1 customer_id  gender  is_senior_citizen partner  \\\n",
       "11            11            11  0002-ORFBO  Female                  0     Yes   \n",
       "12            12            12  0003-MKNFE    Male                  0      No   \n",
       "13            13            13  0004-TLHLJ    Male                  0      No   \n",
       "14            14            14  0011-IGKFF    Male                  1     Yes   \n",
       "15            15            15  0013-EXCHZ  Female                  1     Yes   \n",
       "...          ...           ...         ...     ...                ...     ...   \n",
       "7038        7038          7038  9987-LUTYD  Female                  0      No   \n",
       "7039        7039          7039  9992-RRAMN    Male                  0     Yes   \n",
       "7040        7040          7040  9992-UJOEL    Male                  0      No   \n",
       "7041        7041          7041  9993-LHIEB    Male                  0     Yes   \n",
       "7042        7042          7042  9995-HOTOH    Male                  0     Yes   \n",
       "\n",
       "     dependents  phone_service  internet_service  contract_type  ...  \\\n",
       "11          Yes              1                 1              1  ...   \n",
       "12           No              2                 1              0  ...   \n",
       "13           No              1                 2              0  ...   \n",
       "14           No              1                 2              0  ...   \n",
       "15           No              1                 2              0  ...   \n",
       "...         ...            ...               ...            ...  ...   \n",
       "7038         No              1                 1              1  ...   \n",
       "7039         No              2                 2              0  ...   \n",
       "7040         No              1                 1              0  ...   \n",
       "7041        Yes              1                 1              2  ...   \n",
       "7042        Yes              0                 1              2  ...   \n",
       "\n",
       "     has_phone_and_internet  partner_dependents  start_date  \\\n",
       "11                     True                   3    20201024   \n",
       "12                     True                   0    20201024   \n",
       "13                     True                   0    20210402   \n",
       "14                     True                   1    20200707   \n",
       "15                     True                   1    20210421   \n",
       "...                     ...                 ...         ...   \n",
       "7038                   True                   0    20200612   \n",
       "7039                   True                   1    20190926   \n",
       "7040                   True                   0    20210531   \n",
       "7041                   True                   3    20151121   \n",
       "7042                  False                   3    20160502   \n",
       "\n",
       "     average_monthly_charges  validate_monthly_charges  contract_type_desc  \\\n",
       "11                     65.60                      True              1 Year   \n",
       "12                     59.90                      True      Month-to-Month   \n",
       "13                     73.90                      True      Month-to-Month   \n",
       "14                     98.00                      True      Month-to-Month   \n",
       "15                     83.90                      True      Month-to-Month   \n",
       "...                      ...                       ...                 ...   \n",
       "7038                   55.15                      True              1 Year   \n",
       "7039                   85.10                      True      Month-to-Month   \n",
       "7040                   50.30                      True      Month-to-Month   \n",
       "7041                   67.85                      True              2 Year   \n",
       "7042                   59.00                      True              2 Year   \n",
       "\n",
       "        phone_type_desc  internet_type_desc  payment_is_automatic  internet  \n",
       "11             One Line                 DSL                 False      True  \n",
       "12    Two or More Lines                 DSL                 False      True  \n",
       "13             One Line         Fiber Optic                 False      True  \n",
       "14             One Line         Fiber Optic                 False      True  \n",
       "15             One Line         Fiber Optic                 False      True  \n",
       "...                 ...                 ...                   ...       ...  \n",
       "7038           One Line                 DSL                 False      True  \n",
       "7039  Two or More Lines         Fiber Optic                 False      True  \n",
       "7040           One Line                 DSL                 False      True  \n",
       "7041           One Line                 DSL                 False      True  \n",
       "7042   No Phone Service                 DSL                 False      True  \n",
       "\n",
       "[7032 rows x 29 columns]"
      ]
     },
     "execution_count": 57,
     "metadata": {},
     "output_type": "execute_result"
    }
   ],
   "source": [
    "# controlling for internet service type\n",
    "cleaned['internet'] = np.where(cleaned.internet_service != 0, True, False)\n",
    "cleaned"
   ]
  },
  {
   "cell_type": "code",
   "execution_count": 59,
   "id": "c7ccb541",
   "metadata": {},
   "outputs": [
    {
     "data": {
      "text/plain": [
       "(1520,)"
      ]
     },
     "execution_count": 59,
     "metadata": {},
     "output_type": "execute_result"
    }
   ],
   "source": [
    "no_internet_tc = cleaned[cleaned['internet'] == False].total_charges\n",
    "no_internet_tc.shape"
   ]
  },
  {
   "cell_type": "code",
   "execution_count": 61,
   "id": "624e0aad",
   "metadata": {},
   "outputs": [
    {
     "data": {
      "text/plain": [
       "(1520,)"
      ]
     },
     "execution_count": 61,
     "metadata": {},
     "output_type": "execute_result"
    }
   ],
   "source": [
    "tenure_no_internet = cleaned[cleaned['internet'] == False].tenure\n",
    "tenure_no_internet.shape"
   ]
  },
  {
   "cell_type": "code",
   "execution_count": 62,
   "id": "7fee84ec",
   "metadata": {},
   "outputs": [
    {
     "data": {
      "image/png": "[encoded data removed]",
      "text/plain": [
       "<Figure size 432x288 with 1 Axes>"
      ]
     },
     "metadata": {
      "needs_background": "light"
     },
     "output_type": "display_data"
    }
   ],
   "source": [
    "alpha = 0.05\n",
    "x = tenure_no_internet\n",
    "y = no_internet_tc\n",
    "plt.scatter(x, y)\n",
    "plt.xlabel('tenure without internet')\n",
    "plt.ylabel('total cost without internet')\n",
    "plt.show()"
   ]
  },
  {
   "cell_type": "code",
   "execution_count": 63,
   "id": "8ecbae64",
   "metadata": {},
   "outputs": [
    {
     "data": {
      "text/plain": [
       "(0.9842322211133386, 0.0)"
      ]
     },
     "execution_count": 63,
     "metadata": {},
     "output_type": "execute_result"
    }
   ],
   "source": [
    "corr, p = stats.pearsonr(x, y)\n",
    "corr, p\n",
    "# test stat shows positive correlation and p stat is less than alpha\n",
    "# we reject H0"
   ]
  },
  {
   "cell_type": "code",
   "execution_count": 60,
   "id": "79df7b3c",
   "metadata": {},
   "outputs": [
    {
     "data": {
      "text/plain": [
       "(5512,)"
      ]
     },
     "execution_count": 60,
     "metadata": {},
     "output_type": "execute_result"
    }
   ],
   "source": [
    "internet_tc = cleaned[cleaned['internet'] == True].total_charges\n",
    "internet_tc.shape"
   ]
  },
  {
   "cell_type": "code",
   "execution_count": 64,
   "id": "e69d3174",
   "metadata": {},
   "outputs": [
    {
     "data": {
      "text/plain": [
       "(5512,)"
      ]
     },
     "execution_count": 64,
     "metadata": {},
     "output_type": "execute_result"
    }
   ],
   "source": [
    "tenure_w_internet = cleaned[cleaned['internet'] == True].tenure\n",
    "tenure_w_internet.shape"
   ]
  },
  {
   "cell_type": "code",
   "execution_count": 65,
   "id": "d3e2bdc4",
   "metadata": {},
   "outputs": [
    {
     "data": {
      "image/png": "[encoded data removed]",
      "text/plain": [
       "<Figure size 432x288 with 1 Axes>"
      ]
     },
     "metadata": {
      "needs_background": "light"
     },
     "output_type": "display_data"
    }
   ],
   "source": [
    "alpha = 0.05\n",
    "x= tenure_w_internet\n",
    "y= internet_tc\n",
    "plt.scatter(x,y)\n",
    "plt.xlabel('tenure with internet')\n",
    "plt.ylabel('total cost with internet')\n",
    "plt.show()"
   ]
  },
  {
   "cell_type": "code",
   "execution_count": 66,
   "id": "1f4e5f2b",
   "metadata": {},
   "outputs": [
    {
     "data": {
      "text/plain": [
       "(0.93264393080342, 0.0)"
      ]
     },
     "execution_count": 66,
     "metadata": {},
     "output_type": "execute_result"
    }
   ],
   "source": [
    "corr, p = stats.pearsonr(x,y)\n",
    "corr, p\n",
    "# test stat shows positive correlation and p stat is less than alpha, so we reject H0\n",
    "# there is correlation"
   ]
  },
  {
   "cell_type": "code",
   "execution_count": 71,
   "id": "4b9eb23f",
   "metadata": {},
   "outputs": [
    {
     "data": {
      "text/html": [
       "<div>\n",
       "<style scoped>\n",
       "    .dataframe tbody tr th:only-of-type {\n",
       "        vertical-align: middle;\n",
       "    }\n",
       "\n",
       "    .dataframe tbody tr th {\n",
       "        vertical-align: top;\n",
       "    }\n",
       "\n",
       "    .dataframe thead th {\n",
       "        text-align: right;\n",
       "    }\n",
       "</style>\n",
       "<table border=\"1\" class=\"dataframe\">\n",
       "  <thead>\n",
       "    <tr style=\"text-align: right;\">\n",
       "      <th></th>\n",
       "      <th>emp_no</th>\n",
       "      <th>birth_date</th>\n",
       "      <th>first_name</th>\n",
       "      <th>last_name</th>\n",
       "      <th>gender</th>\n",
       "      <th>hire_date</th>\n",
       "      <th>salary</th>\n",
       "      <th>from_date</th>\n",
       "      <th>to_date</th>\n",
       "      <th>title</th>\n",
       "      <th>from_date</th>\n",
       "      <th>to_date</th>\n",
       "      <th>time_at_job</th>\n",
       "    </tr>\n",
       "  </thead>\n",
       "  <tbody>\n",
       "    <tr>\n",
       "      <th>0</th>\n",
       "      <td>10001</td>\n",
       "      <td>1953-09-02</td>\n",
       "      <td>Georgi</td>\n",
       "      <td>Facello</td>\n",
       "      <td>M</td>\n",
       "      <td>1986-06-26</td>\n",
       "      <td>88958</td>\n",
       "      <td>2002-06-22</td>\n",
       "      <td>9999-01-01</td>\n",
       "      <td>Senior Engineer</td>\n",
       "      <td>1986-06-26</td>\n",
       "      <td>9999-01-01</td>\n",
       "      <td>12829</td>\n",
       "    </tr>\n",
       "    <tr>\n",
       "      <th>1</th>\n",
       "      <td>10002</td>\n",
       "      <td>1964-06-02</td>\n",
       "      <td>Bezalel</td>\n",
       "      <td>Simmel</td>\n",
       "      <td>F</td>\n",
       "      <td>1985-11-21</td>\n",
       "      <td>72527</td>\n",
       "      <td>2001-08-02</td>\n",
       "      <td>9999-01-01</td>\n",
       "      <td>Staff</td>\n",
       "      <td>1996-08-03</td>\n",
       "      <td>9999-01-01</td>\n",
       "      <td>13046</td>\n",
       "    </tr>\n",
       "    <tr>\n",
       "      <th>2</th>\n",
       "      <td>10003</td>\n",
       "      <td>1959-12-03</td>\n",
       "      <td>Parto</td>\n",
       "      <td>Bamford</td>\n",
       "      <td>M</td>\n",
       "      <td>1986-08-28</td>\n",
       "      <td>43311</td>\n",
       "      <td>2001-12-01</td>\n",
       "      <td>9999-01-01</td>\n",
       "      <td>Senior Engineer</td>\n",
       "      <td>1995-12-03</td>\n",
       "      <td>9999-01-01</td>\n",
       "      <td>12766</td>\n",
       "    </tr>\n",
       "    <tr>\n",
       "      <th>3</th>\n",
       "      <td>10004</td>\n",
       "      <td>1954-05-01</td>\n",
       "      <td>Chirstian</td>\n",
       "      <td>Koblick</td>\n",
       "      <td>M</td>\n",
       "      <td>1986-12-01</td>\n",
       "      <td>74057</td>\n",
       "      <td>2001-11-27</td>\n",
       "      <td>9999-01-01</td>\n",
       "      <td>Engineer</td>\n",
       "      <td>1986-12-01</td>\n",
       "      <td>1995-12-01</td>\n",
       "      <td>12671</td>\n",
       "    </tr>\n",
       "    <tr>\n",
       "      <th>4</th>\n",
       "      <td>10004</td>\n",
       "      <td>1954-05-01</td>\n",
       "      <td>Chirstian</td>\n",
       "      <td>Koblick</td>\n",
       "      <td>M</td>\n",
       "      <td>1986-12-01</td>\n",
       "      <td>74057</td>\n",
       "      <td>2001-11-27</td>\n",
       "      <td>9999-01-01</td>\n",
       "      <td>Senior Engineer</td>\n",
       "      <td>1995-12-01</td>\n",
       "      <td>9999-01-01</td>\n",
       "      <td>12671</td>\n",
       "    </tr>\n",
       "    <tr>\n",
       "      <th>...</th>\n",
       "      <td>...</td>\n",
       "      <td>...</td>\n",
       "      <td>...</td>\n",
       "      <td>...</td>\n",
       "      <td>...</td>\n",
       "      <td>...</td>\n",
       "      <td>...</td>\n",
       "      <td>...</td>\n",
       "      <td>...</td>\n",
       "      <td>...</td>\n",
       "      <td>...</td>\n",
       "      <td>...</td>\n",
       "      <td>...</td>\n",
       "    </tr>\n",
       "    <tr>\n",
       "      <th>371238</th>\n",
       "      <td>499997</td>\n",
       "      <td>1961-08-03</td>\n",
       "      <td>Berhard</td>\n",
       "      <td>Lenart</td>\n",
       "      <td>M</td>\n",
       "      <td>1986-04-21</td>\n",
       "      <td>83441</td>\n",
       "      <td>2001-08-26</td>\n",
       "      <td>9999-01-01</td>\n",
       "      <td>Engineer</td>\n",
       "      <td>1987-08-30</td>\n",
       "      <td>1992-08-29</td>\n",
       "      <td>12895</td>\n",
       "    </tr>\n",
       "    <tr>\n",
       "      <th>371239</th>\n",
       "      <td>499997</td>\n",
       "      <td>1961-08-03</td>\n",
       "      <td>Berhard</td>\n",
       "      <td>Lenart</td>\n",
       "      <td>M</td>\n",
       "      <td>1986-04-21</td>\n",
       "      <td>83441</td>\n",
       "      <td>2001-08-26</td>\n",
       "      <td>9999-01-01</td>\n",
       "      <td>Senior Engineer</td>\n",
       "      <td>1992-08-29</td>\n",
       "      <td>9999-01-01</td>\n",
       "      <td>12895</td>\n",
       "    </tr>\n",
       "    <tr>\n",
       "      <th>371240</th>\n",
       "      <td>499998</td>\n",
       "      <td>1956-09-05</td>\n",
       "      <td>Patricia</td>\n",
       "      <td>Breugel</td>\n",
       "      <td>M</td>\n",
       "      <td>1993-10-13</td>\n",
       "      <td>55003</td>\n",
       "      <td>2001-12-25</td>\n",
       "      <td>9999-01-01</td>\n",
       "      <td>Senior Staff</td>\n",
       "      <td>1998-12-27</td>\n",
       "      <td>9999-01-01</td>\n",
       "      <td>10163</td>\n",
       "    </tr>\n",
       "    <tr>\n",
       "      <th>371241</th>\n",
       "      <td>499998</td>\n",
       "      <td>1956-09-05</td>\n",
       "      <td>Patricia</td>\n",
       "      <td>Breugel</td>\n",
       "      <td>M</td>\n",
       "      <td>1993-10-13</td>\n",
       "      <td>55003</td>\n",
       "      <td>2001-12-25</td>\n",
       "      <td>9999-01-01</td>\n",
       "      <td>Staff</td>\n",
       "      <td>1993-12-27</td>\n",
       "      <td>1998-12-27</td>\n",
       "      <td>10163</td>\n",
       "    </tr>\n",
       "    <tr>\n",
       "      <th>371242</th>\n",
       "      <td>499999</td>\n",
       "      <td>1958-05-01</td>\n",
       "      <td>Sachin</td>\n",
       "      <td>Tsukuda</td>\n",
       "      <td>M</td>\n",
       "      <td>1997-11-30</td>\n",
       "      <td>77303</td>\n",
       "      <td>2001-11-29</td>\n",
       "      <td>9999-01-01</td>\n",
       "      <td>Engineer</td>\n",
       "      <td>1997-11-30</td>\n",
       "      <td>9999-01-01</td>\n",
       "      <td>8654</td>\n",
       "    </tr>\n",
       "  </tbody>\n",
       "</table>\n",
       "<p>371243 rows × 13 columns</p>\n",
       "</div>"
      ],
      "text/plain": [
       "        emp_no  birth_date first_name last_name gender   hire_date  salary  \\\n",
       "0        10001  1953-09-02     Georgi   Facello      M  1986-06-26   88958   \n",
       "1        10002  1964-06-02    Bezalel    Simmel      F  1985-11-21   72527   \n",
       "2        10003  1959-12-03      Parto   Bamford      M  1986-08-28   43311   \n",
       "3        10004  1954-05-01  Chirstian   Koblick      M  1986-12-01   74057   \n",
       "4        10004  1954-05-01  Chirstian   Koblick      M  1986-12-01   74057   \n",
       "...        ...         ...        ...       ...    ...         ...     ...   \n",
       "371238  499997  1961-08-03    Berhard    Lenart      M  1986-04-21   83441   \n",
       "371239  499997  1961-08-03    Berhard    Lenart      M  1986-04-21   83441   \n",
       "371240  499998  1956-09-05   Patricia   Breugel      M  1993-10-13   55003   \n",
       "371241  499998  1956-09-05   Patricia   Breugel      M  1993-10-13   55003   \n",
       "371242  499999  1958-05-01     Sachin   Tsukuda      M  1997-11-30   77303   \n",
       "\n",
       "         from_date     to_date            title   from_date     to_date  \\\n",
       "0       2002-06-22  9999-01-01  Senior Engineer  1986-06-26  9999-01-01   \n",
       "1       2001-08-02  9999-01-01            Staff  1996-08-03  9999-01-01   \n",
       "2       2001-12-01  9999-01-01  Senior Engineer  1995-12-03  9999-01-01   \n",
       "3       2001-11-27  9999-01-01         Engineer  1986-12-01  1995-12-01   \n",
       "4       2001-11-27  9999-01-01  Senior Engineer  1995-12-01  9999-01-01   \n",
       "...            ...         ...              ...         ...         ...   \n",
       "371238  2001-08-26  9999-01-01         Engineer  1987-08-30  1992-08-29   \n",
       "371239  2001-08-26  9999-01-01  Senior Engineer  1992-08-29  9999-01-01   \n",
       "371240  2001-12-25  9999-01-01     Senior Staff  1998-12-27  9999-01-01   \n",
       "371241  2001-12-25  9999-01-01            Staff  1993-12-27  1998-12-27   \n",
       "371242  2001-11-29  9999-01-01         Engineer  1997-11-30  9999-01-01   \n",
       "\n",
       "        time_at_job  \n",
       "0             12829  \n",
       "1             13046  \n",
       "2             12766  \n",
       "3             12671  \n",
       "4             12671  \n",
       "...             ...  \n",
       "371238        12895  \n",
       "371239        12895  \n",
       "371240        10163  \n",
       "371241        10163  \n",
       "371242         8654  \n",
       "\n",
       "[371243 rows x 13 columns]"
      ]
     },
     "execution_count": 71,
     "metadata": {},
     "output_type": "execute_result"
    }
   ],
   "source": [
    "#2\n",
    "# Use the employees database.\n",
    "\n",
    "# Is there a relationship between how long an employee has been with the company \n",
    "# and their salary?\n",
    "\n",
    "# Is there a relationship between how long an employee has been with the company \n",
    "# and the number of titles they have had?\n",
    "\n",
    "from env import host, user, password\n",
    "\n",
    "url = f'mysql+pymysql://{user}:{password}@{host}/employees'\n",
    "\n",
    "query = \"\"\"\n",
    "select *, datediff(now(), e.hire_date) as 'time_at_job'\n",
    "from employees e\n",
    "join salaries s using(emp_no)\n",
    "join titles t using(emp_no)\n",
    "where s.to_date > now()\n",
    "\"\"\"\n",
    "\n",
    "e_df = pd.read_sql(query, url)\n",
    "e_df"
   ]
  },
  {
   "cell_type": "code",
   "execution_count": 73,
   "id": "5eef6232",
   "metadata": {},
   "outputs": [
    {
     "data": {
      "text/plain": [
       "<function matplotlib.pyplot.show(close=None, block=None)>"
      ]
     },
     "execution_count": 73,
     "metadata": {},
     "output_type": "execute_result"
    },
    {
     "data": {
      "image/png": "[encoded data removed]",
      "text/plain": [
       "<Figure size 432x288 with 1 Axes>"
      ]
     },
     "metadata": {
      "needs_background": "light"
     },
     "output_type": "display_data"
    }
   ],
   "source": [
    "# Is there a relationship between how long an employee has been with the company \n",
    "# and their salary?\n",
    "\n",
    "# H0: there is not a correlation between time at company and salary\n",
    "# Ha: there is a correlation between time at company and salary\n",
    "x= e_df.time_at_job\n",
    "y= e_df.salary\n",
    "\n",
    "plt.scatter(x,y)\n",
    "plt.xlabel('time at job')\n",
    "plt.ylabel('salary')\n",
    "plt.show"
   ]
  },
  {
   "cell_type": "code",
   "execution_count": 74,
   "id": "f78ced45",
   "metadata": {},
   "outputs": [
    {
     "data": {
      "text/plain": [
       "(0.30728190932146726, 0.0)"
      ]
     },
     "execution_count": 74,
     "metadata": {},
     "output_type": "execute_result"
    }
   ],
   "source": [
    "corr, p = stats.pearsonr(x,y)\n",
    "corr, p\n",
    "# test stat shows some positive correlation and p stat is less than alpha\n",
    "# we reject H0\n",
    "# this indicates that there is some positive correlation between time at job and salary"
   ]
  },
  {
   "cell_type": "code",
   "execution_count": 77,
   "id": "d7101926",
   "metadata": {},
   "outputs": [
    {
     "data": {
      "text/html": [
       "<div>\n",
       "<style scoped>\n",
       "    .dataframe tbody tr th:only-of-type {\n",
       "        vertical-align: middle;\n",
       "    }\n",
       "\n",
       "    .dataframe tbody tr th {\n",
       "        vertical-align: top;\n",
       "    }\n",
       "\n",
       "    .dataframe thead th {\n",
       "        text-align: right;\n",
       "    }\n",
       "</style>\n",
       "<table border=\"1\" class=\"dataframe\">\n",
       "  <thead>\n",
       "    <tr style=\"text-align: right;\">\n",
       "      <th></th>\n",
       "      <th>title_count</th>\n",
       "    </tr>\n",
       "    <tr>\n",
       "      <th>emp_no</th>\n",
       "      <th></th>\n",
       "    </tr>\n",
       "  </thead>\n",
       "  <tbody>\n",
       "    <tr>\n",
       "      <th>10001</th>\n",
       "      <td>1</td>\n",
       "    </tr>\n",
       "    <tr>\n",
       "      <th>10002</th>\n",
       "      <td>1</td>\n",
       "    </tr>\n",
       "    <tr>\n",
       "      <th>10003</th>\n",
       "      <td>1</td>\n",
       "    </tr>\n",
       "    <tr>\n",
       "      <th>10004</th>\n",
       "      <td>2</td>\n",
       "    </tr>\n",
       "    <tr>\n",
       "      <th>10005</th>\n",
       "      <td>2</td>\n",
       "    </tr>\n",
       "    <tr>\n",
       "      <th>...</th>\n",
       "      <td>...</td>\n",
       "    </tr>\n",
       "    <tr>\n",
       "      <th>499995</th>\n",
       "      <td>1</td>\n",
       "    </tr>\n",
       "    <tr>\n",
       "      <th>499996</th>\n",
       "      <td>2</td>\n",
       "    </tr>\n",
       "    <tr>\n",
       "      <th>499997</th>\n",
       "      <td>2</td>\n",
       "    </tr>\n",
       "    <tr>\n",
       "      <th>499998</th>\n",
       "      <td>2</td>\n",
       "    </tr>\n",
       "    <tr>\n",
       "      <th>499999</th>\n",
       "      <td>1</td>\n",
       "    </tr>\n",
       "  </tbody>\n",
       "</table>\n",
       "<p>240124 rows × 1 columns</p>\n",
       "</div>"
      ],
      "text/plain": [
       "        title_count\n",
       "emp_no             \n",
       "10001             1\n",
       "10002             1\n",
       "10003             1\n",
       "10004             2\n",
       "10005             2\n",
       "...             ...\n",
       "499995            1\n",
       "499996            2\n",
       "499997            2\n",
       "499998            2\n",
       "499999            1\n",
       "\n",
       "[240124 rows x 1 columns]"
      ]
     },
     "execution_count": 77,
     "metadata": {},
     "output_type": "execute_result"
    }
   ],
   "source": [
    "# Is there a relationship between how long an employee has been with the company \n",
    "# and the number of titles they have had?\n",
    "\n",
    "# H0: there is no correlation between time at job and number of titles held\n",
    "# Ha: there is a correlation between time at job and number of titles held\n",
    "\n",
    "alpha = 0.05\n",
    "\n",
    "num_titles = e_df.groupby('emp_no').count()[['title']].rename(columns={'title': 'title_count'})\n",
    "num_titles"
   ]
  },
  {
   "cell_type": "code",
   "execution_count": 78,
   "id": "d00886c2",
   "metadata": {},
   "outputs": [
    {
     "data": {
      "text/html": [
       "<div>\n",
       "<style scoped>\n",
       "    .dataframe tbody tr th:only-of-type {\n",
       "        vertical-align: middle;\n",
       "    }\n",
       "\n",
       "    .dataframe tbody tr th {\n",
       "        vertical-align: top;\n",
       "    }\n",
       "\n",
       "    .dataframe thead th {\n",
       "        text-align: right;\n",
       "    }\n",
       "</style>\n",
       "<table border=\"1\" class=\"dataframe\">\n",
       "  <thead>\n",
       "    <tr style=\"text-align: right;\">\n",
       "      <th></th>\n",
       "      <th>emp_no</th>\n",
       "      <th>birth_date</th>\n",
       "      <th>first_name</th>\n",
       "      <th>last_name</th>\n",
       "      <th>gender</th>\n",
       "      <th>hire_date</th>\n",
       "      <th>salary</th>\n",
       "      <th>from_date</th>\n",
       "      <th>to_date</th>\n",
       "      <th>title</th>\n",
       "      <th>from_date</th>\n",
       "      <th>to_date</th>\n",
       "      <th>time_at_job</th>\n",
       "    </tr>\n",
       "  </thead>\n",
       "  <tbody>\n",
       "    <tr>\n",
       "      <th>0</th>\n",
       "      <td>10001</td>\n",
       "      <td>1953-09-02</td>\n",
       "      <td>Georgi</td>\n",
       "      <td>Facello</td>\n",
       "      <td>M</td>\n",
       "      <td>1986-06-26</td>\n",
       "      <td>88958</td>\n",
       "      <td>2002-06-22</td>\n",
       "      <td>9999-01-01</td>\n",
       "      <td>Senior Engineer</td>\n",
       "      <td>1986-06-26</td>\n",
       "      <td>9999-01-01</td>\n",
       "      <td>12829</td>\n",
       "    </tr>\n",
       "    <tr>\n",
       "      <th>1</th>\n",
       "      <td>10002</td>\n",
       "      <td>1964-06-02</td>\n",
       "      <td>Bezalel</td>\n",
       "      <td>Simmel</td>\n",
       "      <td>F</td>\n",
       "      <td>1985-11-21</td>\n",
       "      <td>72527</td>\n",
       "      <td>2001-08-02</td>\n",
       "      <td>9999-01-01</td>\n",
       "      <td>Staff</td>\n",
       "      <td>1996-08-03</td>\n",
       "      <td>9999-01-01</td>\n",
       "      <td>13046</td>\n",
       "    </tr>\n",
       "    <tr>\n",
       "      <th>2</th>\n",
       "      <td>10003</td>\n",
       "      <td>1959-12-03</td>\n",
       "      <td>Parto</td>\n",
       "      <td>Bamford</td>\n",
       "      <td>M</td>\n",
       "      <td>1986-08-28</td>\n",
       "      <td>43311</td>\n",
       "      <td>2001-12-01</td>\n",
       "      <td>9999-01-01</td>\n",
       "      <td>Senior Engineer</td>\n",
       "      <td>1995-12-03</td>\n",
       "      <td>9999-01-01</td>\n",
       "      <td>12766</td>\n",
       "    </tr>\n",
       "    <tr>\n",
       "      <th>3</th>\n",
       "      <td>10004</td>\n",
       "      <td>1954-05-01</td>\n",
       "      <td>Chirstian</td>\n",
       "      <td>Koblick</td>\n",
       "      <td>M</td>\n",
       "      <td>1986-12-01</td>\n",
       "      <td>74057</td>\n",
       "      <td>2001-11-27</td>\n",
       "      <td>9999-01-01</td>\n",
       "      <td>Engineer</td>\n",
       "      <td>1986-12-01</td>\n",
       "      <td>1995-12-01</td>\n",
       "      <td>12671</td>\n",
       "    </tr>\n",
       "    <tr>\n",
       "      <th>4</th>\n",
       "      <td>10004</td>\n",
       "      <td>1954-05-01</td>\n",
       "      <td>Chirstian</td>\n",
       "      <td>Koblick</td>\n",
       "      <td>M</td>\n",
       "      <td>1986-12-01</td>\n",
       "      <td>74057</td>\n",
       "      <td>2001-11-27</td>\n",
       "      <td>9999-01-01</td>\n",
       "      <td>Senior Engineer</td>\n",
       "      <td>1995-12-01</td>\n",
       "      <td>9999-01-01</td>\n",
       "      <td>12671</td>\n",
       "    </tr>\n",
       "  </tbody>\n",
       "</table>\n",
       "</div>"
      ],
      "text/plain": [
       "   emp_no  birth_date first_name last_name gender   hire_date  salary  \\\n",
       "0   10001  1953-09-02     Georgi   Facello      M  1986-06-26   88958   \n",
       "1   10002  1964-06-02    Bezalel    Simmel      F  1985-11-21   72527   \n",
       "2   10003  1959-12-03      Parto   Bamford      M  1986-08-28   43311   \n",
       "3   10004  1954-05-01  Chirstian   Koblick      M  1986-12-01   74057   \n",
       "4   10004  1954-05-01  Chirstian   Koblick      M  1986-12-01   74057   \n",
       "\n",
       "    from_date     to_date            title   from_date     to_date  \\\n",
       "0  2002-06-22  9999-01-01  Senior Engineer  1986-06-26  9999-01-01   \n",
       "1  2001-08-02  9999-01-01            Staff  1996-08-03  9999-01-01   \n",
       "2  2001-12-01  9999-01-01  Senior Engineer  1995-12-03  9999-01-01   \n",
       "3  2001-11-27  9999-01-01         Engineer  1986-12-01  1995-12-01   \n",
       "4  2001-11-27  9999-01-01  Senior Engineer  1995-12-01  9999-01-01   \n",
       "\n",
       "   time_at_job  \n",
       "0        12829  \n",
       "1        13046  \n",
       "2        12766  \n",
       "3        12671  \n",
       "4        12671  "
      ]
     },
     "execution_count": 78,
     "metadata": {},
     "output_type": "execute_result"
    }
   ],
   "source": [
    "e_df.head()"
   ]
  },
  {
   "cell_type": "code",
   "execution_count": 79,
   "id": "ee0bf83f",
   "metadata": {},
   "outputs": [
    {
     "data": {
      "text/html": [
       "<div>\n",
       "<style scoped>\n",
       "    .dataframe tbody tr th:only-of-type {\n",
       "        vertical-align: middle;\n",
       "    }\n",
       "\n",
       "    .dataframe tbody tr th {\n",
       "        vertical-align: top;\n",
       "    }\n",
       "\n",
       "    .dataframe thead th {\n",
       "        text-align: right;\n",
       "    }\n",
       "</style>\n",
       "<table border=\"1\" class=\"dataframe\">\n",
       "  <thead>\n",
       "    <tr style=\"text-align: right;\">\n",
       "      <th></th>\n",
       "      <th>emp_no</th>\n",
       "      <th>birth_date</th>\n",
       "      <th>first_name</th>\n",
       "      <th>last_name</th>\n",
       "      <th>gender</th>\n",
       "      <th>hire_date</th>\n",
       "      <th>salary</th>\n",
       "      <th>from_date</th>\n",
       "      <th>to_date</th>\n",
       "      <th>title</th>\n",
       "      <th>from_date</th>\n",
       "      <th>to_date</th>\n",
       "      <th>time_at_job</th>\n",
       "      <th>title_count</th>\n",
       "    </tr>\n",
       "  </thead>\n",
       "  <tbody>\n",
       "    <tr>\n",
       "      <th>0</th>\n",
       "      <td>10001</td>\n",
       "      <td>1953-09-02</td>\n",
       "      <td>Georgi</td>\n",
       "      <td>Facello</td>\n",
       "      <td>M</td>\n",
       "      <td>1986-06-26</td>\n",
       "      <td>88958</td>\n",
       "      <td>2002-06-22</td>\n",
       "      <td>9999-01-01</td>\n",
       "      <td>Senior Engineer</td>\n",
       "      <td>1986-06-26</td>\n",
       "      <td>9999-01-01</td>\n",
       "      <td>12829</td>\n",
       "      <td>1</td>\n",
       "    </tr>\n",
       "    <tr>\n",
       "      <th>1</th>\n",
       "      <td>10002</td>\n",
       "      <td>1964-06-02</td>\n",
       "      <td>Bezalel</td>\n",
       "      <td>Simmel</td>\n",
       "      <td>F</td>\n",
       "      <td>1985-11-21</td>\n",
       "      <td>72527</td>\n",
       "      <td>2001-08-02</td>\n",
       "      <td>9999-01-01</td>\n",
       "      <td>Staff</td>\n",
       "      <td>1996-08-03</td>\n",
       "      <td>9999-01-01</td>\n",
       "      <td>13046</td>\n",
       "      <td>1</td>\n",
       "    </tr>\n",
       "    <tr>\n",
       "      <th>2</th>\n",
       "      <td>10003</td>\n",
       "      <td>1959-12-03</td>\n",
       "      <td>Parto</td>\n",
       "      <td>Bamford</td>\n",
       "      <td>M</td>\n",
       "      <td>1986-08-28</td>\n",
       "      <td>43311</td>\n",
       "      <td>2001-12-01</td>\n",
       "      <td>9999-01-01</td>\n",
       "      <td>Senior Engineer</td>\n",
       "      <td>1995-12-03</td>\n",
       "      <td>9999-01-01</td>\n",
       "      <td>12766</td>\n",
       "      <td>1</td>\n",
       "    </tr>\n",
       "    <tr>\n",
       "      <th>3</th>\n",
       "      <td>10004</td>\n",
       "      <td>1954-05-01</td>\n",
       "      <td>Chirstian</td>\n",
       "      <td>Koblick</td>\n",
       "      <td>M</td>\n",
       "      <td>1986-12-01</td>\n",
       "      <td>74057</td>\n",
       "      <td>2001-11-27</td>\n",
       "      <td>9999-01-01</td>\n",
       "      <td>Engineer</td>\n",
       "      <td>1986-12-01</td>\n",
       "      <td>1995-12-01</td>\n",
       "      <td>12671</td>\n",
       "      <td>2</td>\n",
       "    </tr>\n",
       "    <tr>\n",
       "      <th>4</th>\n",
       "      <td>10004</td>\n",
       "      <td>1954-05-01</td>\n",
       "      <td>Chirstian</td>\n",
       "      <td>Koblick</td>\n",
       "      <td>M</td>\n",
       "      <td>1986-12-01</td>\n",
       "      <td>74057</td>\n",
       "      <td>2001-11-27</td>\n",
       "      <td>9999-01-01</td>\n",
       "      <td>Senior Engineer</td>\n",
       "      <td>1995-12-01</td>\n",
       "      <td>9999-01-01</td>\n",
       "      <td>12671</td>\n",
       "      <td>2</td>\n",
       "    </tr>\n",
       "  </tbody>\n",
       "</table>\n",
       "</div>"
      ],
      "text/plain": [
       "   emp_no  birth_date first_name last_name gender   hire_date  salary  \\\n",
       "0   10001  1953-09-02     Georgi   Facello      M  1986-06-26   88958   \n",
       "1   10002  1964-06-02    Bezalel    Simmel      F  1985-11-21   72527   \n",
       "2   10003  1959-12-03      Parto   Bamford      M  1986-08-28   43311   \n",
       "3   10004  1954-05-01  Chirstian   Koblick      M  1986-12-01   74057   \n",
       "4   10004  1954-05-01  Chirstian   Koblick      M  1986-12-01   74057   \n",
       "\n",
       "    from_date     to_date            title   from_date     to_date  \\\n",
       "0  2002-06-22  9999-01-01  Senior Engineer  1986-06-26  9999-01-01   \n",
       "1  2001-08-02  9999-01-01            Staff  1996-08-03  9999-01-01   \n",
       "2  2001-12-01  9999-01-01  Senior Engineer  1995-12-03  9999-01-01   \n",
       "3  2001-11-27  9999-01-01         Engineer  1986-12-01  1995-12-01   \n",
       "4  2001-11-27  9999-01-01  Senior Engineer  1995-12-01  9999-01-01   \n",
       "\n",
       "   time_at_job  title_count  \n",
       "0        12829            1  \n",
       "1        13046            1  \n",
       "2        12766            1  \n",
       "3        12671            2  \n",
       "4        12671            2  "
      ]
     },
     "execution_count": 79,
     "metadata": {},
     "output_type": "execute_result"
    }
   ],
   "source": [
    "e_t_merged = pd.merge(e_df, num_titles, how = 'left', on= 'emp_no')\n",
    "e_t_merged.head()"
   ]
  },
  {
   "cell_type": "code",
   "execution_count": 80,
   "id": "d50f1235",
   "metadata": {},
   "outputs": [
    {
     "data": {
      "image/png": "[encoded data removed]",
      "text/plain": [
       "<Figure size 432x288 with 1 Axes>"
      ]
     },
     "metadata": {
      "needs_background": "light"
     },
     "output_type": "display_data"
    }
   ],
   "source": [
    "# assign x and y\n",
    "x = e_t_merged.time_at_job\n",
    "y = e_t_merged.title_count\n",
    "\n",
    "plt.scatter(x,y)\n",
    "plt.xlabel('time at job')\n",
    "plt.ylabel('number of titles')\n",
    "plt.show()"
   ]
  },
  {
   "cell_type": "code",
   "execution_count": 81,
   "id": "168e08e0",
   "metadata": {},
   "outputs": [
    {
     "data": {
      "text/plain": [
       "(0.2874004366228011, 0.0)"
      ]
     },
     "execution_count": 81,
     "metadata": {},
     "output_type": "execute_result"
    }
   ],
   "source": [
    "corr, p = stats.pearsonr(x,y)\n",
    "corr, p\n",
    "# test stat shows some positive correlation and p stat is less than alpha\n",
    "# reject H0\n",
    "# there is positve correlation between time at job and number of titles"
   ]
  },
  {
   "cell_type": "code",
   "execution_count": 82,
   "id": "cf134e85",
   "metadata": {},
   "outputs": [
    {
     "data": {
      "text/html": [
       "<div>\n",
       "<style scoped>\n",
       "    .dataframe tbody tr th:only-of-type {\n",
       "        vertical-align: middle;\n",
       "    }\n",
       "\n",
       "    .dataframe tbody tr th {\n",
       "        vertical-align: top;\n",
       "    }\n",
       "\n",
       "    .dataframe thead th {\n",
       "        text-align: right;\n",
       "    }\n",
       "</style>\n",
       "<table border=\"1\" class=\"dataframe\">\n",
       "  <thead>\n",
       "    <tr style=\"text-align: right;\">\n",
       "      <th></th>\n",
       "      <th>Reaction</th>\n",
       "      <th>Days</th>\n",
       "      <th>Subject</th>\n",
       "    </tr>\n",
       "  </thead>\n",
       "  <tbody>\n",
       "    <tr>\n",
       "      <th>1</th>\n",
       "      <td>249.5600</td>\n",
       "      <td>0</td>\n",
       "      <td>308</td>\n",
       "    </tr>\n",
       "    <tr>\n",
       "      <th>2</th>\n",
       "      <td>258.7047</td>\n",
       "      <td>1</td>\n",
       "      <td>308</td>\n",
       "    </tr>\n",
       "    <tr>\n",
       "      <th>3</th>\n",
       "      <td>250.8006</td>\n",
       "      <td>2</td>\n",
       "      <td>308</td>\n",
       "    </tr>\n",
       "    <tr>\n",
       "      <th>4</th>\n",
       "      <td>321.4398</td>\n",
       "      <td>3</td>\n",
       "      <td>308</td>\n",
       "    </tr>\n",
       "    <tr>\n",
       "      <th>5</th>\n",
       "      <td>356.8519</td>\n",
       "      <td>4</td>\n",
       "      <td>308</td>\n",
       "    </tr>\n",
       "    <tr>\n",
       "      <th>...</th>\n",
       "      <td>...</td>\n",
       "      <td>...</td>\n",
       "      <td>...</td>\n",
       "    </tr>\n",
       "    <tr>\n",
       "      <th>176</th>\n",
       "      <td>329.6076</td>\n",
       "      <td>5</td>\n",
       "      <td>372</td>\n",
       "    </tr>\n",
       "    <tr>\n",
       "      <th>177</th>\n",
       "      <td>334.4818</td>\n",
       "      <td>6</td>\n",
       "      <td>372</td>\n",
       "    </tr>\n",
       "    <tr>\n",
       "      <th>178</th>\n",
       "      <td>343.2199</td>\n",
       "      <td>7</td>\n",
       "      <td>372</td>\n",
       "    </tr>\n",
       "    <tr>\n",
       "      <th>179</th>\n",
       "      <td>369.1417</td>\n",
       "      <td>8</td>\n",
       "      <td>372</td>\n",
       "    </tr>\n",
       "    <tr>\n",
       "      <th>180</th>\n",
       "      <td>364.1236</td>\n",
       "      <td>9</td>\n",
       "      <td>372</td>\n",
       "    </tr>\n",
       "  </tbody>\n",
       "</table>\n",
       "<p>180 rows × 3 columns</p>\n",
       "</div>"
      ],
      "text/plain": [
       "     Reaction  Days  Subject\n",
       "1    249.5600     0      308\n",
       "2    258.7047     1      308\n",
       "3    250.8006     2      308\n",
       "4    321.4398     3      308\n",
       "5    356.8519     4      308\n",
       "..        ...   ...      ...\n",
       "176  329.6076     5      372\n",
       "177  334.4818     6      372\n",
       "178  343.2199     7      372\n",
       "179  369.1417     8      372\n",
       "180  364.1236     9      372\n",
       "\n",
       "[180 rows x 3 columns]"
      ]
     },
     "execution_count": 82,
     "metadata": {},
     "output_type": "execute_result"
    }
   ],
   "source": [
    "#3\n",
    "# Use the sleepstudy data. Is there a relationship between days and reaction time?\n",
    "\n",
    "from pydataset import data\n",
    "\n",
    "s_df = data('sleepstudy')\n",
    "s_df"
   ]
  },
  {
   "cell_type": "code",
   "execution_count": 83,
   "id": "a649a3ea",
   "metadata": {},
   "outputs": [
    {
     "name": "stdout",
     "output_type": "stream",
     "text": [
      "sleepstudy\n",
      "\n",
      "PyDataset Documentation (adopted from R Documentation. The displayed examples are in R)\n",
      "\n",
      "## Reaction times in a sleep deprivation study\n",
      "\n",
      "### Description\n",
      "\n",
      "The average reaction time per day for subjects in a sleep deprivation study.\n",
      "On day 0 the subjects had their normal amount of sleep. Starting that night\n",
      "they were restricted to 3 hours of sleep per night. The observations represent\n",
      "the average reaction time on a series of tests given each day to each subject.\n",
      "\n",
      "### Format\n",
      "\n",
      "A data frame with 180 observations on the following 3 variables.\n",
      "\n",
      "`Reaction`\n",
      "\n",
      "Average reaction time (ms)\n",
      "\n",
      "`Days`\n",
      "\n",
      "Number of days of sleep deprivation\n",
      "\n",
      "`Subject`\n",
      "\n",
      "Subject number on which the observation was made.\n",
      "\n",
      "### Details\n",
      "\n",
      "These data are from the study described in Belenky et al. (2003), for the\n",
      "sleep-deprived group and for the first 10 days of the study, up to the\n",
      "recovery period.\n",
      "\n",
      "### References\n",
      "\n",
      "Gregory Belenky, Nancy J. Wesensten, David R. Thorne, Maria L. Thomas, Helen\n",
      "C. Sing, Daniel P. Redmond, Michael B. Russo and Thomas J. Balkin (2003)\n",
      "Patterns of performance degradation and restoration during sleep restriction\n",
      "and subsequent recovery: a sleep dose-response study. _Journal of Sleep\n",
      "Research_ **12**, 1–12.\n",
      "\n",
      "### Examples\n",
      "\n",
      "    str(sleepstudy)\n",
      "    require(lattice)\n",
      "    xyplot(Reaction ~ Days | Subject, sleepstudy, type = c(\"g\",\"p\",\"r\"),\n",
      "           index = function(x,y) coef(lm(y ~ x))[1],\n",
      "           xlab = \"Days of sleep deprivation\",\n",
      "           ylab = \"Average reaction time (ms)\", aspect = \"xy\")\n",
      "    (fm1 <- lmer(Reaction ~ Days + (Days|Subject), sleepstudy))\n",
      "    (fm2 <- lmer(Reaction ~ Days + (1|Subject) + (0+Days|Subject), sleepstudy))\n",
      "\n",
      "\n"
     ]
    }
   ],
   "source": [
    "data('sleepstudy', show_doc = True)"
   ]
  },
  {
   "cell_type": "code",
   "execution_count": 84,
   "id": "b086086b",
   "metadata": {},
   "outputs": [
    {
     "name": "stdout",
     "output_type": "stream",
     "text": [
      "<class 'pandas.core.frame.DataFrame'>\n",
      "Int64Index: 180 entries, 1 to 180\n",
      "Data columns (total 3 columns):\n",
      " #   Column    Non-Null Count  Dtype  \n",
      "---  ------    --------------  -----  \n",
      " 0   Reaction  180 non-null    float64\n",
      " 1   Days      180 non-null    int64  \n",
      " 2   Subject   180 non-null    int64  \n",
      "dtypes: float64(1), int64(2)\n",
      "memory usage: 5.6 KB\n"
     ]
    }
   ],
   "source": [
    "s_df.info()"
   ]
  },
  {
   "cell_type": "code",
   "execution_count": 85,
   "id": "189c0fef",
   "metadata": {},
   "outputs": [
    {
     "data": {
      "image/png": "[encoded data removed]",
      "text/plain": [
       "<Figure size 432x288 with 1 Axes>"
      ]
     },
     "metadata": {
      "needs_background": "light"
     },
     "output_type": "display_data"
    }
   ],
   "source": [
    "# assign x and y\n",
    "x = s_df.Days\n",
    "y = s_df.Reaction\n",
    "plt.scatter(x,y)\n",
    "plt.xlabel('days')\n",
    "plt.ylabel('reaction')\n",
    "plt.show()"
   ]
  },
  {
   "cell_type": "code",
   "execution_count": 86,
   "id": "0adb34a5",
   "metadata": {},
   "outputs": [
    {
     "data": {
      "text/plain": [
       "(0.5352302262650253, 9.894096322214812e-15)"
      ]
     },
     "execution_count": 86,
     "metadata": {},
     "output_type": "execute_result"
    }
   ],
   "source": [
    "corr, p = stats.pearsonr(x,y)\n",
    "corr, p\n",
    "# test stat shows some positive correlation and p stat is lower than alpha\n",
    "# reject H0\n",
    "# there is correlation between sleep and reaction"
   ]
  },
  {
   "cell_type": "code",
   "execution_count": 3,
   "id": "e37c98a5",
   "metadata": {},
   "outputs": [
    {
     "data": {
      "text/html": [
       "<div>\n",
       "<style scoped>\n",
       "    .dataframe tbody tr th:only-of-type {\n",
       "        vertical-align: middle;\n",
       "    }\n",
       "\n",
       "    .dataframe tbody tr th {\n",
       "        vertical-align: top;\n",
       "    }\n",
       "\n",
       "    .dataframe thead th {\n",
       "        text-align: right;\n",
       "    }\n",
       "</style>\n",
       "<table border=\"1\" class=\"dataframe\">\n",
       "  <thead>\n",
       "    <tr style=\"text-align: right;\">\n",
       "      <th></th>\n",
       "      <th>Codeup Student</th>\n",
       "      <th>Not Codeup Student</th>\n",
       "    </tr>\n",
       "  </thead>\n",
       "  <tbody>\n",
       "    <tr>\n",
       "      <th>Uses a MacBook</th>\n",
       "      <td>49</td>\n",
       "      <td>20</td>\n",
       "    </tr>\n",
       "    <tr>\n",
       "      <th>Doesn't Use a Macbook</th>\n",
       "      <td>1</td>\n",
       "      <td>30</td>\n",
       "    </tr>\n",
       "  </tbody>\n",
       "</table>\n",
       "</div>"
      ],
      "text/plain": [
       "                       Codeup Student  Not Codeup Student\n",
       "Uses a MacBook                     49                  20\n",
       "Doesn't Use a Macbook               1                  30"
      ]
     },
     "execution_count": 3,
     "metadata": {},
     "output_type": "execute_result"
    }
   ],
   "source": [
    "# Chi Square section\n",
    "# 1\n",
    "# Use the following contingency table to help answer the question \n",
    "# of whether using a macbook and being a codeup student are independent of each other.\n",
    "\n",
    "# H0: there is no association between using a macbook and being a codeup student\n",
    "# Ha: there is a association between using a macbook and being a codeup student\n",
    "\n",
    "# create the contingency table\n",
    "index = ['Uses a MacBook', \"Doesn't Use a Macbook\"]\n",
    "columns = ['Codeup Student', 'Not Codeup Student']\n",
    "observed = pd.DataFrame([[49, 20], [1, 30]], index=index, columns=columns)\n",
    "observed"
   ]
  },
  {
   "cell_type": "code",
   "execution_count": 5,
   "id": "099c394e",
   "metadata": {},
   "outputs": [
    {
     "name": "stdout",
     "output_type": "stream",
     "text": [
      "Observed\n",
      "[[49 20]\n",
      " [ 1 30]]\n",
      "---\n",
      "Expected\n",
      "\n",
      "[[34 34]\n",
      " [15 15]]\n",
      "---\n",
      "\n",
      "chi^2 = 36.6526\n",
      "p.    = 0.0000\n"
     ]
    }
   ],
   "source": [
    "alpha = 0.05\n",
    "chi2, p, degf, expected = stats.chi2_contingency(observed)\n",
    "print('Observed')\n",
    "print(observed.values)\n",
    "print('---\\nExpected\\n')\n",
    "print(expected.astype(int))\n",
    "print('---\\n')\n",
    "print(f'chi^2 = {chi2:.4f}') # ':.4f' means that chi2 will be rounded to 4 decimal places\n",
    "print(f'p.    = {p:.4f}')"
   ]
  },
  {
   "cell_type": "code",
   "execution_count": 6,
   "id": "423af9f1",
   "metadata": {},
   "outputs": [
    {
     "name": "stdout",
     "output_type": "stream",
     "text": [
      "We reject H0 that:\n",
      " there is no association between using a macbook and being a codeup student\n"
     ]
    }
   ],
   "source": [
    "null_hypothesis =  'there is no association between using a macbook and being a codeup student'\n",
    "alpha = 0.05\n",
    "if p < alpha:\n",
    "    print('We reject H0 that:\\n', null_hypothesis)\n",
    "else:\n",
    "    print('We fail to reject H0 ')"
   ]
  },
  {
   "cell_type": "code",
   "execution_count": 7,
   "id": "4c070165",
   "metadata": {},
   "outputs": [
    {
     "data": {
      "text/html": [
       "<div>\n",
       "<style scoped>\n",
       "    .dataframe tbody tr th:only-of-type {\n",
       "        vertical-align: middle;\n",
       "    }\n",
       "\n",
       "    .dataframe tbody tr th {\n",
       "        vertical-align: top;\n",
       "    }\n",
       "\n",
       "    .dataframe thead th {\n",
       "        text-align: right;\n",
       "    }\n",
       "</style>\n",
       "<table border=\"1\" class=\"dataframe\">\n",
       "  <thead>\n",
       "    <tr style=\"text-align: right;\">\n",
       "      <th></th>\n",
       "      <th>manufacturer</th>\n",
       "      <th>model</th>\n",
       "      <th>displ</th>\n",
       "      <th>year</th>\n",
       "      <th>cyl</th>\n",
       "      <th>trans</th>\n",
       "      <th>drv</th>\n",
       "      <th>cty</th>\n",
       "      <th>hwy</th>\n",
       "      <th>fl</th>\n",
       "      <th>class</th>\n",
       "    </tr>\n",
       "  </thead>\n",
       "  <tbody>\n",
       "    <tr>\n",
       "      <th>1</th>\n",
       "      <td>audi</td>\n",
       "      <td>a4</td>\n",
       "      <td>1.8</td>\n",
       "      <td>1999</td>\n",
       "      <td>4</td>\n",
       "      <td>auto(l5)</td>\n",
       "      <td>f</td>\n",
       "      <td>18</td>\n",
       "      <td>29</td>\n",
       "      <td>p</td>\n",
       "      <td>compact</td>\n",
       "    </tr>\n",
       "    <tr>\n",
       "      <th>2</th>\n",
       "      <td>audi</td>\n",
       "      <td>a4</td>\n",
       "      <td>1.8</td>\n",
       "      <td>1999</td>\n",
       "      <td>4</td>\n",
       "      <td>manual(m5)</td>\n",
       "      <td>f</td>\n",
       "      <td>21</td>\n",
       "      <td>29</td>\n",
       "      <td>p</td>\n",
       "      <td>compact</td>\n",
       "    </tr>\n",
       "    <tr>\n",
       "      <th>3</th>\n",
       "      <td>audi</td>\n",
       "      <td>a4</td>\n",
       "      <td>2.0</td>\n",
       "      <td>2008</td>\n",
       "      <td>4</td>\n",
       "      <td>manual(m6)</td>\n",
       "      <td>f</td>\n",
       "      <td>20</td>\n",
       "      <td>31</td>\n",
       "      <td>p</td>\n",
       "      <td>compact</td>\n",
       "    </tr>\n",
       "    <tr>\n",
       "      <th>4</th>\n",
       "      <td>audi</td>\n",
       "      <td>a4</td>\n",
       "      <td>2.0</td>\n",
       "      <td>2008</td>\n",
       "      <td>4</td>\n",
       "      <td>auto(av)</td>\n",
       "      <td>f</td>\n",
       "      <td>21</td>\n",
       "      <td>30</td>\n",
       "      <td>p</td>\n",
       "      <td>compact</td>\n",
       "    </tr>\n",
       "    <tr>\n",
       "      <th>5</th>\n",
       "      <td>audi</td>\n",
       "      <td>a4</td>\n",
       "      <td>2.8</td>\n",
       "      <td>1999</td>\n",
       "      <td>6</td>\n",
       "      <td>auto(l5)</td>\n",
       "      <td>f</td>\n",
       "      <td>16</td>\n",
       "      <td>26</td>\n",
       "      <td>p</td>\n",
       "      <td>compact</td>\n",
       "    </tr>\n",
       "  </tbody>\n",
       "</table>\n",
       "</div>"
      ],
      "text/plain": [
       "  manufacturer model  displ  year  cyl       trans drv  cty  hwy fl    class\n",
       "1         audi    a4    1.8  1999    4    auto(l5)   f   18   29  p  compact\n",
       "2         audi    a4    1.8  1999    4  manual(m5)   f   21   29  p  compact\n",
       "3         audi    a4    2.0  2008    4  manual(m6)   f   20   31  p  compact\n",
       "4         audi    a4    2.0  2008    4    auto(av)   f   21   30  p  compact\n",
       "5         audi    a4    2.8  1999    6    auto(l5)   f   16   26  p  compact"
      ]
     },
     "execution_count": 7,
     "metadata": {},
     "output_type": "execute_result"
    }
   ],
   "source": [
    "#2\n",
    "# Choose another 2 categorical variables from the mpg dataset and perform a chi2\n",
    "# contingency table test with them. Be sure to state your null and alternative hypotheses.\n",
    "\n",
    "from pydataset import data\n",
    "mpg = data('mpg')\n",
    "mpg.head()"
   ]
  },
  {
   "cell_type": "code",
   "execution_count": 8,
   "id": "913ccc00",
   "metadata": {},
   "outputs": [
    {
     "name": "stdout",
     "output_type": "stream",
     "text": [
      "<class 'pandas.core.frame.DataFrame'>\n",
      "Int64Index: 234 entries, 1 to 234\n",
      "Data columns (total 11 columns):\n",
      " #   Column        Non-Null Count  Dtype  \n",
      "---  ------        --------------  -----  \n",
      " 0   manufacturer  234 non-null    object \n",
      " 1   model         234 non-null    object \n",
      " 2   displ         234 non-null    float64\n",
      " 3   year          234 non-null    int64  \n",
      " 4   cyl           234 non-null    int64  \n",
      " 5   trans         234 non-null    object \n",
      " 6   drv           234 non-null    object \n",
      " 7   cty           234 non-null    int64  \n",
      " 8   hwy           234 non-null    int64  \n",
      " 9   fl            234 non-null    object \n",
      " 10  class         234 non-null    object \n",
      "dtypes: float64(1), int64(4), object(6)\n",
      "memory usage: 21.9+ KB\n"
     ]
    }
   ],
   "source": [
    "mpg.info()"
   ]
  },
  {
   "cell_type": "code",
   "execution_count": 9,
   "id": "6c9e6507",
   "metadata": {},
   "outputs": [
    {
     "data": {
      "text/html": [
       "<div>\n",
       "<style scoped>\n",
       "    .dataframe tbody tr th:only-of-type {\n",
       "        vertical-align: middle;\n",
       "    }\n",
       "\n",
       "    .dataframe tbody tr th {\n",
       "        vertical-align: top;\n",
       "    }\n",
       "\n",
       "    .dataframe thead th {\n",
       "        text-align: right;\n",
       "    }\n",
       "</style>\n",
       "<table border=\"1\" class=\"dataframe\">\n",
       "  <thead>\n",
       "    <tr style=\"text-align: right;\">\n",
       "      <th>class</th>\n",
       "      <th>2seater</th>\n",
       "      <th>compact</th>\n",
       "      <th>midsize</th>\n",
       "      <th>minivan</th>\n",
       "      <th>pickup</th>\n",
       "      <th>subcompact</th>\n",
       "      <th>suv</th>\n",
       "    </tr>\n",
       "    <tr>\n",
       "      <th>model</th>\n",
       "      <th></th>\n",
       "      <th></th>\n",
       "      <th></th>\n",
       "      <th></th>\n",
       "      <th></th>\n",
       "      <th></th>\n",
       "      <th></th>\n",
       "    </tr>\n",
       "  </thead>\n",
       "  <tbody>\n",
       "    <tr>\n",
       "      <th>4runner 4wd</th>\n",
       "      <td>0</td>\n",
       "      <td>0</td>\n",
       "      <td>0</td>\n",
       "      <td>0</td>\n",
       "      <td>0</td>\n",
       "      <td>0</td>\n",
       "      <td>6</td>\n",
       "    </tr>\n",
       "    <tr>\n",
       "      <th>a4</th>\n",
       "      <td>0</td>\n",
       "      <td>7</td>\n",
       "      <td>0</td>\n",
       "      <td>0</td>\n",
       "      <td>0</td>\n",
       "      <td>0</td>\n",
       "      <td>0</td>\n",
       "    </tr>\n",
       "    <tr>\n",
       "      <th>a4 quattro</th>\n",
       "      <td>0</td>\n",
       "      <td>8</td>\n",
       "      <td>0</td>\n",
       "      <td>0</td>\n",
       "      <td>0</td>\n",
       "      <td>0</td>\n",
       "      <td>0</td>\n",
       "    </tr>\n",
       "    <tr>\n",
       "      <th>a6 quattro</th>\n",
       "      <td>0</td>\n",
       "      <td>0</td>\n",
       "      <td>3</td>\n",
       "      <td>0</td>\n",
       "      <td>0</td>\n",
       "      <td>0</td>\n",
       "      <td>0</td>\n",
       "    </tr>\n",
       "    <tr>\n",
       "      <th>altima</th>\n",
       "      <td>0</td>\n",
       "      <td>2</td>\n",
       "      <td>4</td>\n",
       "      <td>0</td>\n",
       "      <td>0</td>\n",
       "      <td>0</td>\n",
       "      <td>0</td>\n",
       "    </tr>\n",
       "    <tr>\n",
       "      <th>c1500 suburban 2wd</th>\n",
       "      <td>0</td>\n",
       "      <td>0</td>\n",
       "      <td>0</td>\n",
       "      <td>0</td>\n",
       "      <td>0</td>\n",
       "      <td>0</td>\n",
       "      <td>5</td>\n",
       "    </tr>\n",
       "    <tr>\n",
       "      <th>camry</th>\n",
       "      <td>0</td>\n",
       "      <td>0</td>\n",
       "      <td>7</td>\n",
       "      <td>0</td>\n",
       "      <td>0</td>\n",
       "      <td>0</td>\n",
       "      <td>0</td>\n",
       "    </tr>\n",
       "    <tr>\n",
       "      <th>camry solara</th>\n",
       "      <td>0</td>\n",
       "      <td>7</td>\n",
       "      <td>0</td>\n",
       "      <td>0</td>\n",
       "      <td>0</td>\n",
       "      <td>0</td>\n",
       "      <td>0</td>\n",
       "    </tr>\n",
       "    <tr>\n",
       "      <th>caravan 2wd</th>\n",
       "      <td>0</td>\n",
       "      <td>0</td>\n",
       "      <td>0</td>\n",
       "      <td>11</td>\n",
       "      <td>0</td>\n",
       "      <td>0</td>\n",
       "      <td>0</td>\n",
       "    </tr>\n",
       "    <tr>\n",
       "      <th>civic</th>\n",
       "      <td>0</td>\n",
       "      <td>0</td>\n",
       "      <td>0</td>\n",
       "      <td>0</td>\n",
       "      <td>0</td>\n",
       "      <td>9</td>\n",
       "      <td>0</td>\n",
       "    </tr>\n",
       "    <tr>\n",
       "      <th>corolla</th>\n",
       "      <td>0</td>\n",
       "      <td>5</td>\n",
       "      <td>0</td>\n",
       "      <td>0</td>\n",
       "      <td>0</td>\n",
       "      <td>0</td>\n",
       "      <td>0</td>\n",
       "    </tr>\n",
       "    <tr>\n",
       "      <th>corvette</th>\n",
       "      <td>5</td>\n",
       "      <td>0</td>\n",
       "      <td>0</td>\n",
       "      <td>0</td>\n",
       "      <td>0</td>\n",
       "      <td>0</td>\n",
       "      <td>0</td>\n",
       "    </tr>\n",
       "    <tr>\n",
       "      <th>dakota pickup 4wd</th>\n",
       "      <td>0</td>\n",
       "      <td>0</td>\n",
       "      <td>0</td>\n",
       "      <td>0</td>\n",
       "      <td>9</td>\n",
       "      <td>0</td>\n",
       "      <td>0</td>\n",
       "    </tr>\n",
       "    <tr>\n",
       "      <th>durango 4wd</th>\n",
       "      <td>0</td>\n",
       "      <td>0</td>\n",
       "      <td>0</td>\n",
       "      <td>0</td>\n",
       "      <td>0</td>\n",
       "      <td>0</td>\n",
       "      <td>7</td>\n",
       "    </tr>\n",
       "    <tr>\n",
       "      <th>expedition 2wd</th>\n",
       "      <td>0</td>\n",
       "      <td>0</td>\n",
       "      <td>0</td>\n",
       "      <td>0</td>\n",
       "      <td>0</td>\n",
       "      <td>0</td>\n",
       "      <td>3</td>\n",
       "    </tr>\n",
       "    <tr>\n",
       "      <th>explorer 4wd</th>\n",
       "      <td>0</td>\n",
       "      <td>0</td>\n",
       "      <td>0</td>\n",
       "      <td>0</td>\n",
       "      <td>0</td>\n",
       "      <td>0</td>\n",
       "      <td>6</td>\n",
       "    </tr>\n",
       "    <tr>\n",
       "      <th>f150 pickup 4wd</th>\n",
       "      <td>0</td>\n",
       "      <td>0</td>\n",
       "      <td>0</td>\n",
       "      <td>0</td>\n",
       "      <td>7</td>\n",
       "      <td>0</td>\n",
       "      <td>0</td>\n",
       "    </tr>\n",
       "    <tr>\n",
       "      <th>forester awd</th>\n",
       "      <td>0</td>\n",
       "      <td>0</td>\n",
       "      <td>0</td>\n",
       "      <td>0</td>\n",
       "      <td>0</td>\n",
       "      <td>0</td>\n",
       "      <td>6</td>\n",
       "    </tr>\n",
       "    <tr>\n",
       "      <th>grand cherokee 4wd</th>\n",
       "      <td>0</td>\n",
       "      <td>0</td>\n",
       "      <td>0</td>\n",
       "      <td>0</td>\n",
       "      <td>0</td>\n",
       "      <td>0</td>\n",
       "      <td>8</td>\n",
       "    </tr>\n",
       "    <tr>\n",
       "      <th>grand prix</th>\n",
       "      <td>0</td>\n",
       "      <td>0</td>\n",
       "      <td>5</td>\n",
       "      <td>0</td>\n",
       "      <td>0</td>\n",
       "      <td>0</td>\n",
       "      <td>0</td>\n",
       "    </tr>\n",
       "    <tr>\n",
       "      <th>gti</th>\n",
       "      <td>0</td>\n",
       "      <td>5</td>\n",
       "      <td>0</td>\n",
       "      <td>0</td>\n",
       "      <td>0</td>\n",
       "      <td>0</td>\n",
       "      <td>0</td>\n",
       "    </tr>\n",
       "    <tr>\n",
       "      <th>impreza awd</th>\n",
       "      <td>0</td>\n",
       "      <td>4</td>\n",
       "      <td>0</td>\n",
       "      <td>0</td>\n",
       "      <td>0</td>\n",
       "      <td>4</td>\n",
       "      <td>0</td>\n",
       "    </tr>\n",
       "    <tr>\n",
       "      <th>jetta</th>\n",
       "      <td>0</td>\n",
       "      <td>9</td>\n",
       "      <td>0</td>\n",
       "      <td>0</td>\n",
       "      <td>0</td>\n",
       "      <td>0</td>\n",
       "      <td>0</td>\n",
       "    </tr>\n",
       "    <tr>\n",
       "      <th>k1500 tahoe 4wd</th>\n",
       "      <td>0</td>\n",
       "      <td>0</td>\n",
       "      <td>0</td>\n",
       "      <td>0</td>\n",
       "      <td>0</td>\n",
       "      <td>0</td>\n",
       "      <td>4</td>\n",
       "    </tr>\n",
       "    <tr>\n",
       "      <th>land cruiser wagon 4wd</th>\n",
       "      <td>0</td>\n",
       "      <td>0</td>\n",
       "      <td>0</td>\n",
       "      <td>0</td>\n",
       "      <td>0</td>\n",
       "      <td>0</td>\n",
       "      <td>2</td>\n",
       "    </tr>\n",
       "    <tr>\n",
       "      <th>malibu</th>\n",
       "      <td>0</td>\n",
       "      <td>0</td>\n",
       "      <td>5</td>\n",
       "      <td>0</td>\n",
       "      <td>0</td>\n",
       "      <td>0</td>\n",
       "      <td>0</td>\n",
       "    </tr>\n",
       "    <tr>\n",
       "      <th>maxima</th>\n",
       "      <td>0</td>\n",
       "      <td>0</td>\n",
       "      <td>3</td>\n",
       "      <td>0</td>\n",
       "      <td>0</td>\n",
       "      <td>0</td>\n",
       "      <td>0</td>\n",
       "    </tr>\n",
       "    <tr>\n",
       "      <th>mountaineer 4wd</th>\n",
       "      <td>0</td>\n",
       "      <td>0</td>\n",
       "      <td>0</td>\n",
       "      <td>0</td>\n",
       "      <td>0</td>\n",
       "      <td>0</td>\n",
       "      <td>4</td>\n",
       "    </tr>\n",
       "    <tr>\n",
       "      <th>mustang</th>\n",
       "      <td>0</td>\n",
       "      <td>0</td>\n",
       "      <td>0</td>\n",
       "      <td>0</td>\n",
       "      <td>0</td>\n",
       "      <td>9</td>\n",
       "      <td>0</td>\n",
       "    </tr>\n",
       "    <tr>\n",
       "      <th>navigator 2wd</th>\n",
       "      <td>0</td>\n",
       "      <td>0</td>\n",
       "      <td>0</td>\n",
       "      <td>0</td>\n",
       "      <td>0</td>\n",
       "      <td>0</td>\n",
       "      <td>3</td>\n",
       "    </tr>\n",
       "    <tr>\n",
       "      <th>new beetle</th>\n",
       "      <td>0</td>\n",
       "      <td>0</td>\n",
       "      <td>0</td>\n",
       "      <td>0</td>\n",
       "      <td>0</td>\n",
       "      <td>6</td>\n",
       "      <td>0</td>\n",
       "    </tr>\n",
       "    <tr>\n",
       "      <th>passat</th>\n",
       "      <td>0</td>\n",
       "      <td>0</td>\n",
       "      <td>7</td>\n",
       "      <td>0</td>\n",
       "      <td>0</td>\n",
       "      <td>0</td>\n",
       "      <td>0</td>\n",
       "    </tr>\n",
       "    <tr>\n",
       "      <th>pathfinder 4wd</th>\n",
       "      <td>0</td>\n",
       "      <td>0</td>\n",
       "      <td>0</td>\n",
       "      <td>0</td>\n",
       "      <td>0</td>\n",
       "      <td>0</td>\n",
       "      <td>4</td>\n",
       "    </tr>\n",
       "    <tr>\n",
       "      <th>ram 1500 pickup 4wd</th>\n",
       "      <td>0</td>\n",
       "      <td>0</td>\n",
       "      <td>0</td>\n",
       "      <td>0</td>\n",
       "      <td>10</td>\n",
       "      <td>0</td>\n",
       "      <td>0</td>\n",
       "    </tr>\n",
       "    <tr>\n",
       "      <th>range rover</th>\n",
       "      <td>0</td>\n",
       "      <td>0</td>\n",
       "      <td>0</td>\n",
       "      <td>0</td>\n",
       "      <td>0</td>\n",
       "      <td>0</td>\n",
       "      <td>4</td>\n",
       "    </tr>\n",
       "    <tr>\n",
       "      <th>sonata</th>\n",
       "      <td>0</td>\n",
       "      <td>0</td>\n",
       "      <td>7</td>\n",
       "      <td>0</td>\n",
       "      <td>0</td>\n",
       "      <td>0</td>\n",
       "      <td>0</td>\n",
       "    </tr>\n",
       "    <tr>\n",
       "      <th>tiburon</th>\n",
       "      <td>0</td>\n",
       "      <td>0</td>\n",
       "      <td>0</td>\n",
       "      <td>0</td>\n",
       "      <td>0</td>\n",
       "      <td>7</td>\n",
       "      <td>0</td>\n",
       "    </tr>\n",
       "    <tr>\n",
       "      <th>toyota tacoma 4wd</th>\n",
       "      <td>0</td>\n",
       "      <td>0</td>\n",
       "      <td>0</td>\n",
       "      <td>0</td>\n",
       "      <td>7</td>\n",
       "      <td>0</td>\n",
       "      <td>0</td>\n",
       "    </tr>\n",
       "  </tbody>\n",
       "</table>\n",
       "</div>"
      ],
      "text/plain": [
       "class                   2seater  compact  midsize  minivan  pickup  \\\n",
       "model                                                                \n",
       "4runner 4wd                   0        0        0        0       0   \n",
       "a4                            0        7        0        0       0   \n",
       "a4 quattro                    0        8        0        0       0   \n",
       "a6 quattro                    0        0        3        0       0   \n",
       "altima                        0        2        4        0       0   \n",
       "c1500 suburban 2wd            0        0        0        0       0   \n",
       "camry                         0        0        7        0       0   \n",
       "camry solara                  0        7        0        0       0   \n",
       "caravan 2wd                   0        0        0       11       0   \n",
       "civic                         0        0        0        0       0   \n",
       "corolla                       0        5        0        0       0   \n",
       "corvette                      5        0        0        0       0   \n",
       "dakota pickup 4wd             0        0        0        0       9   \n",
       "durango 4wd                   0        0        0        0       0   \n",
       "expedition 2wd                0        0        0        0       0   \n",
       "explorer 4wd                  0        0        0        0       0   \n",
       "f150 pickup 4wd               0        0        0        0       7   \n",
       "forester awd                  0        0        0        0       0   \n",
       "grand cherokee 4wd            0        0        0        0       0   \n",
       "grand prix                    0        0        5        0       0   \n",
       "gti                           0        5        0        0       0   \n",
       "impreza awd                   0        4        0        0       0   \n",
       "jetta                         0        9        0        0       0   \n",
       "k1500 tahoe 4wd               0        0        0        0       0   \n",
       "land cruiser wagon 4wd        0        0        0        0       0   \n",
       "malibu                        0        0        5        0       0   \n",
       "maxima                        0        0        3        0       0   \n",
       "mountaineer 4wd               0        0        0        0       0   \n",
       "mustang                       0        0        0        0       0   \n",
       "navigator 2wd                 0        0        0        0       0   \n",
       "new beetle                    0        0        0        0       0   \n",
       "passat                        0        0        7        0       0   \n",
       "pathfinder 4wd                0        0        0        0       0   \n",
       "ram 1500 pickup 4wd           0        0        0        0      10   \n",
       "range rover                   0        0        0        0       0   \n",
       "sonata                        0        0        7        0       0   \n",
       "tiburon                       0        0        0        0       0   \n",
       "toyota tacoma 4wd             0        0        0        0       7   \n",
       "\n",
       "class                   subcompact  suv  \n",
       "model                                    \n",
       "4runner 4wd                      0    6  \n",
       "a4                               0    0  \n",
       "a4 quattro                       0    0  \n",
       "a6 quattro                       0    0  \n",
       "altima                           0    0  \n",
       "c1500 suburban 2wd               0    5  \n",
       "camry                            0    0  \n",
       "camry solara                     0    0  \n",
       "caravan 2wd                      0    0  \n",
       "civic                            9    0  \n",
       "corolla                          0    0  \n",
       "corvette                         0    0  \n",
       "dakota pickup 4wd                0    0  \n",
       "durango 4wd                      0    7  \n",
       "expedition 2wd                   0    3  \n",
       "explorer 4wd                     0    6  \n",
       "f150 pickup 4wd                  0    0  \n",
       "forester awd                     0    6  \n",
       "grand cherokee 4wd               0    8  \n",
       "grand prix                       0    0  \n",
       "gti                              0    0  \n",
       "impreza awd                      4    0  \n",
       "jetta                            0    0  \n",
       "k1500 tahoe 4wd                  0    4  \n",
       "land cruiser wagon 4wd           0    2  \n",
       "malibu                           0    0  \n",
       "maxima                           0    0  \n",
       "mountaineer 4wd                  0    4  \n",
       "mustang                          9    0  \n",
       "navigator 2wd                    0    3  \n",
       "new beetle                       6    0  \n",
       "passat                           0    0  \n",
       "pathfinder 4wd                   0    4  \n",
       "ram 1500 pickup 4wd              0    0  \n",
       "range rover                      0    4  \n",
       "sonata                           0    0  \n",
       "tiburon                          7    0  \n",
       "toyota tacoma 4wd                0    0  "
      ]
     },
     "execution_count": 9,
     "metadata": {},
     "output_type": "execute_result"
    }
   ],
   "source": [
    "observed = pd.crosstab(mpg.model, mpg['class'])\n",
    "observed"
   ]
  },
  {
   "cell_type": "code",
   "execution_count": 10,
   "id": "172e824d",
   "metadata": {},
   "outputs": [
    {
     "name": "stdout",
     "output_type": "stream",
     "text": [
      "Observed\n",
      "[[ 0  0  0  0  0  0  6]\n",
      " [ 0  7  0  0  0  0  0]\n",
      " [ 0  8  0  0  0  0  0]\n",
      " [ 0  0  3  0  0  0  0]\n",
      " [ 0  2  4  0  0  0  0]\n",
      " [ 0  0  0  0  0  0  5]\n",
      " [ 0  0  7  0  0  0  0]\n",
      " [ 0  7  0  0  0  0  0]\n",
      " [ 0  0  0 11  0  0  0]\n",
      " [ 0  0  0  0  0  9  0]\n",
      " [ 0  5  0  0  0  0  0]\n",
      " [ 5  0  0  0  0  0  0]\n",
      " [ 0  0  0  0  9  0  0]\n",
      " [ 0  0  0  0  0  0  7]\n",
      " [ 0  0  0  0  0  0  3]\n",
      " [ 0  0  0  0  0  0  6]\n",
      " [ 0  0  0  0  7  0  0]\n",
      " [ 0  0  0  0  0  0  6]\n",
      " [ 0  0  0  0  0  0  8]\n",
      " [ 0  0  5  0  0  0  0]\n",
      " [ 0  5  0  0  0  0  0]\n",
      " [ 0  4  0  0  0  4  0]\n",
      " [ 0  9  0  0  0  0  0]\n",
      " [ 0  0  0  0  0  0  4]\n",
      " [ 0  0  0  0  0  0  2]\n",
      " [ 0  0  5  0  0  0  0]\n",
      " [ 0  0  3  0  0  0  0]\n",
      " [ 0  0  0  0  0  0  4]\n",
      " [ 0  0  0  0  0  9  0]\n",
      " [ 0  0  0  0  0  0  3]\n",
      " [ 0  0  0  0  0  6  0]\n",
      " [ 0  0  7  0  0  0  0]\n",
      " [ 0  0  0  0  0  0  4]\n",
      " [ 0  0  0  0 10  0  0]\n",
      " [ 0  0  0  0  0  0  4]\n",
      " [ 0  0  7  0  0  0  0]\n",
      " [ 0  0  0  0  0  7  0]\n",
      " [ 0  0  0  0  7  0  0]]\n",
      "---\n",
      "Expected\n",
      "\n",
      "[[0 1 1 0 0 0 1]\n",
      " [0 1 1 0 0 1 1]\n",
      " [0 1 1 0 1 1 2]\n",
      " [0 0 0 0 0 0 0]\n",
      " [0 1 1 0 0 0 1]\n",
      " [0 1 0 0 0 0 1]\n",
      " [0 1 1 0 0 1 1]\n",
      " [0 1 1 0 0 1 1]\n",
      " [0 2 1 0 1 1 2]\n",
      " [0 1 1 0 1 1 2]\n",
      " [0 1 0 0 0 0 1]\n",
      " [0 1 0 0 0 0 1]\n",
      " [0 1 1 0 1 1 2]\n",
      " [0 1 1 0 0 1 1]\n",
      " [0 0 0 0 0 0 0]\n",
      " [0 1 1 0 0 0 1]\n",
      " [0 1 1 0 0 1 1]\n",
      " [0 1 1 0 0 0 1]\n",
      " [0 1 1 0 1 1 2]\n",
      " [0 1 0 0 0 0 1]\n",
      " [0 1 0 0 0 0 1]\n",
      " [0 1 1 0 1 1 2]\n",
      " [0 1 1 0 1 1 2]\n",
      " [0 0 0 0 0 0 1]\n",
      " [0 0 0 0 0 0 0]\n",
      " [0 1 0 0 0 0 1]\n",
      " [0 0 0 0 0 0 0]\n",
      " [0 0 0 0 0 0 1]\n",
      " [0 1 1 0 1 1 2]\n",
      " [0 0 0 0 0 0 0]\n",
      " [0 1 1 0 0 0 1]\n",
      " [0 1 1 0 0 1 1]\n",
      " [0 0 0 0 0 0 1]\n",
      " [0 2 1 0 1 1 2]\n",
      " [0 0 0 0 0 0 1]\n",
      " [0 1 1 0 0 1 1]\n",
      " [0 1 1 0 0 1 1]\n",
      " [0 1 1 0 0 1 1]]\n",
      "---\n",
      "\n",
      "chi^2 = 1366.4231\n",
      "p.    = 0.0000\n"
     ]
    }
   ],
   "source": [
    "# H0: there is no association between model and class\n",
    "# Ha: there is a association between model and class\n",
    "alpha = 0.05\n",
    "\n",
    "chi2, p, degf, expected = stats.chi2_contingency(observed)\n",
    "print('Observed')\n",
    "print(observed.values)\n",
    "print('---\\nExpected\\n')\n",
    "print(expected.astype(int))\n",
    "print('---\\n')\n",
    "print(f'chi^2 = {chi2:.4f}') # ':.4f' means that chi2 will be rounded to 4 decimal places\n",
    "print(f'p.    = {p:.4f}')"
   ]
  },
  {
   "cell_type": "code",
   "execution_count": 11,
   "id": "f0396bee",
   "metadata": {},
   "outputs": [
    {
     "name": "stdout",
     "output_type": "stream",
     "text": [
      "We reject H0 that:\n",
      " there is no association between model and class\n"
     ]
    }
   ],
   "source": [
    "null_hypothesis =  'there is no association between model and class'\n",
    "alpha = 0.05\n",
    "if p < alpha:\n",
    "    print('We reject H0 that:\\n', null_hypothesis)\n",
    "else:\n",
    "    print('We fail to reject H0 ')"
   ]
  },
  {
   "cell_type": "code",
   "execution_count": 23,
   "id": "67f68e4a",
   "metadata": {},
   "outputs": [
    {
     "data": {
      "text/html": [
       "<div>\n",
       "<style scoped>\n",
       "    .dataframe tbody tr th:only-of-type {\n",
       "        vertical-align: middle;\n",
       "    }\n",
       "\n",
       "    .dataframe tbody tr th {\n",
       "        vertical-align: top;\n",
       "    }\n",
       "\n",
       "    .dataframe thead th {\n",
       "        text-align: right;\n",
       "    }\n",
       "</style>\n",
       "<table border=\"1\" class=\"dataframe\">\n",
       "  <thead>\n",
       "    <tr style=\"text-align: right;\">\n",
       "      <th></th>\n",
       "      <th>emp_no</th>\n",
       "      <th>gender</th>\n",
       "      <th>dept_no</th>\n",
       "      <th>dept_name</th>\n",
       "    </tr>\n",
       "  </thead>\n",
       "  <tbody>\n",
       "    <tr>\n",
       "      <th>0</th>\n",
       "      <td>10017</td>\n",
       "      <td>F</td>\n",
       "      <td>d001</td>\n",
       "      <td>Marketing</td>\n",
       "    </tr>\n",
       "    <tr>\n",
       "      <th>1</th>\n",
       "      <td>10058</td>\n",
       "      <td>M</td>\n",
       "      <td>d001</td>\n",
       "      <td>Marketing</td>\n",
       "    </tr>\n",
       "    <tr>\n",
       "      <th>2</th>\n",
       "      <td>10140</td>\n",
       "      <td>F</td>\n",
       "      <td>d001</td>\n",
       "      <td>Marketing</td>\n",
       "    </tr>\n",
       "    <tr>\n",
       "      <th>3</th>\n",
       "      <td>10228</td>\n",
       "      <td>F</td>\n",
       "      <td>d001</td>\n",
       "      <td>Marketing</td>\n",
       "    </tr>\n",
       "    <tr>\n",
       "      <th>4</th>\n",
       "      <td>10239</td>\n",
       "      <td>F</td>\n",
       "      <td>d001</td>\n",
       "      <td>Marketing</td>\n",
       "    </tr>\n",
       "  </tbody>\n",
       "</table>\n",
       "</div>"
      ],
      "text/plain": [
       "   emp_no gender dept_no  dept_name\n",
       "0   10017      F    d001  Marketing\n",
       "1   10058      M    d001  Marketing\n",
       "2   10140      F    d001  Marketing\n",
       "3   10228      F    d001  Marketing\n",
       "4   10239      F    d001  Marketing"
      ]
     },
     "execution_count": 23,
     "metadata": {},
     "output_type": "execute_result"
    }
   ],
   "source": [
    "#3\n",
    "# Use the data from the employees database to answer these questions:\n",
    "\n",
    "# Is an employee's gender independent of whether an employee works in sales or marketing? \n",
    "#(only look at current employees)\n",
    "\n",
    "# Is an employee's gender independent of whether or not they are or have been a manager?\n",
    "\n",
    "from env import host, user, password\n",
    "\n",
    "url = f'mysql+pymysql://{user}:{password}@{host}/employees'\n",
    "\n",
    "query = \"\"\"\n",
    "select emp_no, gender, dept_no, dept_name\n",
    "from employees e\n",
    "join salaries s using(emp_no)\n",
    "join dept_emp de using(emp_no)\n",
    "join departments d using(dept_no)\n",
    "where s.to_date > now() and\n",
    "d.dept_name in ('Sales', 'Marketing');\n",
    "\"\"\"\n",
    "\n",
    "e_df = pd.read_sql(query, url)\n",
    "e_df.head()"
   ]
  },
  {
   "cell_type": "code",
   "execution_count": 25,
   "id": "ad39d956",
   "metadata": {},
   "outputs": [
    {
     "data": {
      "text/html": [
       "<div>\n",
       "<style scoped>\n",
       "    .dataframe tbody tr th:only-of-type {\n",
       "        vertical-align: middle;\n",
       "    }\n",
       "\n",
       "    .dataframe tbody tr th {\n",
       "        vertical-align: top;\n",
       "    }\n",
       "\n",
       "    .dataframe thead th {\n",
       "        text-align: right;\n",
       "    }\n",
       "</style>\n",
       "<table border=\"1\" class=\"dataframe\">\n",
       "  <thead>\n",
       "    <tr style=\"text-align: right;\">\n",
       "      <th>dept_name</th>\n",
       "      <th>Marketing</th>\n",
       "      <th>Sales</th>\n",
       "    </tr>\n",
       "    <tr>\n",
       "      <th>gender</th>\n",
       "      <th></th>\n",
       "      <th></th>\n",
       "    </tr>\n",
       "  </thead>\n",
       "  <tbody>\n",
       "    <tr>\n",
       "      <th>F</th>\n",
       "      <td>6429</td>\n",
       "      <td>16698</td>\n",
       "    </tr>\n",
       "    <tr>\n",
       "      <th>M</th>\n",
       "      <td>9823</td>\n",
       "      <td>25302</td>\n",
       "    </tr>\n",
       "  </tbody>\n",
       "</table>\n",
       "</div>"
      ],
      "text/plain": [
       "dept_name  Marketing  Sales\n",
       "gender                     \n",
       "F               6429  16698\n",
       "M               9823  25302"
      ]
     },
     "execution_count": 25,
     "metadata": {},
     "output_type": "execute_result"
    }
   ],
   "source": [
    "#3\n",
    "# Is an employee's gender independent of whether an employee works in sales or marketing? \n",
    "# (only look at current employees)\n",
    "\n",
    "# H0: there is no association between gender and department\n",
    "# Ha: there is an association between gender and department\n",
    "\n",
    "observed = pd.crosstab(e_df.gender, e_df.dept_name)\n",
    "observed"
   ]
  },
  {
   "cell_type": "code",
   "execution_count": 27,
   "id": "e274e431",
   "metadata": {},
   "outputs": [
    {
     "name": "stdout",
     "output_type": "stream",
     "text": [
      "Observed\n",
      "[[ 6429 16698]\n",
      " [ 9823 25302]]\n",
      "---\n",
      "Expected\n",
      "\n",
      "[[ 6452 16674]\n",
      " [ 9799 25325]]\n",
      "---\n",
      "\n",
      "chi^2 = 0.1855\n",
      "p.    = 0.6667\n",
      "We fail to reject H0 \n"
     ]
    }
   ],
   "source": [
    "chi2, p, degf, expected = stats.chi2_contingency(observed)\n",
    "\n",
    "alpha = 0.05\n",
    "\n",
    "chi2, p, degf, expected = stats.chi2_contingency(observed)\n",
    "print('Observed')\n",
    "print(observed.values)\n",
    "print('---\\nExpected\\n')\n",
    "print(expected.astype(int))\n",
    "print('---\\n')\n",
    "print(f'chi^2 = {chi2:.4f}') # ':.4f' means that chi2 will be rounded to 4 decimal places\n",
    "print(f'p.    = {p:.4f}')\n",
    "\n",
    "null_hypothesis =  'there is no association between gender and department'\n",
    "alpha = 0.05\n",
    "if p < alpha:\n",
    "    print('We reject H0 that:\\n', null_hypothesis)\n",
    "else:\n",
    "    print('We fail to reject H0 ')"
   ]
  },
  {
   "cell_type": "code",
   "execution_count": 28,
   "id": "a6d53b98",
   "metadata": {},
   "outputs": [
    {
     "data": {
      "text/html": [
       "<div>\n",
       "<style scoped>\n",
       "    .dataframe tbody tr th:only-of-type {\n",
       "        vertical-align: middle;\n",
       "    }\n",
       "\n",
       "    .dataframe tbody tr th {\n",
       "        vertical-align: top;\n",
       "    }\n",
       "\n",
       "    .dataframe thead th {\n",
       "        text-align: right;\n",
       "    }\n",
       "</style>\n",
       "<table border=\"1\" class=\"dataframe\">\n",
       "  <thead>\n",
       "    <tr style=\"text-align: right;\">\n",
       "      <th></th>\n",
       "      <th>emp_no</th>\n",
       "      <th>gender</th>\n",
       "      <th>from_date</th>\n",
       "    </tr>\n",
       "  </thead>\n",
       "  <tbody>\n",
       "    <tr>\n",
       "      <th>0</th>\n",
       "      <td>110022</td>\n",
       "      <td>M</td>\n",
       "      <td>1985-01-01</td>\n",
       "    </tr>\n",
       "    <tr>\n",
       "      <th>1</th>\n",
       "      <td>110039</td>\n",
       "      <td>M</td>\n",
       "      <td>1991-10-01</td>\n",
       "    </tr>\n",
       "    <tr>\n",
       "      <th>2</th>\n",
       "      <td>110085</td>\n",
       "      <td>M</td>\n",
       "      <td>1985-01-01</td>\n",
       "    </tr>\n",
       "    <tr>\n",
       "      <th>3</th>\n",
       "      <td>110114</td>\n",
       "      <td>F</td>\n",
       "      <td>1989-12-17</td>\n",
       "    </tr>\n",
       "    <tr>\n",
       "      <th>4</th>\n",
       "      <td>110183</td>\n",
       "      <td>F</td>\n",
       "      <td>1985-01-01</td>\n",
       "    </tr>\n",
       "  </tbody>\n",
       "</table>\n",
       "</div>"
      ],
      "text/plain": [
       "   emp_no gender   from_date\n",
       "0  110022      M  1985-01-01\n",
       "1  110039      M  1991-10-01\n",
       "2  110085      M  1985-01-01\n",
       "3  110114      F  1989-12-17\n",
       "4  110183      F  1985-01-01"
      ]
     },
     "execution_count": 28,
     "metadata": {},
     "output_type": "execute_result"
    }
   ],
   "source": [
    "#3\n",
    "# Is an employee's gender independent of whether or not they are or have been a manager?\n",
    "\n",
    "url = f'mysql+pymysql://{user}:{password}@{host}/employees'\n",
    "\n",
    "query = \"\"\"\n",
    "select emp_no, gender, from_date\n",
    "from employees e\n",
    "join dept_manager dm using(emp_no);\n",
    "\"\"\"\n",
    "\n",
    "e_df = pd.read_sql(query, url)\n",
    "# H0: there is no association between gender and department\n",
    "# Ha: there is an association between gender and departmente_df.head()"
   ]
  },
  {
   "cell_type": "code",
   "execution_count": 30,
   "id": "927cd3e1",
   "metadata": {},
   "outputs": [
    {
     "data": {
      "text/html": [
       "<div>\n",
       "<style scoped>\n",
       "    .dataframe tbody tr th:only-of-type {\n",
       "        vertical-align: middle;\n",
       "    }\n",
       "\n",
       "    .dataframe tbody tr th {\n",
       "        vertical-align: top;\n",
       "    }\n",
       "\n",
       "    .dataframe thead th {\n",
       "        text-align: right;\n",
       "    }\n",
       "</style>\n",
       "<table border=\"1\" class=\"dataframe\">\n",
       "  <thead>\n",
       "    <tr style=\"text-align: right;\">\n",
       "      <th>from_date</th>\n",
       "      <th>1985-01-01</th>\n",
       "      <th>1988-09-09</th>\n",
       "      <th>1988-10-17</th>\n",
       "      <th>1989-05-06</th>\n",
       "      <th>1989-12-17</th>\n",
       "      <th>1991-03-07</th>\n",
       "      <th>1991-04-08</th>\n",
       "      <th>1991-09-12</th>\n",
       "      <th>1991-10-01</th>\n",
       "      <th>1992-03-21</th>\n",
       "      <th>1992-04-25</th>\n",
       "      <th>1992-08-02</th>\n",
       "      <th>1992-09-08</th>\n",
       "      <th>1994-06-28</th>\n",
       "      <th>1996-01-03</th>\n",
       "      <th>1996-08-30</th>\n",
       "    </tr>\n",
       "    <tr>\n",
       "      <th>gender</th>\n",
       "      <th></th>\n",
       "      <th></th>\n",
       "      <th></th>\n",
       "      <th></th>\n",
       "      <th></th>\n",
       "      <th></th>\n",
       "      <th></th>\n",
       "      <th></th>\n",
       "      <th></th>\n",
       "      <th></th>\n",
       "      <th></th>\n",
       "      <th></th>\n",
       "      <th></th>\n",
       "      <th></th>\n",
       "      <th></th>\n",
       "      <th></th>\n",
       "    </tr>\n",
       "  </thead>\n",
       "  <tbody>\n",
       "    <tr>\n",
       "      <th>F</th>\n",
       "      <td>4</td>\n",
       "      <td>1</td>\n",
       "      <td>1</td>\n",
       "      <td>1</td>\n",
       "      <td>1</td>\n",
       "      <td>0</td>\n",
       "      <td>1</td>\n",
       "      <td>1</td>\n",
       "      <td>0</td>\n",
       "      <td>1</td>\n",
       "      <td>1</td>\n",
       "      <td>0</td>\n",
       "      <td>1</td>\n",
       "      <td>0</td>\n",
       "      <td>0</td>\n",
       "      <td>0</td>\n",
       "    </tr>\n",
       "    <tr>\n",
       "      <th>M</th>\n",
       "      <td>5</td>\n",
       "      <td>0</td>\n",
       "      <td>0</td>\n",
       "      <td>0</td>\n",
       "      <td>0</td>\n",
       "      <td>1</td>\n",
       "      <td>0</td>\n",
       "      <td>0</td>\n",
       "      <td>1</td>\n",
       "      <td>0</td>\n",
       "      <td>0</td>\n",
       "      <td>1</td>\n",
       "      <td>0</td>\n",
       "      <td>1</td>\n",
       "      <td>1</td>\n",
       "      <td>1</td>\n",
       "    </tr>\n",
       "  </tbody>\n",
       "</table>\n",
       "</div>"
      ],
      "text/plain": [
       "from_date  1985-01-01  1988-09-09  1988-10-17  1989-05-06  1989-12-17  \\\n",
       "gender                                                                  \n",
       "F                   4           1           1           1           1   \n",
       "M                   5           0           0           0           0   \n",
       "\n",
       "from_date  1991-03-07  1991-04-08  1991-09-12  1991-10-01  1992-03-21  \\\n",
       "gender                                                                  \n",
       "F                   0           1           1           0           1   \n",
       "M                   1           0           0           1           0   \n",
       "\n",
       "from_date  1992-04-25  1992-08-02  1992-09-08  1994-06-28  1996-01-03  \\\n",
       "gender                                                                  \n",
       "F                   1           0           1           0           0   \n",
       "M                   0           1           0           1           1   \n",
       "\n",
       "from_date  1996-08-30  \n",
       "gender                 \n",
       "F                   0  \n",
       "M                   1  "
      ]
     },
     "execution_count": 30,
     "metadata": {},
     "output_type": "execute_result"
    }
   ],
   "source": [
    "# H0: there is no association between gender and being a department manager\n",
    "# Ha: there is an association between gender and being a department manager\n",
    "\n",
    "observed = pd.crosstab(e_df.gender, e_df.from_date)\n",
    "observed"
   ]
  },
  {
   "cell_type": "code",
   "execution_count": 31,
   "id": "1a126b8d",
   "metadata": {},
   "outputs": [
    {
     "name": "stdout",
     "output_type": "stream",
     "text": [
      "Observed\n",
      "[[4 1 1 1 1 0 1 1 0 1 1 0 1 0 0 0]\n",
      " [5 0 0 0 0 1 0 0 1 0 0 1 0 1 1 1]]\n",
      "---\n",
      "Expected\n",
      "\n",
      "[[4 0 0 0 0 0 0 0 0 0 0 0 0 0 0 0]\n",
      " [4 0 0 0 0 0 0 0 0 0 0 0 0 0 0 0]]\n",
      "---\n",
      "\n",
      "chi^2 = 15.0490\n",
      "p.    = 0.4479\n",
      "We fail to reject H0 \n"
     ]
    }
   ],
   "source": [
    "chi2, p, degf, expected = stats.chi2_contingency(observed)\n",
    "print('Observed')\n",
    "print(observed.values)\n",
    "print('---\\nExpected\\n')\n",
    "print(expected.astype(int))\n",
    "print('---\\n')\n",
    "print(f'chi^2 = {chi2:.4f}') # ':.4f' means that chi2 will be rounded to 4 decimal places\n",
    "print(f'p.    = {p:.4f}')\n",
    "\n",
    "null_hypothesis =  'there is no association between gender and being a department manager'\n",
    "alpha = 0.05\n",
    "if p < alpha:\n",
    "    print('We reject H0 that:\\n', null_hypothesis)\n",
    "else:\n",
    "    print('We fail to reject H0 ')"
   ]
  },
  {
   "cell_type": "code",
   "execution_count": null,
   "id": "6f2fd390",
   "metadata": {},
   "outputs": [],
   "source": []
  }
 ],
 "metadata": {
  "kernelspec": {
   "display_name": "Python 3",
   "language": "python",
   "name": "python3"
  },
  "language_info": {
   "codemirror_mode": {
    "name": "ipython",
    "version": 3
   },
   "file_extension": ".py",
   "mimetype": "text/x-python",
   "name": "python",
   "nbconvert_exporter": "python",
   "pygments_lexer": "ipython3",
   "version": "3.8.8"
  }
 },
 "nbformat": 4,
 "nbformat_minor": 5
}
