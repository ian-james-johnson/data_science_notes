{
 "cells": [
  {
   "cell_type": "markdown",
   "id": "edaad727",
   "metadata": {},
   "source": [
    "For each of the following questions, formulate a null and alternative hypothesis \n",
    "(be as specific as you can be), then give an example of what a true positive, \n",
    "true negative, type I and type II errors would look like. Note that some of \n",
    "the questions are intentionally phrased in a vague way. It is your job to reword \n",
    "these as more precise questions that could be tested.\n"
   ]
  },
  {
   "cell_type": "markdown",
   "id": "7a1dc445",
   "metadata": {},
   "source": [
    "1\n",
    "Has the network latency gone up since we switched internet service providers?\n",
    "\n",
    "H0 = the network latency has not gone up since we switched ISP\n",
    "H1 = the network latency has gone up since we switched ISP\n",
    "\n",
    "True positive:\n",
    "the network latency has increased, and our test also says that the latency has increased\n",
    "\n",
    "True negative:\n",
    "the network latency has not increased, and our test also says that the latency has not increased\n",
    "\n",
    "Type I error = false positive:\n",
    "the network latency has not increased, but our test says that the latency has increased\n",
    "\n",
    "Type II error = false negative:\n",
    "the network latency has increased, but our test says that the latency has not increased"
   ]
  },
  {
   "cell_type": "markdown",
   "id": "bd121393",
   "metadata": {},
   "source": [
    "2\n",
    "Is the website redesign any good?\n",
    "\n",
    "H0 = the website redesign is good\n",
    "H1 = the website redesign is not good\n",
    "\n",
    "True positive:\n",
    "the website redesign is not good, and our test says that the website redesign is not good\n",
    "\n",
    "True negative:\n",
    "the website redesign is good, and our test says that the website redesign is good\n",
    "\n",
    "Type I error = false positive:\n",
    "the website redesign is good, and our test says that the website redesign is not good\n",
    "\n",
    "Type II error = false negative:\n",
    "the website redesign is not good, and our test says that the website redesign is good\n"
   ]
  },
  {
   "cell_type": "markdown",
   "id": "73be3c06",
   "metadata": {},
   "source": [
    "3\n",
    "Is our television ad driving more sales?\n",
    "\n",
    "H0 = the television ad is not driving more sales\n",
    "H1 = the television ad is driving more sales\n",
    "\n",
    "True positive:\n",
    "the television ad is driving more sales, and our test says that the television ad is driving more sales\n",
    "\n",
    "True negative:\n",
    "the television ad is not driving more sales, and our test says that the television ad is not driving more sales\n",
    "\n",
    "Type I error = false positive:\n",
    "the television ad is not driving more sales, and our test says that the television ad is driving more sales\n",
    "\n",
    "Type II error = false negative:\n",
    "the television ad is driving more sales, and our test says that the television ad is not driving more sales"
   ]
  },
  {
   "cell_type": "code",
   "execution_count": 2,
   "id": "aa1b562c",
   "metadata": {},
   "outputs": [],
   "source": [
    "from math import sqrt\n",
    "from scipy import stats\n",
    "import matplotlib.pyplot as plt\n",
    "import numpy as np\n",
    "import pandas as pd"
   ]
  },
  {
   "cell_type": "markdown",
   "id": "34ffefe8",
   "metadata": {},
   "source": [
    "4\n",
    "Ace Realty wants to determine whether the average time it takes to sell homes is different for its two offices. \n",
    "A sample of 40 sales from office #1 revealed a mean of 90 days and a standard deviation of 15 days. \n",
    "A sample of 50 sales from office #2 revealed a mean of 100 days and a standard deviation of 20 days. \n",
    "Use a .05 level of significance."
   ]
  },
  {
   "cell_type": "code",
   "execution_count": null,
   "id": "a0b10895",
   "metadata": {},
   "outputs": [],
   "source": [
    "#4\n",
    "# we are comparing the average time it takes each group to make a sale\n"
   ]
  }
 ],
 "metadata": {
  "kernelspec": {
   "display_name": "Python 3",
   "language": "python",
   "name": "python3"
  },
  "language_info": {
   "codemirror_mode": {
    "name": "ipython",
    "version": 3
   },
   "file_extension": ".py",
   "mimetype": "text/x-python",
   "name": "python",
   "nbconvert_exporter": "python",
   "pygments_lexer": "ipython3",
   "version": "3.8.8"
  }
 },
 "nbformat": 4,
 "nbformat_minor": 5
}
